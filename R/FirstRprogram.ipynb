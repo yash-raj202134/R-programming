{
 "cells": [
  {
   "cell_type": "code",
   "execution_count": 5,
   "id": "25267d5a",
   "metadata": {},
   "outputs": [
    {
     "name": "stdout",
     "output_type": "stream",
     "text": [
      "[1] \"Hello World !\"\n"
     ]
    },
    {
     "data": {
      "text/html": [
       "'Multi-line comments\\nare awesome '"
      ],
      "text/latex": [
       "'Multi-line comments\\textbackslash{}nare awesome '"
      ],
      "text/markdown": [
       "'Multi-line comments\\nare awesome '"
      ],
      "text/plain": [
       "[1] \"Multi-line comments\\nare awesome \""
      ]
     },
     "metadata": {},
     "output_type": "display_data"
    }
   ],
   "source": [
    "string <- \"Hello World !\"\n",
    "# string variable is created and assigned string \"Hello world\" using '<-'\n",
    "print(string)\n",
    "\"Multi-line comments\n",
    "are awesome \""
   ]
  },
  {
   "cell_type": "code",
   "execution_count": 15,
   "id": "8bbca013",
   "metadata": {},
   "outputs": [
    {
     "data": {
      "image/png": "[encoded data removed]",
      "text/plain": [
       "plot without title"
      ]
     },
     "metadata": {
      "image/png": {
       "height": 420,
       "width": 420
      }
     },
     "output_type": "display_data"
    }
   ],
   "source": [
    "plot(2:10)"
   ]
  },
  {
   "cell_type": "code",
   "execution_count": 14,
   "id": "acaad9ce",
   "metadata": {},
   "outputs": [
    {
     "data": {
      "image/png": "[encoded data removed]",
      "text/plain": [
       "plot without title"
      ]
     },
     "metadata": {
      "image/png": {
       "height": 420,
       "width": 420
      }
     },
     "output_type": "display_data"
    }
   ],
   "source": [
    "plot(2:1000)"
   ]
  },
  {
   "cell_type": "code",
   "execution_count": 77,
   "id": "bb1aa27b",
   "metadata": {},
   "outputs": [
    {
     "data": {
      "image/png": "[encoded data removed]",
      "text/plain": [
       "Plot with title \"My Graph(sample)\""
      ]
     },
     "metadata": {
      "image/png": {
       "height": 420,
       "width": 420
      }
     },
     "output_type": "display_data"
    }
   ],
   "source": [
    "sample <- c(1,4,9,16,25,36,49,64,81,100)\n",
    "plot(sample,type='l',main=\"My Graph(sample)\",xlab=\"X-axis\",ylab=\"Y-axis\",col='red')"
   ]
  },
  {
   "cell_type": "markdown",
   "id": "18baec51",
   "metadata": {},
   "source": [
    "# Data Frames in R"
   ]
  },
  {
   "cell_type": "code",
   "execution_count": 2,
   "id": "71b608e3",
   "metadata": {},
   "outputs": [
    {
     "data": {
      "text/html": [
       "<style>\n",
       ".list-inline {list-style: none; margin:0; padding: 0}\n",
       ".list-inline>li {display: inline-block}\n",
       ".list-inline>li:not(:last-child)::after {content: \"\\00b7\"; padding: 0 .5ex}\n",
       "</style>\n",
       "<ol class=list-inline><li>-2</li><li>3</li><li>5</li><li>4.5</li></ol>\n"
      ],
      "text/latex": [
       "\\begin{enumerate*}\n",
       "\\item -2\n",
       "\\item 3\n",
       "\\item 5\n",
       "\\item 4.5\n",
       "\\end{enumerate*}\n"
      ],
      "text/markdown": [
       "1. -2\n",
       "2. 3\n",
       "3. 5\n",
       "4. 4.5\n",
       "\n",
       "\n"
      ],
      "text/plain": [
       "[1] -2.0  3.0  5.0  4.5"
      ]
     },
     "metadata": {},
     "output_type": "display_data"
    }
   ],
   "source": [
    "sample <- c(-2,3,5,4.5)\n",
    "sample"
   ]
  },
  {
   "cell_type": "code",
   "execution_count": 3,
   "id": "e48938b3",
   "metadata": {},
   "outputs": [],
   "source": [
    "names = c(\"Virat\",\"Rohit\",\"Surya\",\"Hardik\",\"Jadeja\")"
   ]
  },
  {
   "cell_type": "code",
   "execution_count": 4,
   "id": "2b6ed723",
   "metadata": {},
   "outputs": [],
   "source": [
    "matches = c(102,90,34,50,67)"
   ]
  },
  {
   "cell_type": "code",
   "execution_count": 6,
   "id": "9b90a5bc",
   "metadata": {},
   "outputs": [],
   "source": [
    "runs = c(566,345,463,334,34)"
   ]
  },
  {
   "cell_type": "code",
   "execution_count": 8,
   "id": "a186f091",
   "metadata": {},
   "outputs": [],
   "source": [
    "sixes = c(23,56,23,12,23)"
   ]
  },
  {
   "cell_type": "code",
   "execution_count": 10,
   "id": "38e950c6",
   "metadata": {},
   "outputs": [],
   "source": [
    "fours = c(45,34,35,33,25)"
   ]
  },
  {
   "cell_type": "code",
   "execution_count": 12,
   "id": "0b7d226e",
   "metadata": {},
   "outputs": [
    {
     "data": {
      "text/html": [
       "<table class=\"dataframe\">\n",
       "<caption>A data.frame: 5 × 5</caption>\n",
       "<thead>\n",
       "\t<tr><th scope=col>names</th><th scope=col>matches</th><th scope=col>runs</th><th scope=col>sixes</th><th scope=col>fours</th></tr>\n",
       "\t<tr><th scope=col>&lt;chr&gt;</th><th scope=col>&lt;dbl&gt;</th><th scope=col>&lt;dbl&gt;</th><th scope=col>&lt;dbl&gt;</th><th scope=col>&lt;dbl&gt;</th></tr>\n",
       "</thead>\n",
       "<tbody>\n",
       "\t<tr><td>Virat </td><td>102</td><td>566</td><td>23</td><td>45</td></tr>\n",
       "\t<tr><td>Rohit </td><td> 90</td><td>345</td><td>56</td><td>34</td></tr>\n",
       "\t<tr><td>Surya </td><td> 34</td><td>463</td><td>23</td><td>35</td></tr>\n",
       "\t<tr><td>Hardik</td><td> 50</td><td>334</td><td>12</td><td>33</td></tr>\n",
       "\t<tr><td>Jadeja</td><td> 67</td><td> 34</td><td>23</td><td>25</td></tr>\n",
       "</tbody>\n",
       "</table>\n"
      ],
      "text/latex": [
       "A data.frame: 5 × 5\n",
       "\\begin{tabular}{lllll}\n",
       " names & matches & runs & sixes & fours\\\\\n",
       " <chr> & <dbl> & <dbl> & <dbl> & <dbl>\\\\\n",
       "\\hline\n",
       "\t Virat  & 102 & 566 & 23 & 45\\\\\n",
       "\t Rohit  &  90 & 345 & 56 & 34\\\\\n",
       "\t Surya  &  34 & 463 & 23 & 35\\\\\n",
       "\t Hardik &  50 & 334 & 12 & 33\\\\\n",
       "\t Jadeja &  67 &  34 & 23 & 25\\\\\n",
       "\\end{tabular}\n"
      ],
      "text/markdown": [
       "\n",
       "A data.frame: 5 × 5\n",
       "\n",
       "| names &lt;chr&gt; | matches &lt;dbl&gt; | runs &lt;dbl&gt; | sixes &lt;dbl&gt; | fours &lt;dbl&gt; |\n",
       "|---|---|---|---|---|\n",
       "| Virat  | 102 | 566 | 23 | 45 |\n",
       "| Rohit  |  90 | 345 | 56 | 34 |\n",
       "| Surya  |  34 | 463 | 23 | 35 |\n",
       "| Hardik |  50 | 334 | 12 | 33 |\n",
       "| Jadeja |  67 |  34 | 23 | 25 |\n",
       "\n"
      ],
      "text/plain": [
       "  names  matches runs sixes fours\n",
       "1 Virat  102     566  23    45   \n",
       "2 Rohit   90     345  56    34   \n",
       "3 Surya   34     463  23    35   \n",
       "4 Hardik  50     334  12    33   \n",
       "5 Jadeja  67      34  23    25   "
      ]
     },
     "metadata": {},
     "output_type": "display_data"
    }
   ],
   "source": [
    "stats = data.frame(names,matches,runs,sixes,fours)\n",
    "stats"
   ]
  },
  {
   "cell_type": "code",
   "execution_count": 25,
   "id": "3a0fc9eb",
   "metadata": {},
   "outputs": [],
   "source": [
    "ratio <- stats$runs/stats$matches"
   ]
  },
  {
   "cell_type": "code",
   "execution_count": 36,
   "id": "cc6e4d14",
   "metadata": {},
   "outputs": [],
   "source": [
    "stats = data.frame(sno,names,matches,runs,sixes,fours)"
   ]
  },
  {
   "cell_type": "code",
   "execution_count": 35,
   "id": "b2a786c9",
   "metadata": {},
   "outputs": [],
   "source": [
    "sno <- c(1,2,3,4,5)"
   ]
  },
  {
   "cell_type": "code",
   "execution_count": 37,
   "id": "c0de0b4a",
   "metadata": {},
   "outputs": [
    {
     "data": {
      "text/html": [
       "<table class=\"dataframe\">\n",
       "<caption>A data.frame: 5 × 6</caption>\n",
       "<thead>\n",
       "\t<tr><th scope=col>sno</th><th scope=col>names</th><th scope=col>matches</th><th scope=col>runs</th><th scope=col>sixes</th><th scope=col>fours</th></tr>\n",
       "\t<tr><th scope=col>&lt;dbl&gt;</th><th scope=col>&lt;chr&gt;</th><th scope=col>&lt;dbl&gt;</th><th scope=col>&lt;dbl&gt;</th><th scope=col>&lt;dbl&gt;</th><th scope=col>&lt;dbl&gt;</th></tr>\n",
       "</thead>\n",
       "<tbody>\n",
       "\t<tr><td>1</td><td>Virat </td><td>102</td><td>566</td><td>23</td><td>45</td></tr>\n",
       "\t<tr><td>2</td><td>Rohit </td><td> 90</td><td>345</td><td>56</td><td>34</td></tr>\n",
       "\t<tr><td>3</td><td>Surya </td><td> 34</td><td>463</td><td>23</td><td>35</td></tr>\n",
       "\t<tr><td>4</td><td>Hardik</td><td> 50</td><td>334</td><td>12</td><td>33</td></tr>\n",
       "\t<tr><td>5</td><td>Jadeja</td><td> 67</td><td> 34</td><td>23</td><td>25</td></tr>\n",
       "</tbody>\n",
       "</table>\n"
      ],
      "text/latex": [
       "A data.frame: 5 × 6\n",
       "\\begin{tabular}{llllll}\n",
       " sno & names & matches & runs & sixes & fours\\\\\n",
       " <dbl> & <chr> & <dbl> & <dbl> & <dbl> & <dbl>\\\\\n",
       "\\hline\n",
       "\t 1 & Virat  & 102 & 566 & 23 & 45\\\\\n",
       "\t 2 & Rohit  &  90 & 345 & 56 & 34\\\\\n",
       "\t 3 & Surya  &  34 & 463 & 23 & 35\\\\\n",
       "\t 4 & Hardik &  50 & 334 & 12 & 33\\\\\n",
       "\t 5 & Jadeja &  67 &  34 & 23 & 25\\\\\n",
       "\\end{tabular}\n"
      ],
      "text/markdown": [
       "\n",
       "A data.frame: 5 × 6\n",
       "\n",
       "| sno &lt;dbl&gt; | names &lt;chr&gt; | matches &lt;dbl&gt; | runs &lt;dbl&gt; | sixes &lt;dbl&gt; | fours &lt;dbl&gt; |\n",
       "|---|---|---|---|---|---|\n",
       "| 1 | Virat  | 102 | 566 | 23 | 45 |\n",
       "| 2 | Rohit  |  90 | 345 | 56 | 34 |\n",
       "| 3 | Surya  |  34 | 463 | 23 | 35 |\n",
       "| 4 | Hardik |  50 | 334 | 12 | 33 |\n",
       "| 5 | Jadeja |  67 |  34 | 23 | 25 |\n",
       "\n"
      ],
      "text/plain": [
       "  sno names  matches runs sixes fours\n",
       "1 1   Virat  102     566  23    45   \n",
       "2 2   Rohit   90     345  56    34   \n",
       "3 3   Surya   34     463  23    35   \n",
       "4 4   Hardik  50     334  12    33   \n",
       "5 5   Jadeja  67      34  23    25   "
      ]
     },
     "metadata": {},
     "output_type": "display_data"
    }
   ],
   "source": [
    "stats"
   ]
  },
  {
   "cell_type": "code",
   "execution_count": 46,
   "id": "14f75a93",
   "metadata": {},
   "outputs": [
    {
     "data": {
      "image/png": "[encoded data removed]",
      "text/plain": [
       "plot without title"
      ]
     },
     "metadata": {
      "image/png": {
       "height": 420,
       "width": 420
      }
     },
     "output_type": "display_data"
    }
   ],
   "source": [
    "barplot(runs,sno)"
   ]
  },
  {
   "cell_type": "code",
   "execution_count": 48,
   "id": "81d70514",
   "metadata": {},
   "outputs": [
    {
     "name": "stderr",
     "output_type": "stream",
     "text": [
      "Installing package into 'C:/Users/Yash/AppData/Local/R/win-library/4.2'\n",
      "(as 'lib' is unspecified)\n",
      "\n"
     ]
    },
    {
     "name": "stdout",
     "output_type": "stream",
     "text": [
      "package 'plotrix' successfully unpacked and MD5 sums checked\n",
      "\n",
      "The downloaded binary packages are in\n",
      "\tC:\\Users\\Yash\\AppData\\Local\\Temp\\RtmpYlTRXa\\downloaded_packages\n"
     ]
    }
   ],
   "source": [
    "install.packages('plotrix')"
   ]
  },
  {
   "cell_type": "code",
   "execution_count": 53,
   "id": "fa3926ce",
   "metadata": {},
   "outputs": [
    {
     "data": {
      "text/html": [
       "<table class=\"dataframe\">\n",
       "<caption>A data.frame: 5 × 6</caption>\n",
       "<thead>\n",
       "\t<tr><th scope=col>sno</th><th scope=col>names</th><th scope=col>matches</th><th scope=col>runs</th><th scope=col>sixes</th><th scope=col>fours</th></tr>\n",
       "\t<tr><th scope=col>&lt;dbl&gt;</th><th scope=col>&lt;chr&gt;</th><th scope=col>&lt;dbl&gt;</th><th scope=col>&lt;dbl&gt;</th><th scope=col>&lt;dbl&gt;</th><th scope=col>&lt;dbl&gt;</th></tr>\n",
       "</thead>\n",
       "<tbody>\n",
       "\t<tr><td>1</td><td>Virat </td><td>102</td><td>566</td><td>23</td><td>45</td></tr>\n",
       "\t<tr><td>2</td><td>Rohit </td><td> 90</td><td>345</td><td>56</td><td>34</td></tr>\n",
       "\t<tr><td>3</td><td>Surya </td><td> 34</td><td>463</td><td>23</td><td>35</td></tr>\n",
       "\t<tr><td>4</td><td>Hardik</td><td> 50</td><td>334</td><td>12</td><td>33</td></tr>\n",
       "\t<tr><td>5</td><td>Jadeja</td><td> 67</td><td> 34</td><td>23</td><td>25</td></tr>\n",
       "</tbody>\n",
       "</table>\n"
      ],
      "text/latex": [
       "A data.frame: 5 × 6\n",
       "\\begin{tabular}{llllll}\n",
       " sno & names & matches & runs & sixes & fours\\\\\n",
       " <dbl> & <chr> & <dbl> & <dbl> & <dbl> & <dbl>\\\\\n",
       "\\hline\n",
       "\t 1 & Virat  & 102 & 566 & 23 & 45\\\\\n",
       "\t 2 & Rohit  &  90 & 345 & 56 & 34\\\\\n",
       "\t 3 & Surya  &  34 & 463 & 23 & 35\\\\\n",
       "\t 4 & Hardik &  50 & 334 & 12 & 33\\\\\n",
       "\t 5 & Jadeja &  67 &  34 & 23 & 25\\\\\n",
       "\\end{tabular}\n"
      ],
      "text/markdown": [
       "\n",
       "A data.frame: 5 × 6\n",
       "\n",
       "| sno &lt;dbl&gt; | names &lt;chr&gt; | matches &lt;dbl&gt; | runs &lt;dbl&gt; | sixes &lt;dbl&gt; | fours &lt;dbl&gt; |\n",
       "|---|---|---|---|---|---|\n",
       "| 1 | Virat  | 102 | 566 | 23 | 45 |\n",
       "| 2 | Rohit  |  90 | 345 | 56 | 34 |\n",
       "| 3 | Surya  |  34 | 463 | 23 | 35 |\n",
       "| 4 | Hardik |  50 | 334 | 12 | 33 |\n",
       "| 5 | Jadeja |  67 |  34 | 23 | 25 |\n",
       "\n"
      ],
      "text/plain": [
       "  sno names  matches runs sixes fours\n",
       "1 1   Virat  102     566  23    45   \n",
       "2 2   Rohit   90     345  56    34   \n",
       "3 3   Surya   34     463  23    35   \n",
       "4 4   Hardik  50     334  12    33   \n",
       "5 5   Jadeja  67      34  23    25   "
      ]
     },
     "metadata": {},
     "output_type": "display_data"
    }
   ],
   "source": [
    "stats"
   ]
  },
  {
   "cell_type": "code",
   "execution_count": 65,
   "id": "97447054",
   "metadata": {},
   "outputs": [
    {
     "data": {
      "image/png": "[encoded data removed]",
      "text/plain": [
       "Plot with title \"Runs of players\""
      ]
     },
     "metadata": {
      "image/png": {
       "height": 420,
       "width": 420
      }
     },
     "output_type": "display_data"
    }
   ],
   "source": [
    "library(plotrix)\n",
    "\n",
    "pie3D(matches, labels = names, col = \"green\",\n",
    "main = \"Runs of players\",\n",
    "labelcol = \"blue\", col.main = \"black\")"
   ]
  },
  {
   "cell_type": "code",
   "execution_count": 66,
   "id": "8a416d3e",
   "metadata": {},
   "outputs": [],
   "source": [
    "write.csv(stats,\"stats.csv\")"
   ]
  },
  {
   "cell_type": "code",
   "execution_count": 2,
   "id": "ef60855c",
   "metadata": {},
   "outputs": [
    {
     "data": {
      "text/html": [
       "<table class=\"dataframe\">\n",
       "<caption>A data.frame: 6 × 6</caption>\n",
       "<thead>\n",
       "\t<tr><th scope=col>names</th><th scope=col>Y</th><th scope=col>played</th><th scope=col>won</th><th scope=col>lost</th><th scope=col>victory</th></tr>\n",
       "\t<tr><th scope=col>&lt;chr&gt;</th><th scope=col>&lt;int&gt;</th><th scope=col>&lt;int&gt;</th><th scope=col>&lt;int&gt;</th><th scope=col>&lt;int&gt;</th><th scope=col>&lt;dbl&gt;</th></tr>\n",
       "</thead>\n",
       "<tbody>\n",
       "\t<tr><td>Mahi   </td><td>2012</td><td>45</td><td>22</td><td>12</td><td>0.4888889</td></tr>\n",
       "\t<tr><td>Sourav </td><td>2004</td><td>49</td><td>21</td><td>13</td><td>0.4285714</td></tr>\n",
       "\t<tr><td>Azhar  </td><td>2000</td><td>47</td><td>14</td><td>14</td><td>0.2978723</td></tr>\n",
       "\t<tr><td>Sunny  </td><td>1980</td><td>47</td><td> 9</td><td> 8</td><td>0.1914894</td></tr>\n",
       "\t<tr><td>Pataudi</td><td>1965</td><td>40</td><td> 9</td><td>19</td><td>0.2250000</td></tr>\n",
       "\t<tr><td>Dravid </td><td>2008</td><td>25</td><td> 8</td><td> 6</td><td>0.3200000</td></tr>\n",
       "</tbody>\n",
       "</table>\n"
      ],
      "text/latex": [
       "A data.frame: 6 × 6\n",
       "\\begin{tabular}{llllll}\n",
       " names & Y & played & won & lost & victory\\\\\n",
       " <chr> & <int> & <int> & <int> & <int> & <dbl>\\\\\n",
       "\\hline\n",
       "\t Mahi    & 2012 & 45 & 22 & 12 & 0.4888889\\\\\n",
       "\t Sourav  & 2004 & 49 & 21 & 13 & 0.4285714\\\\\n",
       "\t Azhar   & 2000 & 47 & 14 & 14 & 0.2978723\\\\\n",
       "\t Sunny   & 1980 & 47 &  9 &  8 & 0.1914894\\\\\n",
       "\t Pataudi & 1965 & 40 &  9 & 19 & 0.2250000\\\\\n",
       "\t Dravid  & 2008 & 25 &  8 &  6 & 0.3200000\\\\\n",
       "\\end{tabular}\n"
      ],
      "text/markdown": [
       "\n",
       "A data.frame: 6 × 6\n",
       "\n",
       "| names &lt;chr&gt; | Y &lt;int&gt; | played &lt;int&gt; | won &lt;int&gt; | lost &lt;int&gt; | victory &lt;dbl&gt; |\n",
       "|---|---|---|---|---|---|\n",
       "| Mahi    | 2012 | 45 | 22 | 12 | 0.4888889 |\n",
       "| Sourav  | 2004 | 49 | 21 | 13 | 0.4285714 |\n",
       "| Azhar   | 2000 | 47 | 14 | 14 | 0.2978723 |\n",
       "| Sunny   | 1980 | 47 |  9 |  8 | 0.1914894 |\n",
       "| Pataudi | 1965 | 40 |  9 | 19 | 0.2250000 |\n",
       "| Dravid  | 2008 | 25 |  8 |  6 | 0.3200000 |\n",
       "\n"
      ],
      "text/plain": [
       "  names   Y    played won lost victory  \n",
       "1 Mahi    2012 45     22  12   0.4888889\n",
       "2 Sourav  2004 49     21  13   0.4285714\n",
       "3 Azhar   2000 47     14  14   0.2978723\n",
       "4 Sunny   1980 47      9   8   0.1914894\n",
       "5 Pataudi 1965 40      9  19   0.2250000\n",
       "6 Dravid  2008 25      8   6   0.3200000"
      ]
     },
     "metadata": {},
     "output_type": "display_data"
    }
   ],
   "source": [
    "cap = read.csv(\"CaptaincyData.csv\")\n",
    "cap"
   ]
  },
  {
   "cell_type": "raw",
   "id": "658917d8",
   "metadata": {},
   "source": [
    "Slicing DataFrame "
   ]
  },
  {
   "cell_type": "code",
   "execution_count": 93,
   "id": "314682a5",
   "metadata": {},
   "outputs": [
    {
     "data": {
      "text/html": [
       "<table class=\"dataframe\">\n",
       "<caption>A data.frame: 1 × 6</caption>\n",
       "<thead>\n",
       "\t<tr><th></th><th scope=col>names</th><th scope=col>Y</th><th scope=col>played</th><th scope=col>won</th><th scope=col>lost</th><th scope=col>victory</th></tr>\n",
       "\t<tr><th></th><th scope=col>&lt;chr&gt;</th><th scope=col>&lt;int&gt;</th><th scope=col>&lt;int&gt;</th><th scope=col>&lt;int&gt;</th><th scope=col>&lt;int&gt;</th><th scope=col>&lt;dbl&gt;</th></tr>\n",
       "</thead>\n",
       "<tbody>\n",
       "\t<tr><th scope=row>1</th><td>Mahi</td><td>2012</td><td>45</td><td>22</td><td>12</td><td>0.49</td></tr>\n",
       "</tbody>\n",
       "</table>\n"
      ],
      "text/latex": [
       "A data.frame: 1 × 6\n",
       "\\begin{tabular}{r|llllll}\n",
       "  & names & Y & played & won & lost & victory\\\\\n",
       "  & <chr> & <int> & <int> & <int> & <int> & <dbl>\\\\\n",
       "\\hline\n",
       "\t1 & Mahi & 2012 & 45 & 22 & 12 & 0.49\\\\\n",
       "\\end{tabular}\n"
      ],
      "text/markdown": [
       "\n",
       "A data.frame: 1 × 6\n",
       "\n",
       "| <!--/--> | names &lt;chr&gt; | Y &lt;int&gt; | played &lt;int&gt; | won &lt;int&gt; | lost &lt;int&gt; | victory &lt;dbl&gt; |\n",
       "|---|---|---|---|---|---|---|\n",
       "| 1 | Mahi | 2012 | 45 | 22 | 12 | 0.49 |\n",
       "\n"
      ],
      "text/plain": [
       "  names Y    played won lost victory\n",
       "1 Mahi  2012 45     22  12   0.49   "
      ]
     },
     "metadata": {},
     "output_type": "display_data"
    }
   ],
   "source": [
    "cap[1,] "
   ]
  },
  {
   "cell_type": "code",
   "execution_count": 104,
   "id": "23498781",
   "metadata": {},
   "outputs": [
    {
     "data": {
      "text/html": [
       "<table class=\"dataframe\">\n",
       "<caption>A data.frame: 6 × 1</caption>\n",
       "<thead>\n",
       "\t<tr><th scope=col>names</th></tr>\n",
       "\t<tr><th scope=col>&lt;chr&gt;</th></tr>\n",
       "</thead>\n",
       "<tbody>\n",
       "\t<tr><td>Mahi   </td></tr>\n",
       "\t<tr><td>Sourav </td></tr>\n",
       "\t<tr><td>Azhar  </td></tr>\n",
       "\t<tr><td>Sunny  </td></tr>\n",
       "\t<tr><td>Pataudi</td></tr>\n",
       "\t<tr><td>Dravid </td></tr>\n",
       "</tbody>\n",
       "</table>\n"
      ],
      "text/latex": [
       "A data.frame: 6 × 1\n",
       "\\begin{tabular}{l}\n",
       " names\\\\\n",
       " <chr>\\\\\n",
       "\\hline\n",
       "\t Mahi   \\\\\n",
       "\t Sourav \\\\\n",
       "\t Azhar  \\\\\n",
       "\t Sunny  \\\\\n",
       "\t Pataudi\\\\\n",
       "\t Dravid \\\\\n",
       "\\end{tabular}\n"
      ],
      "text/markdown": [
       "\n",
       "A data.frame: 6 × 1\n",
       "\n",
       "| names &lt;chr&gt; |\n",
       "|---|\n",
       "| Mahi    |\n",
       "| Sourav  |\n",
       "| Azhar   |\n",
       "| Sunny   |\n",
       "| Pataudi |\n",
       "| Dravid  |\n",
       "\n"
      ],
      "text/plain": [
       "  names  \n",
       "1 Mahi   \n",
       "2 Sourav \n",
       "3 Azhar  \n",
       "4 Sunny  \n",
       "5 Pataudi\n",
       "6 Dravid "
      ]
     },
     "metadata": {},
     "output_type": "display_data"
    }
   ],
   "source": [
    "cap[1]"
   ]
  },
  {
   "cell_type": "code",
   "execution_count": 107,
   "id": "20a03811",
   "metadata": {},
   "outputs": [
    {
     "data": {
      "text/html": [
       "<table class=\"dataframe\">\n",
       "<caption>A data.frame: 2 × 6</caption>\n",
       "<thead>\n",
       "\t<tr><th></th><th scope=col>names</th><th scope=col>Y</th><th scope=col>played</th><th scope=col>won</th><th scope=col>lost</th><th scope=col>victory</th></tr>\n",
       "\t<tr><th></th><th scope=col>&lt;chr&gt;</th><th scope=col>&lt;int&gt;</th><th scope=col>&lt;int&gt;</th><th scope=col>&lt;int&gt;</th><th scope=col>&lt;int&gt;</th><th scope=col>&lt;dbl&gt;</th></tr>\n",
       "</thead>\n",
       "<tbody>\n",
       "\t<tr><th scope=row>2</th><td>Sourav</td><td>2004</td><td>49</td><td>21</td><td>13</td><td>0.43</td></tr>\n",
       "\t<tr><th scope=row>3</th><td>Azhar </td><td>2000</td><td>47</td><td>14</td><td>14</td><td>0.30</td></tr>\n",
       "</tbody>\n",
       "</table>\n"
      ],
      "text/latex": [
       "A data.frame: 2 × 6\n",
       "\\begin{tabular}{r|llllll}\n",
       "  & names & Y & played & won & lost & victory\\\\\n",
       "  & <chr> & <int> & <int> & <int> & <int> & <dbl>\\\\\n",
       "\\hline\n",
       "\t2 & Sourav & 2004 & 49 & 21 & 13 & 0.43\\\\\n",
       "\t3 & Azhar  & 2000 & 47 & 14 & 14 & 0.30\\\\\n",
       "\\end{tabular}\n"
      ],
      "text/markdown": [
       "\n",
       "A data.frame: 2 × 6\n",
       "\n",
       "| <!--/--> | names &lt;chr&gt; | Y &lt;int&gt; | played &lt;int&gt; | won &lt;int&gt; | lost &lt;int&gt; | victory &lt;dbl&gt; |\n",
       "|---|---|---|---|---|---|---|\n",
       "| 2 | Sourav | 2004 | 49 | 21 | 13 | 0.43 |\n",
       "| 3 | Azhar  | 2000 | 47 | 14 | 14 | 0.30 |\n",
       "\n"
      ],
      "text/plain": [
       "  names  Y    played won lost victory\n",
       "2 Sourav 2004 49     21  13   0.43   \n",
       "3 Azhar  2000 47     14  14   0.30   "
      ]
     },
     "metadata": {},
     "output_type": "display_data"
    }
   ],
   "source": [
    "cap[c(2,3),]"
   ]
  },
  {
   "cell_type": "code",
   "execution_count": 123,
   "id": "36301486",
   "metadata": {},
   "outputs": [
    {
     "data": {
      "text/html": [
       "<table class=\"dataframe\">\n",
       "<caption>A data.frame: 6 × 2</caption>\n",
       "<thead>\n",
       "\t<tr><th scope=col>Y</th><th scope=col>played</th></tr>\n",
       "\t<tr><th scope=col>&lt;int&gt;</th><th scope=col>&lt;int&gt;</th></tr>\n",
       "</thead>\n",
       "<tbody>\n",
       "\t<tr><td>2012</td><td>45</td></tr>\n",
       "\t<tr><td>2004</td><td>49</td></tr>\n",
       "\t<tr><td>2000</td><td>47</td></tr>\n",
       "\t<tr><td>1980</td><td>47</td></tr>\n",
       "\t<tr><td>1965</td><td>40</td></tr>\n",
       "\t<tr><td>2008</td><td>25</td></tr>\n",
       "</tbody>\n",
       "</table>\n"
      ],
      "text/latex": [
       "A data.frame: 6 × 2\n",
       "\\begin{tabular}{ll}\n",
       " Y & played\\\\\n",
       " <int> & <int>\\\\\n",
       "\\hline\n",
       "\t 2012 & 45\\\\\n",
       "\t 2004 & 49\\\\\n",
       "\t 2000 & 47\\\\\n",
       "\t 1980 & 47\\\\\n",
       "\t 1965 & 40\\\\\n",
       "\t 2008 & 25\\\\\n",
       "\\end{tabular}\n"
      ],
      "text/markdown": [
       "\n",
       "A data.frame: 6 × 2\n",
       "\n",
       "| Y &lt;int&gt; | played &lt;int&gt; |\n",
       "|---|---|\n",
       "| 2012 | 45 |\n",
       "| 2004 | 49 |\n",
       "| 2000 | 47 |\n",
       "| 1980 | 47 |\n",
       "| 1965 | 40 |\n",
       "| 2008 | 25 |\n",
       "\n"
      ],
      "text/plain": [
       "  Y    played\n",
       "1 2012 45    \n",
       "2 2004 49    \n",
       "3 2000 47    \n",
       "4 1980 47    \n",
       "5 1965 40    \n",
       "6 2008 25    "
      ]
     },
     "metadata": {},
     "output_type": "display_data"
    }
   ],
   "source": [
    "cap[c(2,3)]"
   ]
  },
  {
   "cell_type": "code",
   "execution_count": 125,
   "id": "e17c7336",
   "metadata": {},
   "outputs": [
    {
     "data": {
      "text/html": [
       "<table class=\"dataframe\">\n",
       "<caption>A data.frame: 6 × 3</caption>\n",
       "<thead>\n",
       "\t<tr><th scope=col>names</th><th scope=col>Y</th><th scope=col>played</th></tr>\n",
       "\t<tr><th scope=col>&lt;chr&gt;</th><th scope=col>&lt;int&gt;</th><th scope=col>&lt;int&gt;</th></tr>\n",
       "</thead>\n",
       "<tbody>\n",
       "\t<tr><td>Mahi   </td><td>2012</td><td>45</td></tr>\n",
       "\t<tr><td>Sourav </td><td>2004</td><td>49</td></tr>\n",
       "\t<tr><td>Azhar  </td><td>2000</td><td>47</td></tr>\n",
       "\t<tr><td>Sunny  </td><td>1980</td><td>47</td></tr>\n",
       "\t<tr><td>Pataudi</td><td>1965</td><td>40</td></tr>\n",
       "\t<tr><td>Dravid </td><td>2008</td><td>25</td></tr>\n",
       "</tbody>\n",
       "</table>\n"
      ],
      "text/latex": [
       "A data.frame: 6 × 3\n",
       "\\begin{tabular}{lll}\n",
       " names & Y & played\\\\\n",
       " <chr> & <int> & <int>\\\\\n",
       "\\hline\n",
       "\t Mahi    & 2012 & 45\\\\\n",
       "\t Sourav  & 2004 & 49\\\\\n",
       "\t Azhar   & 2000 & 47\\\\\n",
       "\t Sunny   & 1980 & 47\\\\\n",
       "\t Pataudi & 1965 & 40\\\\\n",
       "\t Dravid  & 2008 & 25\\\\\n",
       "\\end{tabular}\n"
      ],
      "text/markdown": [
       "\n",
       "A data.frame: 6 × 3\n",
       "\n",
       "| names &lt;chr&gt; | Y &lt;int&gt; | played &lt;int&gt; |\n",
       "|---|---|---|\n",
       "| Mahi    | 2012 | 45 |\n",
       "| Sourav  | 2004 | 49 |\n",
       "| Azhar   | 2000 | 47 |\n",
       "| Sunny   | 1980 | 47 |\n",
       "| Pataudi | 1965 | 40 |\n",
       "| Dravid  | 2008 | 25 |\n",
       "\n"
      ],
      "text/plain": [
       "  names   Y    played\n",
       "1 Mahi    2012 45    \n",
       "2 Sourav  2004 49    \n",
       "3 Azhar   2000 47    \n",
       "4 Sunny   1980 47    \n",
       "5 Pataudi 1965 40    \n",
       "6 Dravid  2008 25    "
      ]
     },
     "metadata": {},
     "output_type": "display_data"
    }
   ],
   "source": [
    "cap[c(1,2,3)]"
   ]
  },
  {
   "cell_type": "code",
   "execution_count": 132,
   "id": "f2c5f4d1",
   "metadata": {},
   "outputs": [
    {
     "data": {
      "text/html": [
       "<table class=\"dataframe\">\n",
       "<caption>A data.frame: 4 × 6</caption>\n",
       "<thead>\n",
       "\t<tr><th></th><th scope=col>names</th><th scope=col>Y</th><th scope=col>played</th><th scope=col>won</th><th scope=col>lost</th><th scope=col>victory</th></tr>\n",
       "\t<tr><th></th><th scope=col>&lt;chr&gt;</th><th scope=col>&lt;int&gt;</th><th scope=col>&lt;int&gt;</th><th scope=col>&lt;int&gt;</th><th scope=col>&lt;int&gt;</th><th scope=col>&lt;dbl&gt;</th></tr>\n",
       "</thead>\n",
       "<tbody>\n",
       "\t<tr><th scope=row>1</th><td>Mahi  </td><td>2012</td><td>45</td><td>22</td><td>12</td><td>0.49</td></tr>\n",
       "\t<tr><th scope=row>2</th><td>Sourav</td><td>2004</td><td>49</td><td>21</td><td>13</td><td>0.43</td></tr>\n",
       "\t<tr><th scope=row>3</th><td>Azhar </td><td>2000</td><td>47</td><td>14</td><td>14</td><td>0.30</td></tr>\n",
       "\t<tr><th scope=row>4</th><td>Sunny </td><td>1980</td><td>47</td><td> 9</td><td> 8</td><td>0.19</td></tr>\n",
       "</tbody>\n",
       "</table>\n"
      ],
      "text/latex": [
       "A data.frame: 4 × 6\n",
       "\\begin{tabular}{r|llllll}\n",
       "  & names & Y & played & won & lost & victory\\\\\n",
       "  & <chr> & <int> & <int> & <int> & <int> & <dbl>\\\\\n",
       "\\hline\n",
       "\t1 & Mahi   & 2012 & 45 & 22 & 12 & 0.49\\\\\n",
       "\t2 & Sourav & 2004 & 49 & 21 & 13 & 0.43\\\\\n",
       "\t3 & Azhar  & 2000 & 47 & 14 & 14 & 0.30\\\\\n",
       "\t4 & Sunny  & 1980 & 47 &  9 &  8 & 0.19\\\\\n",
       "\\end{tabular}\n"
      ],
      "text/markdown": [
       "\n",
       "A data.frame: 4 × 6\n",
       "\n",
       "| <!--/--> | names &lt;chr&gt; | Y &lt;int&gt; | played &lt;int&gt; | won &lt;int&gt; | lost &lt;int&gt; | victory &lt;dbl&gt; |\n",
       "|---|---|---|---|---|---|---|\n",
       "| 1 | Mahi   | 2012 | 45 | 22 | 12 | 0.49 |\n",
       "| 2 | Sourav | 2004 | 49 | 21 | 13 | 0.43 |\n",
       "| 3 | Azhar  | 2000 | 47 | 14 | 14 | 0.30 |\n",
       "| 4 | Sunny  | 1980 | 47 |  9 |  8 | 0.19 |\n",
       "\n"
      ],
      "text/plain": [
       "  names  Y    played won lost victory\n",
       "1 Mahi   2012 45     22  12   0.49   \n",
       "2 Sourav 2004 49     21  13   0.43   \n",
       "3 Azhar  2000 47     14  14   0.30   \n",
       "4 Sunny  1980 47      9   8   0.19   "
      ]
     },
     "metadata": {},
     "output_type": "display_data"
    }
   ],
   "source": [
    "# Query: stats of all players who have played more than 45 matches\n",
    "cap[cap$played>=45,]"
   ]
  },
  {
   "cell_type": "code",
   "execution_count": 126,
   "id": "51dcd8ec",
   "metadata": {},
   "outputs": [
    {
     "data": {
      "text/html": [
       "<table class=\"dataframe\">\n",
       "<caption>A data.frame: 4 × 2</caption>\n",
       "<thead>\n",
       "\t<tr><th></th><th scope=col>names</th><th scope=col>victory</th></tr>\n",
       "\t<tr><th></th><th scope=col>&lt;chr&gt;</th><th scope=col>&lt;dbl&gt;</th></tr>\n",
       "</thead>\n",
       "<tbody>\n",
       "\t<tr><th scope=row>1</th><td>Mahi  </td><td>0.49</td></tr>\n",
       "\t<tr><th scope=row>2</th><td>Sourav</td><td>0.43</td></tr>\n",
       "\t<tr><th scope=row>3</th><td>Azhar </td><td>0.30</td></tr>\n",
       "\t<tr><th scope=row>4</th><td>Sunny </td><td>0.19</td></tr>\n",
       "</tbody>\n",
       "</table>\n"
      ],
      "text/latex": [
       "A data.frame: 4 × 2\n",
       "\\begin{tabular}{r|ll}\n",
       "  & names & victory\\\\\n",
       "  & <chr> & <dbl>\\\\\n",
       "\\hline\n",
       "\t1 & Mahi   & 0.49\\\\\n",
       "\t2 & Sourav & 0.43\\\\\n",
       "\t3 & Azhar  & 0.30\\\\\n",
       "\t4 & Sunny  & 0.19\\\\\n",
       "\\end{tabular}\n"
      ],
      "text/markdown": [
       "\n",
       "A data.frame: 4 × 2\n",
       "\n",
       "| <!--/--> | names &lt;chr&gt; | victory &lt;dbl&gt; |\n",
       "|---|---|---|\n",
       "| 1 | Mahi   | 0.49 |\n",
       "| 2 | Sourav | 0.43 |\n",
       "| 3 | Azhar  | 0.30 |\n",
       "| 4 | Sunny  | 0.19 |\n",
       "\n"
      ],
      "text/plain": [
       "  names  victory\n",
       "1 Mahi   0.49   \n",
       "2 Sourav 0.43   \n",
       "3 Azhar  0.30   \n",
       "4 Sunny  0.19   "
      ]
     },
     "metadata": {},
     "output_type": "display_data"
    }
   ],
   "source": [
    "# Query: name and victory of all players who have played more than 45 matches\n",
    "cap[cap$played>=45,c(1,6)]"
   ]
  },
  {
   "cell_type": "code",
   "execution_count": 130,
   "id": "2baf6f4f",
   "metadata": {},
   "outputs": [
    {
     "data": {
      "text/html": [
       "<table class=\"dataframe\">\n",
       "<caption>A data.frame: 6 × 6</caption>\n",
       "<thead>\n",
       "\t<tr><th scope=col>names</th><th scope=col>Y</th><th scope=col>played</th><th scope=col>won</th><th scope=col>lost</th><th scope=col>victory</th></tr>\n",
       "\t<tr><th scope=col>&lt;chr&gt;</th><th scope=col>&lt;int&gt;</th><th scope=col>&lt;int&gt;</th><th scope=col>&lt;int&gt;</th><th scope=col>&lt;int&gt;</th><th scope=col>&lt;dbl&gt;</th></tr>\n",
       "</thead>\n",
       "<tbody>\n",
       "\t<tr><td>Mahi   </td><td>2012</td><td>45</td><td>22</td><td>12</td><td>0.49</td></tr>\n",
       "\t<tr><td>Sourav </td><td>2004</td><td>49</td><td>21</td><td>13</td><td>0.43</td></tr>\n",
       "\t<tr><td>Azhar  </td><td>2000</td><td>47</td><td>14</td><td>14</td><td>0.30</td></tr>\n",
       "\t<tr><td>Sunny  </td><td>1980</td><td>47</td><td> 9</td><td> 8</td><td>0.19</td></tr>\n",
       "\t<tr><td>Pataudi</td><td>1965</td><td>40</td><td> 9</td><td>19</td><td>0.22</td></tr>\n",
       "\t<tr><td>Dravid </td><td>2008</td><td>25</td><td> 8</td><td> 6</td><td>0.32</td></tr>\n",
       "</tbody>\n",
       "</table>\n"
      ],
      "text/latex": [
       "A data.frame: 6 × 6\n",
       "\\begin{tabular}{llllll}\n",
       " names & Y & played & won & lost & victory\\\\\n",
       " <chr> & <int> & <int> & <int> & <int> & <dbl>\\\\\n",
       "\\hline\n",
       "\t Mahi    & 2012 & 45 & 22 & 12 & 0.49\\\\\n",
       "\t Sourav  & 2004 & 49 & 21 & 13 & 0.43\\\\\n",
       "\t Azhar   & 2000 & 47 & 14 & 14 & 0.30\\\\\n",
       "\t Sunny   & 1980 & 47 &  9 &  8 & 0.19\\\\\n",
       "\t Pataudi & 1965 & 40 &  9 & 19 & 0.22\\\\\n",
       "\t Dravid  & 2008 & 25 &  8 &  6 & 0.32\\\\\n",
       "\\end{tabular}\n"
      ],
      "text/markdown": [
       "\n",
       "A data.frame: 6 × 6\n",
       "\n",
       "| names &lt;chr&gt; | Y &lt;int&gt; | played &lt;int&gt; | won &lt;int&gt; | lost &lt;int&gt; | victory &lt;dbl&gt; |\n",
       "|---|---|---|---|---|---|\n",
       "| Mahi    | 2012 | 45 | 22 | 12 | 0.49 |\n",
       "| Sourav  | 2004 | 49 | 21 | 13 | 0.43 |\n",
       "| Azhar   | 2000 | 47 | 14 | 14 | 0.30 |\n",
       "| Sunny   | 1980 | 47 |  9 |  8 | 0.19 |\n",
       "| Pataudi | 1965 | 40 |  9 | 19 | 0.22 |\n",
       "| Dravid  | 2008 | 25 |  8 |  6 | 0.32 |\n",
       "\n"
      ],
      "text/plain": [
       "  names   Y    played won lost victory\n",
       "1 Mahi    2012 45     22  12   0.49   \n",
       "2 Sourav  2004 49     21  13   0.43   \n",
       "3 Azhar   2000 47     14  14   0.30   \n",
       "4 Sunny   1980 47      9   8   0.19   \n",
       "5 Pataudi 1965 40      9  19   0.22   \n",
       "6 Dravid  2008 25      8   6   0.32   "
      ]
     },
     "metadata": {},
     "output_type": "display_data"
    }
   ],
   "source": [
    "cap"
   ]
  },
  {
   "cell_type": "code",
   "execution_count": 133,
   "id": "b562cb3f",
   "metadata": {},
   "outputs": [
    {
     "data": {
      "text/html": [
       "<table class=\"dataframe\">\n",
       "<caption>A data.frame: 1 × 6</caption>\n",
       "<thead>\n",
       "\t<tr><th></th><th scope=col>names</th><th scope=col>Y</th><th scope=col>played</th><th scope=col>won</th><th scope=col>lost</th><th scope=col>victory</th></tr>\n",
       "\t<tr><th></th><th scope=col>&lt;chr&gt;</th><th scope=col>&lt;int&gt;</th><th scope=col>&lt;int&gt;</th><th scope=col>&lt;int&gt;</th><th scope=col>&lt;int&gt;</th><th scope=col>&lt;dbl&gt;</th></tr>\n",
       "</thead>\n",
       "<tbody>\n",
       "\t<tr><th scope=row>1</th><td>Mahi</td><td>2012</td><td>45</td><td>22</td><td>12</td><td>0.49</td></tr>\n",
       "</tbody>\n",
       "</table>\n"
      ],
      "text/latex": [
       "A data.frame: 1 × 6\n",
       "\\begin{tabular}{r|llllll}\n",
       "  & names & Y & played & won & lost & victory\\\\\n",
       "  & <chr> & <int> & <int> & <int> & <int> & <dbl>\\\\\n",
       "\\hline\n",
       "\t1 & Mahi & 2012 & 45 & 22 & 12 & 0.49\\\\\n",
       "\\end{tabular}\n"
      ],
      "text/markdown": [
       "\n",
       "A data.frame: 1 × 6\n",
       "\n",
       "| <!--/--> | names &lt;chr&gt; | Y &lt;int&gt; | played &lt;int&gt; | won &lt;int&gt; | lost &lt;int&gt; | victory &lt;dbl&gt; |\n",
       "|---|---|---|---|---|---|---|\n",
       "| 1 | Mahi | 2012 | 45 | 22 | 12 | 0.49 |\n",
       "\n"
      ],
      "text/plain": [
       "  names Y    played won lost victory\n",
       "1 Mahi  2012 45     22  12   0.49   "
      ]
     },
     "metadata": {},
     "output_type": "display_data"
    }
   ],
   "source": [
    "# Query: stats of all players who have victory more than 0.45\n",
    "cap[cap$victory>=0.45,]"
   ]
  },
  {
   "cell_type": "code",
   "execution_count": 140,
   "id": "fea2734c",
   "metadata": {},
   "outputs": [
    {
     "data": {
      "text/html": [
       "<table class=\"dataframe\">\n",
       "<caption>A data.frame: 6 × 2</caption>\n",
       "<thead>\n",
       "\t<tr><th scope=col>names</th><th scope=col>played</th></tr>\n",
       "\t<tr><th scope=col>&lt;chr&gt;</th><th scope=col>&lt;int&gt;</th></tr>\n",
       "</thead>\n",
       "<tbody>\n",
       "\t<tr><td>Mahi   </td><td>45</td></tr>\n",
       "\t<tr><td>Sourav </td><td>49</td></tr>\n",
       "\t<tr><td>Azhar  </td><td>47</td></tr>\n",
       "\t<tr><td>Sunny  </td><td>47</td></tr>\n",
       "\t<tr><td>Pataudi</td><td>40</td></tr>\n",
       "\t<tr><td>Dravid </td><td>25</td></tr>\n",
       "</tbody>\n",
       "</table>\n"
      ],
      "text/latex": [
       "A data.frame: 6 × 2\n",
       "\\begin{tabular}{ll}\n",
       " names & played\\\\\n",
       " <chr> & <int>\\\\\n",
       "\\hline\n",
       "\t Mahi    & 45\\\\\n",
       "\t Sourav  & 49\\\\\n",
       "\t Azhar   & 47\\\\\n",
       "\t Sunny   & 47\\\\\n",
       "\t Pataudi & 40\\\\\n",
       "\t Dravid  & 25\\\\\n",
       "\\end{tabular}\n"
      ],
      "text/markdown": [
       "\n",
       "A data.frame: 6 × 2\n",
       "\n",
       "| names &lt;chr&gt; | played &lt;int&gt; |\n",
       "|---|---|\n",
       "| Mahi    | 45 |\n",
       "| Sourav  | 49 |\n",
       "| Azhar   | 47 |\n",
       "| Sunny   | 47 |\n",
       "| Pataudi | 40 |\n",
       "| Dravid  | 25 |\n",
       "\n"
      ],
      "text/plain": [
       "  names   played\n",
       "1 Mahi    45    \n",
       "2 Sourav  49    \n",
       "3 Azhar   47    \n",
       "4 Sunny   47    \n",
       "5 Pataudi 40    \n",
       "6 Dravid  25    "
      ]
     },
     "metadata": {},
     "output_type": "display_data"
    }
   ],
   "source": [
    "cap[c('names','played')]"
   ]
  },
  {
   "cell_type": "code",
   "execution_count": 144,
   "id": "458bf418",
   "metadata": {},
   "outputs": [
    {
     "data": {
      "text/html": [
       "<style>\n",
       ".list-inline {list-style: none; margin:0; padding: 0}\n",
       ".list-inline>li {display: inline-block}\n",
       ".list-inline>li:not(:last-child)::after {content: \"\\00b7\"; padding: 0 .5ex}\n",
       "</style>\n",
       "<ol class=list-inline><li>22</li><li>21</li><li>14</li><li>9</li><li>9</li><li>8</li></ol>\n"
      ],
      "text/latex": [
       "\\begin{enumerate*}\n",
       "\\item 22\n",
       "\\item 21\n",
       "\\item 14\n",
       "\\item 9\n",
       "\\item 9\n",
       "\\item 8\n",
       "\\end{enumerate*}\n"
      ],
      "text/markdown": [
       "1. 22\n",
       "2. 21\n",
       "3. 14\n",
       "4. 9\n",
       "5. 9\n",
       "6. 8\n",
       "\n",
       "\n"
      ],
      "text/plain": [
       "[1] 22 21 14  9  9  8"
      ]
     },
     "metadata": {},
     "output_type": "display_data"
    }
   ],
   "source": [
    "cap[[4]]"
   ]
  },
  {
   "cell_type": "code",
   "execution_count": 145,
   "id": "461e8d81",
   "metadata": {},
   "outputs": [
    {
     "data": {
      "text/html": [
       "14"
      ],
      "text/latex": [
       "14"
      ],
      "text/markdown": [
       "14"
      ],
      "text/plain": [
       "[1] 14"
      ]
     },
     "metadata": {},
     "output_type": "display_data"
    }
   ],
   "source": [
    "cap[[4]][3]"
   ]
  },
  {
   "cell_type": "code",
   "execution_count": 150,
   "id": "fb21c2b1",
   "metadata": {},
   "outputs": [
    {
     "data": {
      "text/html": [
       "<table class=\"dataframe\">\n",
       "<caption>A data.frame: 6 × 6</caption>\n",
       "<thead>\n",
       "\t<tr><th scope=col>names</th><th scope=col>Y</th><th scope=col>played</th><th scope=col>won</th><th scope=col>lost</th><th scope=col>victory</th></tr>\n",
       "\t<tr><th scope=col>&lt;chr&gt;</th><th scope=col>&lt;int&gt;</th><th scope=col>&lt;int&gt;</th><th scope=col>&lt;int&gt;</th><th scope=col>&lt;int&gt;</th><th scope=col>&lt;dbl&gt;</th></tr>\n",
       "</thead>\n",
       "<tbody>\n",
       "\t<tr><td>Mahi   </td><td>2012</td><td>45</td><td>22</td><td>12</td><td>0.49</td></tr>\n",
       "\t<tr><td>Sourav </td><td>2004</td><td>49</td><td>21</td><td>13</td><td>0.43</td></tr>\n",
       "\t<tr><td>Azhar  </td><td>2000</td><td>47</td><td>14</td><td>14</td><td>0.30</td></tr>\n",
       "\t<tr><td>Sunny  </td><td>1980</td><td>47</td><td> 9</td><td> 8</td><td>0.19</td></tr>\n",
       "\t<tr><td>Pataudi</td><td>1965</td><td>40</td><td> 9</td><td>19</td><td>0.22</td></tr>\n",
       "\t<tr><td>Dravid </td><td>2008</td><td>25</td><td> 8</td><td> 6</td><td>0.32</td></tr>\n",
       "</tbody>\n",
       "</table>\n"
      ],
      "text/latex": [
       "A data.frame: 6 × 6\n",
       "\\begin{tabular}{llllll}\n",
       " names & Y & played & won & lost & victory\\\\\n",
       " <chr> & <int> & <int> & <int> & <int> & <dbl>\\\\\n",
       "\\hline\n",
       "\t Mahi    & 2012 & 45 & 22 & 12 & 0.49\\\\\n",
       "\t Sourav  & 2004 & 49 & 21 & 13 & 0.43\\\\\n",
       "\t Azhar   & 2000 & 47 & 14 & 14 & 0.30\\\\\n",
       "\t Sunny   & 1980 & 47 &  9 &  8 & 0.19\\\\\n",
       "\t Pataudi & 1965 & 40 &  9 & 19 & 0.22\\\\\n",
       "\t Dravid  & 2008 & 25 &  8 &  6 & 0.32\\\\\n",
       "\\end{tabular}\n"
      ],
      "text/markdown": [
       "\n",
       "A data.frame: 6 × 6\n",
       "\n",
       "| names &lt;chr&gt; | Y &lt;int&gt; | played &lt;int&gt; | won &lt;int&gt; | lost &lt;int&gt; | victory &lt;dbl&gt; |\n",
       "|---|---|---|---|---|---|\n",
       "| Mahi    | 2012 | 45 | 22 | 12 | 0.49 |\n",
       "| Sourav  | 2004 | 49 | 21 | 13 | 0.43 |\n",
       "| Azhar   | 2000 | 47 | 14 | 14 | 0.30 |\n",
       "| Sunny   | 1980 | 47 |  9 |  8 | 0.19 |\n",
       "| Pataudi | 1965 | 40 |  9 | 19 | 0.22 |\n",
       "| Dravid  | 2008 | 25 |  8 |  6 | 0.32 |\n",
       "\n"
      ],
      "text/plain": [
       "  names   Y    played won lost victory\n",
       "1 Mahi    2012 45     22  12   0.49   \n",
       "2 Sourav  2004 49     21  13   0.43   \n",
       "3 Azhar   2000 47     14  14   0.30   \n",
       "4 Sunny   1980 47      9   8   0.19   \n",
       "5 Pataudi 1965 40      9  19   0.22   \n",
       "6 Dravid  2008 25      8   6   0.32   "
      ]
     },
     "metadata": {},
     "output_type": "display_data"
    }
   ],
   "source": [
    "cap"
   ]
  },
  {
   "cell_type": "code",
   "execution_count": 156,
   "id": "374e948d",
   "metadata": {},
   "outputs": [
    {
     "data": {
      "text/html": [
       "<table class=\"dataframe\">\n",
       "<caption>A data.frame: 4 × 6</caption>\n",
       "<thead>\n",
       "\t<tr><th></th><th scope=col>names</th><th scope=col>Y</th><th scope=col>played</th><th scope=col>won</th><th scope=col>lost</th><th scope=col>victory</th></tr>\n",
       "\t<tr><th></th><th scope=col>&lt;chr&gt;</th><th scope=col>&lt;int&gt;</th><th scope=col>&lt;int&gt;</th><th scope=col>&lt;int&gt;</th><th scope=col>&lt;int&gt;</th><th scope=col>&lt;dbl&gt;</th></tr>\n",
       "</thead>\n",
       "<tbody>\n",
       "\t<tr><th scope=row>1</th><td>Mahi  </td><td>2012</td><td>45</td><td>22</td><td>12</td><td>0.49</td></tr>\n",
       "\t<tr><th scope=row>2</th><td>Sourav</td><td>2004</td><td>49</td><td>21</td><td>13</td><td>0.43</td></tr>\n",
       "\t<tr><th scope=row>4</th><td>Sunny </td><td>1980</td><td>47</td><td> 9</td><td> 8</td><td>0.19</td></tr>\n",
       "\t<tr><th scope=row>6</th><td>Dravid</td><td>2008</td><td>25</td><td> 8</td><td> 6</td><td>0.32</td></tr>\n",
       "</tbody>\n",
       "</table>\n"
      ],
      "text/latex": [
       "A data.frame: 4 × 6\n",
       "\\begin{tabular}{r|llllll}\n",
       "  & names & Y & played & won & lost & victory\\\\\n",
       "  & <chr> & <int> & <int> & <int> & <int> & <dbl>\\\\\n",
       "\\hline\n",
       "\t1 & Mahi   & 2012 & 45 & 22 & 12 & 0.49\\\\\n",
       "\t2 & Sourav & 2004 & 49 & 21 & 13 & 0.43\\\\\n",
       "\t4 & Sunny  & 1980 & 47 &  9 &  8 & 0.19\\\\\n",
       "\t6 & Dravid & 2008 & 25 &  8 &  6 & 0.32\\\\\n",
       "\\end{tabular}\n"
      ],
      "text/markdown": [
       "\n",
       "A data.frame: 4 × 6\n",
       "\n",
       "| <!--/--> | names &lt;chr&gt; | Y &lt;int&gt; | played &lt;int&gt; | won &lt;int&gt; | lost &lt;int&gt; | victory &lt;dbl&gt; |\n",
       "|---|---|---|---|---|---|---|\n",
       "| 1 | Mahi   | 2012 | 45 | 22 | 12 | 0.49 |\n",
       "| 2 | Sourav | 2004 | 49 | 21 | 13 | 0.43 |\n",
       "| 4 | Sunny  | 1980 | 47 |  9 |  8 | 0.19 |\n",
       "| 6 | Dravid | 2008 | 25 |  8 |  6 | 0.32 |\n",
       "\n"
      ],
      "text/plain": [
       "  names  Y    played won lost victory\n",
       "1 Mahi   2012 45     22  12   0.49   \n",
       "2 Sourav 2004 49     21  13   0.43   \n",
       "4 Sunny  1980 47      9   8   0.19   \n",
       "6 Dravid 2008 25      8   6   0.32   "
      ]
     },
     "metadata": {},
     "output_type": "display_data"
    }
   ],
   "source": [
    "# Create a subset from capaitancy df with the caps who have played >20 matches and lost < 14 matches\n",
    "\n",
    "subData <- cap[cap$played>20 & cap$lost<14,]\n",
    "subData"
   ]
  },
  {
   "cell_type": "code",
   "execution_count": 164,
   "id": "ac09c11a",
   "metadata": {},
   "outputs": [
    {
     "data": {
      "text/html": [
       "<table class=\"dataframe\">\n",
       "<caption>A data.frame: 3 × 3</caption>\n",
       "<thead>\n",
       "\t<tr><th></th><th scope=col>names</th><th scope=col>played</th><th scope=col>won</th></tr>\n",
       "\t<tr><th></th><th scope=col>&lt;chr&gt;</th><th scope=col>&lt;int&gt;</th><th scope=col>&lt;int&gt;</th></tr>\n",
       "</thead>\n",
       "<tbody>\n",
       "\t<tr><th scope=row>1</th><td>Mahi  </td><td>45</td><td>22</td></tr>\n",
       "\t<tr><th scope=row>2</th><td>Sourav</td><td>49</td><td>21</td></tr>\n",
       "\t<tr><th scope=row>6</th><td>Dravid</td><td>25</td><td> 8</td></tr>\n",
       "</tbody>\n",
       "</table>\n"
      ],
      "text/latex": [
       "A data.frame: 3 × 3\n",
       "\\begin{tabular}{r|lll}\n",
       "  & names & played & won\\\\\n",
       "  & <chr> & <int> & <int>\\\\\n",
       "\\hline\n",
       "\t1 & Mahi   & 45 & 22\\\\\n",
       "\t2 & Sourav & 49 & 21\\\\\n",
       "\t6 & Dravid & 25 &  8\\\\\n",
       "\\end{tabular}\n"
      ],
      "text/markdown": [
       "\n",
       "A data.frame: 3 × 3\n",
       "\n",
       "| <!--/--> | names &lt;chr&gt; | played &lt;int&gt; | won &lt;int&gt; |\n",
       "|---|---|---|---|\n",
       "| 1 | Mahi   | 45 | 22 |\n",
       "| 2 | Sourav | 49 | 21 |\n",
       "| 6 | Dravid | 25 |  8 |\n",
       "\n"
      ],
      "text/plain": [
       "  names  played won\n",
       "1 Mahi   45     22 \n",
       "2 Sourav 49     21 \n",
       "6 Dravid 25      8 "
      ]
     },
     "metadata": {},
     "output_type": "display_data"
    }
   ],
   "source": [
    "subData <- subset(cap,victory>0.3, select = c(\"names\",\"played\",\"won\"))\n",
    "subData"
   ]
  },
  {
   "cell_type": "code",
   "execution_count": 169,
   "id": "d13075c5",
   "metadata": {},
   "outputs": [
    {
     "data": {
      "text/html": [
       "<table class=\"dataframe\">\n",
       "<caption>A data.frame: 4 × 6</caption>\n",
       "<thead>\n",
       "\t<tr><th></th><th scope=col>names</th><th scope=col>Y</th><th scope=col>played</th><th scope=col>won</th><th scope=col>lost</th><th scope=col>victory</th></tr>\n",
       "\t<tr><th></th><th scope=col>&lt;chr&gt;</th><th scope=col>&lt;int&gt;</th><th scope=col>&lt;int&gt;</th><th scope=col>&lt;int&gt;</th><th scope=col>&lt;int&gt;</th><th scope=col>&lt;dbl&gt;</th></tr>\n",
       "</thead>\n",
       "<tbody>\n",
       "\t<tr><th scope=row>1</th><td>Mahi  </td><td>2012</td><td>45</td><td>22</td><td>12</td><td>0.49</td></tr>\n",
       "\t<tr><th scope=row>2</th><td>Sourav</td><td>2004</td><td>49</td><td>21</td><td>13</td><td>0.43</td></tr>\n",
       "\t<tr><th scope=row>4</th><td>Sunny </td><td>1980</td><td>47</td><td> 9</td><td> 8</td><td>0.19</td></tr>\n",
       "\t<tr><th scope=row>6</th><td>Dravid</td><td>2008</td><td>25</td><td> 8</td><td> 6</td><td>0.32</td></tr>\n",
       "</tbody>\n",
       "</table>\n"
      ],
      "text/latex": [
       "A data.frame: 4 × 6\n",
       "\\begin{tabular}{r|llllll}\n",
       "  & names & Y & played & won & lost & victory\\\\\n",
       "  & <chr> & <int> & <int> & <int> & <int> & <dbl>\\\\\n",
       "\\hline\n",
       "\t1 & Mahi   & 2012 & 45 & 22 & 12 & 0.49\\\\\n",
       "\t2 & Sourav & 2004 & 49 & 21 & 13 & 0.43\\\\\n",
       "\t4 & Sunny  & 1980 & 47 &  9 &  8 & 0.19\\\\\n",
       "\t6 & Dravid & 2008 & 25 &  8 &  6 & 0.32\\\\\n",
       "\\end{tabular}\n"
      ],
      "text/markdown": [
       "\n",
       "A data.frame: 4 × 6\n",
       "\n",
       "| <!--/--> | names &lt;chr&gt; | Y &lt;int&gt; | played &lt;int&gt; | won &lt;int&gt; | lost &lt;int&gt; | victory &lt;dbl&gt; |\n",
       "|---|---|---|---|---|---|---|\n",
       "| 1 | Mahi   | 2012 | 45 | 22 | 12 | 0.49 |\n",
       "| 2 | Sourav | 2004 | 49 | 21 | 13 | 0.43 |\n",
       "| 4 | Sunny  | 1980 | 47 |  9 |  8 | 0.19 |\n",
       "| 6 | Dravid | 2008 | 25 |  8 |  6 | 0.32 |\n",
       "\n"
      ],
      "text/plain": [
       "  names  Y    played won lost victory\n",
       "1 Mahi   2012 45     22  12   0.49   \n",
       "2 Sourav 2004 49     21  13   0.43   \n",
       "4 Sunny  1980 47      9   8   0.19   \n",
       "6 Dravid 2008 25      8   6   0.32   "
      ]
     },
     "metadata": {},
     "output_type": "display_data"
    }
   ],
   "source": [
    "subData <- subset(cap,played>20&lost<14)\n",
    "subData"
   ]
  },
  {
   "cell_type": "markdown",
   "id": "9efa0172",
   "metadata": {},
   "source": [
    "#creating matrices using dataframe"
   ]
  },
  {
   "cell_type": "code",
   "execution_count": 47,
   "id": "4b0a2dec",
   "metadata": {},
   "outputs": [
    {
     "name": "stdout",
     "output_type": "stream",
     "text": [
      "      col_1 col_2 col_3 col_4\n",
      "row_1     5     6     7     8\n",
      "row_2     9    10    11    12\n",
      "row_3    13    14    15    16\n"
     ]
    },
    {
     "data": {
      "text/html": [
       "<style>\n",
       ".list-inline {list-style: none; margin:0; padding: 0}\n",
       ".list-inline>li {display: inline-block}\n",
       ".list-inline>li:not(:last-child)::after {content: \"\\00b7\"; padding: 0 .5ex}\n",
       "</style>\n",
       "<ol class=list-inline><li>'matrix'</li><li>'array'</li></ol>\n"
      ],
      "text/latex": [
       "\\begin{enumerate*}\n",
       "\\item 'matrix'\n",
       "\\item 'array'\n",
       "\\end{enumerate*}\n"
      ],
      "text/markdown": [
       "1. 'matrix'\n",
       "2. 'array'\n",
       "\n",
       "\n"
      ],
      "text/plain": [
       "[1] \"matrix\" \"array\" "
      ]
     },
     "metadata": {},
     "output_type": "display_data"
    }
   ],
   "source": [
    "# defining data in the vector\n",
    "x <- c(5:16)\n",
    "  \n",
    "# defining row names and column names\n",
    "rown <- c(\"row_1\", \"row_2\", \"row_3\")\n",
    "coln <- c(\"col_1\", \"col_2\", \"col_3\", \"col_4\")\n",
    "  \n",
    "# creating matrix\n",
    "m <- matrix(x, nrow = 3, byrow = TRUE, \n",
    "            dimnames = list(rown, coln))\n",
    "  \n",
    "# print matrix\n",
    "print(m)\n",
    "  \n",
    "# print class of m\n",
    "class(m)"
   ]
  },
  {
   "cell_type": "code",
   "execution_count": 4,
   "id": "5e383ee9",
   "metadata": {},
   "outputs": [
    {
     "data": {
      "text/html": [
       "<table class=\"dataframe\">\n",
       "<caption>A data.frame: 6 × 6</caption>\n",
       "<thead>\n",
       "\t<tr><th scope=col>names</th><th scope=col>Y</th><th scope=col>played</th><th scope=col>won</th><th scope=col>lost</th><th scope=col>victory</th></tr>\n",
       "\t<tr><th scope=col>&lt;chr&gt;</th><th scope=col>&lt;int&gt;</th><th scope=col>&lt;int&gt;</th><th scope=col>&lt;int&gt;</th><th scope=col>&lt;int&gt;</th><th scope=col>&lt;dbl&gt;</th></tr>\n",
       "</thead>\n",
       "<tbody>\n",
       "\t<tr><td>Mahi   </td><td>2012</td><td>45</td><td>22</td><td>12</td><td>0.4888889</td></tr>\n",
       "\t<tr><td>Sourav </td><td>2004</td><td>49</td><td>21</td><td>13</td><td>0.4285714</td></tr>\n",
       "\t<tr><td>Azhar  </td><td>2000</td><td>47</td><td>14</td><td>14</td><td>0.2978723</td></tr>\n",
       "\t<tr><td>Sunny  </td><td>1980</td><td>47</td><td> 9</td><td> 8</td><td>0.1914894</td></tr>\n",
       "\t<tr><td>Pataudi</td><td>1965</td><td>40</td><td> 9</td><td>19</td><td>0.2250000</td></tr>\n",
       "\t<tr><td>Dravid </td><td>2008</td><td>25</td><td> 8</td><td> 6</td><td>0.3200000</td></tr>\n",
       "</tbody>\n",
       "</table>\n"
      ],
      "text/latex": [
       "A data.frame: 6 × 6\n",
       "\\begin{tabular}{llllll}\n",
       " names & Y & played & won & lost & victory\\\\\n",
       " <chr> & <int> & <int> & <int> & <int> & <dbl>\\\\\n",
       "\\hline\n",
       "\t Mahi    & 2012 & 45 & 22 & 12 & 0.4888889\\\\\n",
       "\t Sourav  & 2004 & 49 & 21 & 13 & 0.4285714\\\\\n",
       "\t Azhar   & 2000 & 47 & 14 & 14 & 0.2978723\\\\\n",
       "\t Sunny   & 1980 & 47 &  9 &  8 & 0.1914894\\\\\n",
       "\t Pataudi & 1965 & 40 &  9 & 19 & 0.2250000\\\\\n",
       "\t Dravid  & 2008 & 25 &  8 &  6 & 0.3200000\\\\\n",
       "\\end{tabular}\n"
      ],
      "text/markdown": [
       "\n",
       "A data.frame: 6 × 6\n",
       "\n",
       "| names &lt;chr&gt; | Y &lt;int&gt; | played &lt;int&gt; | won &lt;int&gt; | lost &lt;int&gt; | victory &lt;dbl&gt; |\n",
       "|---|---|---|---|---|---|\n",
       "| Mahi    | 2012 | 45 | 22 | 12 | 0.4888889 |\n",
       "| Sourav  | 2004 | 49 | 21 | 13 | 0.4285714 |\n",
       "| Azhar   | 2000 | 47 | 14 | 14 | 0.2978723 |\n",
       "| Sunny   | 1980 | 47 |  9 |  8 | 0.1914894 |\n",
       "| Pataudi | 1965 | 40 |  9 | 19 | 0.2250000 |\n",
       "| Dravid  | 2008 | 25 |  8 |  6 | 0.3200000 |\n",
       "\n"
      ],
      "text/plain": [
       "  names   Y    played won lost victory  \n",
       "1 Mahi    2012 45     22  12   0.4888889\n",
       "2 Sourav  2004 49     21  13   0.4285714\n",
       "3 Azhar   2000 47     14  14   0.2978723\n",
       "4 Sunny   1980 47      9   8   0.1914894\n",
       "5 Pataudi 1965 40      9  19   0.2250000\n",
       "6 Dravid  2008 25      8   6   0.3200000"
      ]
     },
     "metadata": {},
     "output_type": "display_data"
    }
   ],
   "source": [
    "cap = read.csv(\"CaptaincyData.csv\")\n",
    "cap"
   ]
  },
  {
   "cell_type": "code",
   "execution_count": 33,
   "id": "53b27e46",
   "metadata": {},
   "outputs": [
    {
     "data": {
      "text/html": [
       "<table class=\"dataframe\">\n",
       "<caption>A data.frame: 3 × 3</caption>\n",
       "<thead>\n",
       "\t<tr><th></th><th scope=col>played</th><th scope=col>won</th><th scope=col>lost</th></tr>\n",
       "\t<tr><th></th><th scope=col>&lt;int&gt;</th><th scope=col>&lt;int&gt;</th><th scope=col>&lt;int&gt;</th></tr>\n",
       "</thead>\n",
       "<tbody>\n",
       "\t<tr><th scope=row>1</th><td>45</td><td>22</td><td>12</td></tr>\n",
       "\t<tr><th scope=row>2</th><td>49</td><td>21</td><td>13</td></tr>\n",
       "\t<tr><th scope=row>3</th><td>47</td><td>14</td><td>14</td></tr>\n",
       "</tbody>\n",
       "</table>\n"
      ],
      "text/latex": [
       "A data.frame: 3 × 3\n",
       "\\begin{tabular}{r|lll}\n",
       "  & played & won & lost\\\\\n",
       "  & <int> & <int> & <int>\\\\\n",
       "\\hline\n",
       "\t1 & 45 & 22 & 12\\\\\n",
       "\t2 & 49 & 21 & 13\\\\\n",
       "\t3 & 47 & 14 & 14\\\\\n",
       "\\end{tabular}\n"
      ],
      "text/markdown": [
       "\n",
       "A data.frame: 3 × 3\n",
       "\n",
       "| <!--/--> | played &lt;int&gt; | won &lt;int&gt; | lost &lt;int&gt; |\n",
       "|---|---|---|---|\n",
       "| 1 | 45 | 22 | 12 |\n",
       "| 2 | 49 | 21 | 13 |\n",
       "| 3 | 47 | 14 | 14 |\n",
       "\n"
      ],
      "text/plain": [
       "  played won lost\n",
       "1 45     22  12  \n",
       "2 49     21  13  \n",
       "3 47     14  14  "
      ]
     },
     "metadata": {},
     "output_type": "display_data"
    }
   ],
   "source": [
    "subData <- cap[1:3,c(\"played\",\"won\",\"lost\")]\n",
    "subData"
   ]
  },
  {
   "cell_type": "code",
   "execution_count": 34,
   "id": "bd8ec7ac",
   "metadata": {},
   "outputs": [
    {
     "data": {
      "text/html": [
       "<table class=\"dataframe\">\n",
       "<caption>A matrix: 3 × 3 of type int</caption>\n",
       "<thead>\n",
       "\t<tr><th></th><th scope=col>played</th><th scope=col>won</th><th scope=col>lost</th></tr>\n",
       "</thead>\n",
       "<tbody>\n",
       "\t<tr><th scope=row>1</th><td>45</td><td>22</td><td>12</td></tr>\n",
       "\t<tr><th scope=row>2</th><td>49</td><td>21</td><td>13</td></tr>\n",
       "\t<tr><th scope=row>3</th><td>47</td><td>14</td><td>14</td></tr>\n",
       "</tbody>\n",
       "</table>\n"
      ],
      "text/latex": [
       "A matrix: 3 × 3 of type int\n",
       "\\begin{tabular}{r|lll}\n",
       "  & played & won & lost\\\\\n",
       "\\hline\n",
       "\t1 & 45 & 22 & 12\\\\\n",
       "\t2 & 49 & 21 & 13\\\\\n",
       "\t3 & 47 & 14 & 14\\\\\n",
       "\\end{tabular}\n"
      ],
      "text/markdown": [
       "\n",
       "A matrix: 3 × 3 of type int\n",
       "\n",
       "| <!--/--> | played | won | lost |\n",
       "|---|---|---|---|\n",
       "| 1 | 45 | 22 | 12 |\n",
       "| 2 | 49 | 21 | 13 |\n",
       "| 3 | 47 | 14 | 14 |\n",
       "\n"
      ],
      "text/plain": [
       "  played won lost\n",
       "1 45     22  12  \n",
       "2 49     21  13  \n",
       "3 47     14  14  "
      ]
     },
     "metadata": {},
     "output_type": "display_data"
    }
   ],
   "source": [
    "matrixA <- as.matrix(subData)\n",
    "matrixA"
   ]
  },
  {
   "cell_type": "code",
   "execution_count": 35,
   "id": "f72f6315",
   "metadata": {},
   "outputs": [
    {
     "data": {
      "text/html": [
       "<table class=\"dataframe\">\n",
       "<caption>A matrix: 3 × 3 of type dbl</caption>\n",
       "<tbody>\n",
       "\t<tr><td>12</td><td>23</td><td>45</td></tr>\n",
       "\t<tr><td>67</td><td>89</td><td>90</td></tr>\n",
       "\t<tr><td>23</td><td>23</td><td>10</td></tr>\n",
       "</tbody>\n",
       "</table>\n"
      ],
      "text/latex": [
       "A matrix: 3 × 3 of type dbl\n",
       "\\begin{tabular}{lll}\n",
       "\t 12 & 23 & 45\\\\\n",
       "\t 67 & 89 & 90\\\\\n",
       "\t 23 & 23 & 10\\\\\n",
       "\\end{tabular}\n"
      ],
      "text/markdown": [
       "\n",
       "A matrix: 3 × 3 of type dbl\n",
       "\n",
       "| 12 | 23 | 45 |\n",
       "| 67 | 89 | 90 |\n",
       "| 23 | 23 | 10 |\n",
       "\n"
      ],
      "text/plain": [
       "     [,1] [,2] [,3]\n",
       "[1,] 12   23   45  \n",
       "[2,] 67   89   90  \n",
       "[3,] 23   23   10  "
      ]
     },
     "metadata": {},
     "output_type": "display_data"
    }
   ],
   "source": [
    "# matrix 3x3 \n",
    "\n",
    "values <- c(12,23,45,67,89,90,23,23,10)\n",
    "matrixB <- matrix(values,nrow=3,ncol=3,byrow = TRUE)\n",
    "matrixB"
   ]
  },
  {
   "cell_type": "code",
   "execution_count": 38,
   "id": "c3efde76",
   "metadata": {},
   "outputs": [
    {
     "data": {
      "text/html": [
       "<table class=\"dataframe\">\n",
       "<caption>A matrix: 3 × 3 of type dbl</caption>\n",
       "<thead>\n",
       "\t<tr><th></th><th scope=col>played</th><th scope=col>won</th><th scope=col>lost</th></tr>\n",
       "</thead>\n",
       "<tbody>\n",
       "\t<tr><th scope=row>1</th><td> 57</td><td> 45</td><td> 57</td></tr>\n",
       "\t<tr><th scope=row>2</th><td>116</td><td>110</td><td>103</td></tr>\n",
       "\t<tr><th scope=row>3</th><td> 70</td><td> 37</td><td> 24</td></tr>\n",
       "</tbody>\n",
       "</table>\n"
      ],
      "text/latex": [
       "A matrix: 3 × 3 of type dbl\n",
       "\\begin{tabular}{r|lll}\n",
       "  & played & won & lost\\\\\n",
       "\\hline\n",
       "\t1 &  57 &  45 &  57\\\\\n",
       "\t2 & 116 & 110 & 103\\\\\n",
       "\t3 &  70 &  37 &  24\\\\\n",
       "\\end{tabular}\n"
      ],
      "text/markdown": [
       "\n",
       "A matrix: 3 × 3 of type dbl\n",
       "\n",
       "| <!--/--> | played | won | lost |\n",
       "|---|---|---|---|\n",
       "| 1 |  57 |  45 |  57 |\n",
       "| 2 | 116 | 110 | 103 |\n",
       "| 3 |  70 |  37 |  24 |\n",
       "\n"
      ],
      "text/plain": [
       "  played won lost\n",
       "1  57     45  57 \n",
       "2 116    110 103 \n",
       "3  70     37  24 "
      ]
     },
     "metadata": {},
     "output_type": "display_data"
    }
   ],
   "source": [
    "matrixA + matrixB"
   ]
  },
  {
   "cell_type": "code",
   "execution_count": 37,
   "id": "fdc78467",
   "metadata": {},
   "outputs": [
    {
     "data": {
      "text/html": [
       "<table class=\"dataframe\">\n",
       "<caption>A matrix: 3 × 3 of type dbl</caption>\n",
       "<thead>\n",
       "\t<tr><th></th><th scope=col>played</th><th scope=col>won</th><th scope=col>lost</th></tr>\n",
       "</thead>\n",
       "<tbody>\n",
       "\t<tr><th scope=row>1</th><td> 33</td><td> -1</td><td>-33</td></tr>\n",
       "\t<tr><th scope=row>2</th><td>-18</td><td>-68</td><td>-77</td></tr>\n",
       "\t<tr><th scope=row>3</th><td> 24</td><td> -9</td><td>  4</td></tr>\n",
       "</tbody>\n",
       "</table>\n"
      ],
      "text/latex": [
       "A matrix: 3 × 3 of type dbl\n",
       "\\begin{tabular}{r|lll}\n",
       "  & played & won & lost\\\\\n",
       "\\hline\n",
       "\t1 &  33 &  -1 & -33\\\\\n",
       "\t2 & -18 & -68 & -77\\\\\n",
       "\t3 &  24 &  -9 &   4\\\\\n",
       "\\end{tabular}\n"
      ],
      "text/markdown": [
       "\n",
       "A matrix: 3 × 3 of type dbl\n",
       "\n",
       "| <!--/--> | played | won | lost |\n",
       "|---|---|---|---|\n",
       "| 1 |  33 |  -1 | -33 |\n",
       "| 2 | -18 | -68 | -77 |\n",
       "| 3 |  24 |  -9 |   4 |\n",
       "\n"
      ],
      "text/plain": [
       "  played won lost\n",
       "1  33     -1 -33 \n",
       "2 -18    -68 -77 \n",
       "3  24     -9   4 "
      ]
     },
     "metadata": {},
     "output_type": "display_data"
    }
   ],
   "source": [
    "matrixA - matrixB"
   ]
  },
  {
   "cell_type": "code",
   "execution_count": 39,
   "id": "f7c9a057",
   "metadata": {},
   "outputs": [
    {
     "data": {
      "text/html": [
       "<table class=\"dataframe\">\n",
       "<caption>A matrix: 3 × 3 of type dbl</caption>\n",
       "<thead>\n",
       "\t<tr><th></th><th scope=col>played</th><th scope=col>won</th><th scope=col>lost</th></tr>\n",
       "</thead>\n",
       "<tbody>\n",
       "\t<tr><th scope=row>1</th><td> 540</td><td> 506</td><td> 540</td></tr>\n",
       "\t<tr><th scope=row>2</th><td>3283</td><td>1869</td><td>1170</td></tr>\n",
       "\t<tr><th scope=row>3</th><td>1081</td><td> 322</td><td> 140</td></tr>\n",
       "</tbody>\n",
       "</table>\n"
      ],
      "text/latex": [
       "A matrix: 3 × 3 of type dbl\n",
       "\\begin{tabular}{r|lll}\n",
       "  & played & won & lost\\\\\n",
       "\\hline\n",
       "\t1 &  540 &  506 &  540\\\\\n",
       "\t2 & 3283 & 1869 & 1170\\\\\n",
       "\t3 & 1081 &  322 &  140\\\\\n",
       "\\end{tabular}\n"
      ],
      "text/markdown": [
       "\n",
       "A matrix: 3 × 3 of type dbl\n",
       "\n",
       "| <!--/--> | played | won | lost |\n",
       "|---|---|---|---|\n",
       "| 1 |  540 |  506 |  540 |\n",
       "| 2 | 3283 | 1869 | 1170 |\n",
       "| 3 | 1081 |  322 |  140 |\n",
       "\n"
      ],
      "text/plain": [
       "  played won  lost\n",
       "1  540    506  540\n",
       "2 3283   1869 1170\n",
       "3 1081    322  140"
      ]
     },
     "metadata": {},
     "output_type": "display_data"
    }
   ],
   "source": [
    "# Coressponding elements multiplication \n",
    "matrixA * matrixB"
   ]
  },
  {
   "cell_type": "code",
   "execution_count": 41,
   "id": "921d7fb3",
   "metadata": {},
   "outputs": [
    {
     "data": {
      "text/html": [
       "<table class=\"dataframe\">\n",
       "<caption>A matrix: 3 × 3 of type dbl</caption>\n",
       "<tbody>\n",
       "\t<tr><th scope=row>1</th><td>2290</td><td>3269</td><td>4125</td></tr>\n",
       "\t<tr><th scope=row>2</th><td>2294</td><td>3295</td><td>4225</td></tr>\n",
       "\t<tr><th scope=row>3</th><td>1824</td><td>2649</td><td>3515</td></tr>\n",
       "</tbody>\n",
       "</table>\n"
      ],
      "text/latex": [
       "A matrix: 3 × 3 of type dbl\n",
       "\\begin{tabular}{r|lll}\n",
       "\t1 & 2290 & 3269 & 4125\\\\\n",
       "\t2 & 2294 & 3295 & 4225\\\\\n",
       "\t3 & 1824 & 2649 & 3515\\\\\n",
       "\\end{tabular}\n"
      ],
      "text/markdown": [
       "\n",
       "A matrix: 3 × 3 of type dbl\n",
       "\n",
       "| 1 | 2290 | 3269 | 4125 |\n",
       "| 2 | 2294 | 3295 | 4225 |\n",
       "| 3 | 1824 | 2649 | 3515 |\n",
       "\n"
      ],
      "text/plain": [
       "  [,1] [,2] [,3]\n",
       "1 2290 3269 4125\n",
       "2 2294 3295 4225\n",
       "3 1824 2649 3515"
      ]
     },
     "metadata": {},
     "output_type": "display_data"
    }
   ],
   "source": [
    "# Actual matrix multiplication\n",
    "matrixA %*% matrixB"
   ]
  },
  {
   "cell_type": "code",
   "execution_count": 46,
   "id": "d6a99198",
   "metadata": {},
   "outputs": [
    {
     "data": {
      "text/html": [
       "<table class=\"dataframe\">\n",
       "<caption>A matrix: 3 × 3 of type int</caption>\n",
       "<thead>\n",
       "\t<tr><th></th><th scope=col>1</th><th scope=col>2</th><th scope=col>3</th></tr>\n",
       "</thead>\n",
       "<tbody>\n",
       "\t<tr><th scope=row>played</th><td>45</td><td>49</td><td>47</td></tr>\n",
       "\t<tr><th scope=row>won</th><td>22</td><td>21</td><td>14</td></tr>\n",
       "\t<tr><th scope=row>lost</th><td>12</td><td>13</td><td>14</td></tr>\n",
       "</tbody>\n",
       "</table>\n"
      ],
      "text/latex": [
       "A matrix: 3 × 3 of type int\n",
       "\\begin{tabular}{r|lll}\n",
       "  & 1 & 2 & 3\\\\\n",
       "\\hline\n",
       "\tplayed & 45 & 49 & 47\\\\\n",
       "\twon & 22 & 21 & 14\\\\\n",
       "\tlost & 12 & 13 & 14\\\\\n",
       "\\end{tabular}\n"
      ],
      "text/markdown": [
       "\n",
       "A matrix: 3 × 3 of type int\n",
       "\n",
       "| <!--/--> | 1 | 2 | 3 |\n",
       "|---|---|---|---|\n",
       "| played | 45 | 49 | 47 |\n",
       "| won | 22 | 21 | 14 |\n",
       "| lost | 12 | 13 | 14 |\n",
       "\n"
      ],
      "text/plain": [
       "       1  2  3 \n",
       "played 45 49 47\n",
       "won    22 21 14\n",
       "lost   12 13 14"
      ]
     },
     "metadata": {},
     "output_type": "display_data"
    },
    {
     "data": {
      "text/html": [
       "<table class=\"dataframe\">\n",
       "<caption>A matrix: 3 × 3 of type dbl</caption>\n",
       "<tbody>\n",
       "\t<tr><td>12</td><td>67</td><td>23</td></tr>\n",
       "\t<tr><td>23</td><td>89</td><td>23</td></tr>\n",
       "\t<tr><td>45</td><td>90</td><td>10</td></tr>\n",
       "</tbody>\n",
       "</table>\n"
      ],
      "text/latex": [
       "A matrix: 3 × 3 of type dbl\n",
       "\\begin{tabular}{lll}\n",
       "\t 12 & 67 & 23\\\\\n",
       "\t 23 & 89 & 23\\\\\n",
       "\t 45 & 90 & 10\\\\\n",
       "\\end{tabular}\n"
      ],
      "text/markdown": [
       "\n",
       "A matrix: 3 × 3 of type dbl\n",
       "\n",
       "| 12 | 67 | 23 |\n",
       "| 23 | 89 | 23 |\n",
       "| 45 | 90 | 10 |\n",
       "\n"
      ],
      "text/plain": [
       "     [,1] [,2] [,3]\n",
       "[1,] 12   67   23  \n",
       "[2,] 23   89   23  \n",
       "[3,] 45   90   10  "
      ]
     },
     "metadata": {},
     "output_type": "display_data"
    }
   ],
   "source": [
    "# Transpose of a matrixA and B\n",
    "t(matrixA)\n",
    "t(matrixB)"
   ]
  },
  {
   "cell_type": "code",
   "execution_count": 45,
   "id": "4c46cbd5",
   "metadata": {},
   "outputs": [
    {
     "data": {
      "text/html": [
       "-222"
      ],
      "text/latex": [
       "-222"
      ],
      "text/markdown": [
       "-222"
      ],
      "text/plain": [
       "[1] -222"
      ]
     },
     "metadata": {},
     "output_type": "display_data"
    },
    {
     "data": {
      "text/html": [
       "-4730"
      ],
      "text/latex": [
       "-4730"
      ],
      "text/markdown": [
       "-4730"
      ],
      "text/plain": [
       "[1] -4730"
      ]
     },
     "metadata": {},
     "output_type": "display_data"
    }
   ],
   "source": [
    "# determinant of matrix A and B\n",
    "det(matrixA)\n",
    "det(matrixB)"
   ]
  },
  {
   "cell_type": "code",
   "execution_count": 48,
   "id": "fbd4b913",
   "metadata": {},
   "outputs": [
    {
     "data": {
      "text/html": [
       "<table class=\"dataframe\">\n",
       "<caption>A matrix: 3 × 3 of type dbl</caption>\n",
       "<thead>\n",
       "\t<tr><th></th><th scope=col>1</th><th scope=col>2</th><th scope=col>3</th></tr>\n",
       "</thead>\n",
       "<tbody>\n",
       "\t<tr><th scope=row>played</th><td>-0.5045045</td><td> 0.6306306</td><td>-0.15315315</td></tr>\n",
       "\t<tr><th scope=row>won</th><td> 0.3378378</td><td>-0.2972973</td><td>-0.01351351</td></tr>\n",
       "\t<tr><th scope=row>lost</th><td> 1.3558559</td><td>-1.8198198</td><td> 0.59909910</td></tr>\n",
       "</tbody>\n",
       "</table>\n"
      ],
      "text/latex": [
       "A matrix: 3 × 3 of type dbl\n",
       "\\begin{tabular}{r|lll}\n",
       "  & 1 & 2 & 3\\\\\n",
       "\\hline\n",
       "\tplayed & -0.5045045 &  0.6306306 & -0.15315315\\\\\n",
       "\twon &  0.3378378 & -0.2972973 & -0.01351351\\\\\n",
       "\tlost &  1.3558559 & -1.8198198 &  0.59909910\\\\\n",
       "\\end{tabular}\n"
      ],
      "text/markdown": [
       "\n",
       "A matrix: 3 × 3 of type dbl\n",
       "\n",
       "| <!--/--> | 1 | 2 | 3 |\n",
       "|---|---|---|---|\n",
       "| played | -0.5045045 |  0.6306306 | -0.15315315 |\n",
       "| won |  0.3378378 | -0.2972973 | -0.01351351 |\n",
       "| lost |  1.3558559 | -1.8198198 |  0.59909910 |\n",
       "\n"
      ],
      "text/plain": [
       "       1          2          3          \n",
       "played -0.5045045  0.6306306 -0.15315315\n",
       "won     0.3378378 -0.2972973 -0.01351351\n",
       "lost    1.3558559 -1.8198198  0.59909910"
      ]
     },
     "metadata": {},
     "output_type": "display_data"
    }
   ],
   "source": [
    "# Inverse of a matrix\n",
    "solve(matrixA)"
   ]
  },
  {
   "cell_type": "code",
   "execution_count": 90,
   "id": "98576b12",
   "metadata": {},
   "outputs": [
    {
     "data": {
      "text/html": [
       "237"
      ],
      "text/latex": [
       "237"
      ],
      "text/markdown": [
       "237"
      ],
      "text/plain": [
       "[1] 237"
      ]
     },
     "metadata": {},
     "output_type": "display_data"
    },
    {
     "data": {
      "text/plain": [
       "Time difference of 0.01201606 secs"
      ]
     },
     "metadata": {},
     "output_type": "display_data"
    }
   ],
   "source": [
    "# Calculating sum using for loop\n",
    "startTime <- Sys.time()\n",
    "total_sum <- 0\n",
    "\n",
    "for(i in 1:3){\n",
    "    for(j in 1:3){\n",
    "        total_sum  <- total_sum + matrixA[i,j]\n",
    "    }\n",
    "}\n",
    "endTime <- Sys.time()\n",
    "total_sum\n",
    "endTime-startTime"
   ]
  },
  {
   "cell_type": "code",
   "execution_count": 91,
   "id": "0271f7c2",
   "metadata": {},
   "outputs": [
    {
     "data": {
      "text/html": [
       "237"
      ],
      "text/latex": [
       "237"
      ],
      "text/markdown": [
       "237"
      ],
      "text/plain": [
       "[1] 237"
      ]
     },
     "metadata": {},
     "output_type": "display_data"
    },
    {
     "data": {
      "text/plain": [
       "Time difference of 0.009398937 secs"
      ]
     },
     "metadata": {},
     "output_type": "display_data"
    }
   ],
   "source": [
    "# calculating sum using inbuilt function\n",
    "startTime <- Sys.time()\n",
    "sum(matrixA)\n",
    "endTime <- Sys.time()\n",
    "endTime-startTime"
   ]
  },
  {
   "cell_type": "code",
   "execution_count": 101,
   "id": "c1a0e192",
   "metadata": {},
   "outputs": [
    {
     "data": {
      "text/html": [
       "<style>\n",
       ".dl-inline {width: auto; margin:0; padding: 0}\n",
       ".dl-inline>dt, .dl-inline>dd {float: none; width: auto; display: inline-block}\n",
       ".dl-inline>dt::after {content: \":\\0020\"; padding-right: .5ex}\n",
       ".dl-inline>dt:not(:first-of-type) {padding-left: .5ex}\n",
       "</style><dl class=dl-inline><dt>1</dt><dd>79</dd><dt>2</dt><dd>83</dd><dt>3</dt><dd>75</dd></dl>\n"
      ],
      "text/latex": [
       "\\begin{description*}\n",
       "\\item[1] 79\n",
       "\\item[2] 83\n",
       "\\item[3] 75\n",
       "\\end{description*}\n"
      ],
      "text/markdown": [
       "1\n",
       ":   792\n",
       ":   833\n",
       ":   75\n",
       "\n"
      ],
      "text/plain": [
       " 1  2  3 \n",
       "79 83 75 "
      ]
     },
     "metadata": {},
     "output_type": "display_data"
    }
   ],
   "source": [
    "# Row sums\n",
    "rowSums(matrixA)"
   ]
  },
  {
   "cell_type": "code",
   "execution_count": 102,
   "id": "e85c8041",
   "metadata": {},
   "outputs": [
    {
     "data": {
      "text/html": [
       "<style>\n",
       ".dl-inline {width: auto; margin:0; padding: 0}\n",
       ".dl-inline>dt, .dl-inline>dd {float: none; width: auto; display: inline-block}\n",
       ".dl-inline>dt::after {content: \":\\0020\"; padding-right: .5ex}\n",
       ".dl-inline>dt:not(:first-of-type) {padding-left: .5ex}\n",
       "</style><dl class=dl-inline><dt>played</dt><dd>141</dd><dt>won</dt><dd>57</dd><dt>lost</dt><dd>39</dd></dl>\n"
      ],
      "text/latex": [
       "\\begin{description*}\n",
       "\\item[played] 141\n",
       "\\item[won] 57\n",
       "\\item[lost] 39\n",
       "\\end{description*}\n"
      ],
      "text/markdown": [
       "played\n",
       ":   141won\n",
       ":   57lost\n",
       ":   39\n",
       "\n"
      ],
      "text/plain": [
       "played    won   lost \n",
       "   141     57     39 "
      ]
     },
     "metadata": {},
     "output_type": "display_data"
    }
   ],
   "source": [
    "# Column sums\n",
    "colSums(matrixA)"
   ]
  },
  {
   "cell_type": "code",
   "execution_count": 103,
   "id": "68b593c7",
   "metadata": {},
   "outputs": [
    {
     "data": {
      "text/html": [
       "<table class=\"dataframe\">\n",
       "<caption>A data.frame: 6 × 6</caption>\n",
       "<thead>\n",
       "\t<tr><th scope=col>names</th><th scope=col>Y</th><th scope=col>played</th><th scope=col>won</th><th scope=col>lost</th><th scope=col>victory</th></tr>\n",
       "\t<tr><th scope=col>&lt;chr&gt;</th><th scope=col>&lt;int&gt;</th><th scope=col>&lt;int&gt;</th><th scope=col>&lt;int&gt;</th><th scope=col>&lt;int&gt;</th><th scope=col>&lt;dbl&gt;</th></tr>\n",
       "</thead>\n",
       "<tbody>\n",
       "\t<tr><td>Mahi   </td><td>2012</td><td>45</td><td>22</td><td>12</td><td>0.4888889</td></tr>\n",
       "\t<tr><td>Sourav </td><td>2004</td><td>49</td><td>21</td><td>13</td><td>0.4285714</td></tr>\n",
       "\t<tr><td>Azhar  </td><td>2000</td><td>47</td><td>14</td><td>14</td><td>0.2978723</td></tr>\n",
       "\t<tr><td>Sunny  </td><td>1980</td><td>47</td><td> 9</td><td> 8</td><td>0.1914894</td></tr>\n",
       "\t<tr><td>Pataudi</td><td>1965</td><td>40</td><td> 9</td><td>19</td><td>0.2250000</td></tr>\n",
       "\t<tr><td>Dravid </td><td>2008</td><td>25</td><td> 8</td><td> 6</td><td>0.3200000</td></tr>\n",
       "</tbody>\n",
       "</table>\n"
      ],
      "text/latex": [
       "A data.frame: 6 × 6\n",
       "\\begin{tabular}{llllll}\n",
       " names & Y & played & won & lost & victory\\\\\n",
       " <chr> & <int> & <int> & <int> & <int> & <dbl>\\\\\n",
       "\\hline\n",
       "\t Mahi    & 2012 & 45 & 22 & 12 & 0.4888889\\\\\n",
       "\t Sourav  & 2004 & 49 & 21 & 13 & 0.4285714\\\\\n",
       "\t Azhar   & 2000 & 47 & 14 & 14 & 0.2978723\\\\\n",
       "\t Sunny   & 1980 & 47 &  9 &  8 & 0.1914894\\\\\n",
       "\t Pataudi & 1965 & 40 &  9 & 19 & 0.2250000\\\\\n",
       "\t Dravid  & 2008 & 25 &  8 &  6 & 0.3200000\\\\\n",
       "\\end{tabular}\n"
      ],
      "text/markdown": [
       "\n",
       "A data.frame: 6 × 6\n",
       "\n",
       "| names &lt;chr&gt; | Y &lt;int&gt; | played &lt;int&gt; | won &lt;int&gt; | lost &lt;int&gt; | victory &lt;dbl&gt; |\n",
       "|---|---|---|---|---|---|\n",
       "| Mahi    | 2012 | 45 | 22 | 12 | 0.4888889 |\n",
       "| Sourav  | 2004 | 49 | 21 | 13 | 0.4285714 |\n",
       "| Azhar   | 2000 | 47 | 14 | 14 | 0.2978723 |\n",
       "| Sunny   | 1980 | 47 |  9 |  8 | 0.1914894 |\n",
       "| Pataudi | 1965 | 40 |  9 | 19 | 0.2250000 |\n",
       "| Dravid  | 2008 | 25 |  8 |  6 | 0.3200000 |\n",
       "\n"
      ],
      "text/plain": [
       "  names   Y    played won lost victory  \n",
       "1 Mahi    2012 45     22  12   0.4888889\n",
       "2 Sourav  2004 49     21  13   0.4285714\n",
       "3 Azhar   2000 47     14  14   0.2978723\n",
       "4 Sunny   1980 47      9   8   0.1914894\n",
       "5 Pataudi 1965 40      9  19   0.2250000\n",
       "6 Dravid  2008 25      8   6   0.3200000"
      ]
     },
     "metadata": {},
     "output_type": "display_data"
    }
   ],
   "source": [
    "cap"
   ]
  },
  {
   "cell_type": "code",
   "execution_count": 106,
   "id": "b5f549ac",
   "metadata": {},
   "outputs": [
    {
     "data": {
      "text/html": [
       "<table class=\"dataframe\">\n",
       "<caption>A data.frame: 9 × 6</caption>\n",
       "<thead>\n",
       "\t<tr><th scope=col>names</th><th scope=col>Y</th><th scope=col>played</th><th scope=col>won</th><th scope=col>lost</th><th scope=col>victory</th></tr>\n",
       "\t<tr><th scope=col>&lt;chr&gt;</th><th scope=col>&lt;dbl&gt;</th><th scope=col>&lt;dbl&gt;</th><th scope=col>&lt;dbl&gt;</th><th scope=col>&lt;dbl&gt;</th><th scope=col>&lt;dbl&gt;</th></tr>\n",
       "</thead>\n",
       "<tbody>\n",
       "\t<tr><td>Mahi   </td><td>2012</td><td>45</td><td>22</td><td>12</td><td>0.4888889</td></tr>\n",
       "\t<tr><td>Sourav </td><td>2004</td><td>49</td><td>21</td><td>13</td><td>0.4285714</td></tr>\n",
       "\t<tr><td>Azhar  </td><td>2000</td><td>47</td><td>14</td><td>14</td><td>0.2978723</td></tr>\n",
       "\t<tr><td>Sunny  </td><td>1980</td><td>47</td><td> 9</td><td> 8</td><td>0.1914894</td></tr>\n",
       "\t<tr><td>Pataudi</td><td>1965</td><td>40</td><td> 9</td><td>19</td><td>0.2250000</td></tr>\n",
       "\t<tr><td>Dravid </td><td>2008</td><td>25</td><td> 8</td><td> 6</td><td>0.3200000</td></tr>\n",
       "\t<tr><td>Kohli  </td><td>2016</td><td>30</td><td>20</td><td> 9</td><td>0.6666667</td></tr>\n",
       "\t<tr><td>Kohli  </td><td>2016</td><td>30</td><td>20</td><td> 9</td><td>0.6666667</td></tr>\n",
       "\t<tr><td>Kohli  </td><td>2016</td><td>30</td><td>20</td><td> 9</td><td>0.6666667</td></tr>\n",
       "</tbody>\n",
       "</table>\n"
      ],
      "text/latex": [
       "A data.frame: 9 × 6\n",
       "\\begin{tabular}{llllll}\n",
       " names & Y & played & won & lost & victory\\\\\n",
       " <chr> & <dbl> & <dbl> & <dbl> & <dbl> & <dbl>\\\\\n",
       "\\hline\n",
       "\t Mahi    & 2012 & 45 & 22 & 12 & 0.4888889\\\\\n",
       "\t Sourav  & 2004 & 49 & 21 & 13 & 0.4285714\\\\\n",
       "\t Azhar   & 2000 & 47 & 14 & 14 & 0.2978723\\\\\n",
       "\t Sunny   & 1980 & 47 &  9 &  8 & 0.1914894\\\\\n",
       "\t Pataudi & 1965 & 40 &  9 & 19 & 0.2250000\\\\\n",
       "\t Dravid  & 2008 & 25 &  8 &  6 & 0.3200000\\\\\n",
       "\t Kohli   & 2016 & 30 & 20 &  9 & 0.6666667\\\\\n",
       "\t Kohli   & 2016 & 30 & 20 &  9 & 0.6666667\\\\\n",
       "\t Kohli   & 2016 & 30 & 20 &  9 & 0.6666667\\\\\n",
       "\\end{tabular}\n"
      ],
      "text/markdown": [
       "\n",
       "A data.frame: 9 × 6\n",
       "\n",
       "| names &lt;chr&gt; | Y &lt;dbl&gt; | played &lt;dbl&gt; | won &lt;dbl&gt; | lost &lt;dbl&gt; | victory &lt;dbl&gt; |\n",
       "|---|---|---|---|---|---|\n",
       "| Mahi    | 2012 | 45 | 22 | 12 | 0.4888889 |\n",
       "| Sourav  | 2004 | 49 | 21 | 13 | 0.4285714 |\n",
       "| Azhar   | 2000 | 47 | 14 | 14 | 0.2978723 |\n",
       "| Sunny   | 1980 | 47 |  9 |  8 | 0.1914894 |\n",
       "| Pataudi | 1965 | 40 |  9 | 19 | 0.2250000 |\n",
       "| Dravid  | 2008 | 25 |  8 |  6 | 0.3200000 |\n",
       "| Kohli   | 2016 | 30 | 20 |  9 | 0.6666667 |\n",
       "| Kohli   | 2016 | 30 | 20 |  9 | 0.6666667 |\n",
       "| Kohli   | 2016 | 30 | 20 |  9 | 0.6666667 |\n",
       "\n"
      ],
      "text/plain": [
       "  names   Y    played won lost victory  \n",
       "1 Mahi    2012 45     22  12   0.4888889\n",
       "2 Sourav  2004 49     21  13   0.4285714\n",
       "3 Azhar   2000 47     14  14   0.2978723\n",
       "4 Sunny   1980 47      9   8   0.1914894\n",
       "5 Pataudi 1965 40      9  19   0.2250000\n",
       "6 Dravid  2008 25      8   6   0.3200000\n",
       "7 Kohli   2016 30     20   9   0.6666667\n",
       "8 Kohli   2016 30     20   9   0.6666667\n",
       "9 Kohli   2016 30     20   9   0.6666667"
      ]
     },
     "metadata": {},
     "output_type": "display_data"
    }
   ],
   "source": [
    "# Adding a new row to this data frame using rbind\n",
    "\n",
    "cap <- rbind(cap,data.frame(names=\"Kohli\",Y=2016,played=30,won = 20,lost=9,victory=20/30))\n",
    "cap"
   ]
  },
  {
   "cell_type": "code",
   "execution_count": 107,
   "id": "2b719850",
   "metadata": {},
   "outputs": [],
   "source": [
    "# new column adding to the dataframe  using cbind\n",
    "defeat <- cap$lost/cap$played # new col 'defeat'\n",
    "\n",
    "cap <- cbind(cap,defeat)"
   ]
  },
  {
   "cell_type": "code",
   "execution_count": 108,
   "id": "4257ba2c",
   "metadata": {},
   "outputs": [
    {
     "data": {
      "text/html": [
       "<table class=\"dataframe\">\n",
       "<caption>A data.frame: 9 × 7</caption>\n",
       "<thead>\n",
       "\t<tr><th scope=col>names</th><th scope=col>Y</th><th scope=col>played</th><th scope=col>won</th><th scope=col>lost</th><th scope=col>victory</th><th scope=col>defeat</th></tr>\n",
       "\t<tr><th scope=col>&lt;chr&gt;</th><th scope=col>&lt;dbl&gt;</th><th scope=col>&lt;dbl&gt;</th><th scope=col>&lt;dbl&gt;</th><th scope=col>&lt;dbl&gt;</th><th scope=col>&lt;dbl&gt;</th><th scope=col>&lt;dbl&gt;</th></tr>\n",
       "</thead>\n",
       "<tbody>\n",
       "\t<tr><td>Mahi   </td><td>2012</td><td>45</td><td>22</td><td>12</td><td>0.4888889</td><td>0.2666667</td></tr>\n",
       "\t<tr><td>Sourav </td><td>2004</td><td>49</td><td>21</td><td>13</td><td>0.4285714</td><td>0.2653061</td></tr>\n",
       "\t<tr><td>Azhar  </td><td>2000</td><td>47</td><td>14</td><td>14</td><td>0.2978723</td><td>0.2978723</td></tr>\n",
       "\t<tr><td>Sunny  </td><td>1980</td><td>47</td><td> 9</td><td> 8</td><td>0.1914894</td><td>0.1702128</td></tr>\n",
       "\t<tr><td>Pataudi</td><td>1965</td><td>40</td><td> 9</td><td>19</td><td>0.2250000</td><td>0.4750000</td></tr>\n",
       "\t<tr><td>Dravid </td><td>2008</td><td>25</td><td> 8</td><td> 6</td><td>0.3200000</td><td>0.2400000</td></tr>\n",
       "\t<tr><td>Kohli  </td><td>2016</td><td>30</td><td>20</td><td> 9</td><td>0.6666667</td><td>0.3000000</td></tr>\n",
       "\t<tr><td>Kohli  </td><td>2016</td><td>30</td><td>20</td><td> 9</td><td>0.6666667</td><td>0.3000000</td></tr>\n",
       "\t<tr><td>Kohli  </td><td>2016</td><td>30</td><td>20</td><td> 9</td><td>0.6666667</td><td>0.3000000</td></tr>\n",
       "</tbody>\n",
       "</table>\n"
      ],
      "text/latex": [
       "A data.frame: 9 × 7\n",
       "\\begin{tabular}{lllllll}\n",
       " names & Y & played & won & lost & victory & defeat\\\\\n",
       " <chr> & <dbl> & <dbl> & <dbl> & <dbl> & <dbl> & <dbl>\\\\\n",
       "\\hline\n",
       "\t Mahi    & 2012 & 45 & 22 & 12 & 0.4888889 & 0.2666667\\\\\n",
       "\t Sourav  & 2004 & 49 & 21 & 13 & 0.4285714 & 0.2653061\\\\\n",
       "\t Azhar   & 2000 & 47 & 14 & 14 & 0.2978723 & 0.2978723\\\\\n",
       "\t Sunny   & 1980 & 47 &  9 &  8 & 0.1914894 & 0.1702128\\\\\n",
       "\t Pataudi & 1965 & 40 &  9 & 19 & 0.2250000 & 0.4750000\\\\\n",
       "\t Dravid  & 2008 & 25 &  8 &  6 & 0.3200000 & 0.2400000\\\\\n",
       "\t Kohli   & 2016 & 30 & 20 &  9 & 0.6666667 & 0.3000000\\\\\n",
       "\t Kohli   & 2016 & 30 & 20 &  9 & 0.6666667 & 0.3000000\\\\\n",
       "\t Kohli   & 2016 & 30 & 20 &  9 & 0.6666667 & 0.3000000\\\\\n",
       "\\end{tabular}\n"
      ],
      "text/markdown": [
       "\n",
       "A data.frame: 9 × 7\n",
       "\n",
       "| names &lt;chr&gt; | Y &lt;dbl&gt; | played &lt;dbl&gt; | won &lt;dbl&gt; | lost &lt;dbl&gt; | victory &lt;dbl&gt; | defeat &lt;dbl&gt; |\n",
       "|---|---|---|---|---|---|---|\n",
       "| Mahi    | 2012 | 45 | 22 | 12 | 0.4888889 | 0.2666667 |\n",
       "| Sourav  | 2004 | 49 | 21 | 13 | 0.4285714 | 0.2653061 |\n",
       "| Azhar   | 2000 | 47 | 14 | 14 | 0.2978723 | 0.2978723 |\n",
       "| Sunny   | 1980 | 47 |  9 |  8 | 0.1914894 | 0.1702128 |\n",
       "| Pataudi | 1965 | 40 |  9 | 19 | 0.2250000 | 0.4750000 |\n",
       "| Dravid  | 2008 | 25 |  8 |  6 | 0.3200000 | 0.2400000 |\n",
       "| Kohli   | 2016 | 30 | 20 |  9 | 0.6666667 | 0.3000000 |\n",
       "| Kohli   | 2016 | 30 | 20 |  9 | 0.6666667 | 0.3000000 |\n",
       "| Kohli   | 2016 | 30 | 20 |  9 | 0.6666667 | 0.3000000 |\n",
       "\n"
      ],
      "text/plain": [
       "  names   Y    played won lost victory   defeat   \n",
       "1 Mahi    2012 45     22  12   0.4888889 0.2666667\n",
       "2 Sourav  2004 49     21  13   0.4285714 0.2653061\n",
       "3 Azhar   2000 47     14  14   0.2978723 0.2978723\n",
       "4 Sunny   1980 47      9   8   0.1914894 0.1702128\n",
       "5 Pataudi 1965 40      9  19   0.2250000 0.4750000\n",
       "6 Dravid  2008 25      8   6   0.3200000 0.2400000\n",
       "7 Kohli   2016 30     20   9   0.6666667 0.3000000\n",
       "8 Kohli   2016 30     20   9   0.6666667 0.3000000\n",
       "9 Kohli   2016 30     20   9   0.6666667 0.3000000"
      ]
     },
     "metadata": {},
     "output_type": "display_data"
    }
   ],
   "source": [
    "cap"
   ]
  }
 ],
 "metadata": {
  "kernelspec": {
   "display_name": "R",
   "language": "R",
   "name": "ir"
  },
  "language_info": {
   "codemirror_mode": "r",
   "file_extension": ".r",
   "mimetype": "text/x-r-source",
   "name": "R",
   "pygments_lexer": "r",
   "version": "4.2.1"
  }
 },
 "nbformat": 4,
 "nbformat_minor": 5
}
