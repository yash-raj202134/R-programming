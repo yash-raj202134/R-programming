{
 "cells": [
  {
   "cell_type": "markdown",
   "id": "e229eacf",
   "metadata": {},
   "source": [
    "Consider 2 vectors c(9,10,11,12) and c(13,14,15,16). Create a 4 by 2 matrix from these two vectors"
   ]
  },
  {
   "cell_type": "code",
   "execution_count": 15,
   "id": "93d0f12f",
   "metadata": {},
   "outputs": [
    {
     "data": {
      "text/html": [
       "<table class=\"dataframe\">\n",
       "<caption>A matrix: 4 × 2 of type dbl</caption>\n",
       "<tbody>\n",
       "\t<tr><td> 9</td><td>13</td></tr>\n",
       "\t<tr><td>10</td><td>14</td></tr>\n",
       "\t<tr><td>11</td><td>15</td></tr>\n",
       "\t<tr><td>12</td><td>16</td></tr>\n",
       "</tbody>\n",
       "</table>\n"
      ],
      "text/latex": [
       "A matrix: 4 × 2 of type dbl\n",
       "\\begin{tabular}{ll}\n",
       "\t  9 & 13\\\\\n",
       "\t 10 & 14\\\\\n",
       "\t 11 & 15\\\\\n",
       "\t 12 & 16\\\\\n",
       "\\end{tabular}\n"
      ],
      "text/markdown": [
       "\n",
       "A matrix: 4 × 2 of type dbl\n",
       "\n",
       "|  9 | 13 |\n",
       "| 10 | 14 |\n",
       "| 11 | 15 |\n",
       "| 12 | 16 |\n",
       "\n"
      ],
      "text/plain": [
       "     [,1] [,2]\n",
       "[1,]  9   13  \n",
       "[2,] 10   14  \n",
       "[3,] 11   15  \n",
       "[4,] 12   16  "
      ]
     },
     "metadata": {},
     "output_type": "display_data"
    }
   ],
   "source": [
    "a <- c(9,10,11,12)\n",
    "b <- c(13,14,15,16)\n",
    "MatrixA  <- matrix(c(a,b),nrow=4,ncol=2)\n",
    "MatrixA"
   ]
  },
  {
   "cell_type": "markdown",
   "id": "174d0cd8",
   "metadata": {},
   "source": [
    "Add another vector c(17,18,19,20)as a column to the previous matrix."
   ]
  },
  {
   "cell_type": "code",
   "execution_count": 20,
   "id": "a28cc4ba",
   "metadata": {},
   "outputs": [
    {
     "data": {
      "text/html": [
       "<table class=\"dataframe\">\n",
       "<caption>A matrix: 4 × 3 of type dbl</caption>\n",
       "<tbody>\n",
       "\t<tr><td> 9</td><td>13</td><td>17</td></tr>\n",
       "\t<tr><td>10</td><td>14</td><td>18</td></tr>\n",
       "\t<tr><td>11</td><td>15</td><td>19</td></tr>\n",
       "\t<tr><td>12</td><td>16</td><td>20</td></tr>\n",
       "</tbody>\n",
       "</table>\n"
      ],
      "text/latex": [
       "A matrix: 4 × 3 of type dbl\n",
       "\\begin{tabular}{lll}\n",
       "\t  9 & 13 & 17\\\\\n",
       "\t 10 & 14 & 18\\\\\n",
       "\t 11 & 15 & 19\\\\\n",
       "\t 12 & 16 & 20\\\\\n",
       "\\end{tabular}\n"
      ],
      "text/markdown": [
       "\n",
       "A matrix: 4 × 3 of type dbl\n",
       "\n",
       "|  9 | 13 | 17 |\n",
       "| 10 | 14 | 18 |\n",
       "| 11 | 15 | 19 |\n",
       "| 12 | 16 | 20 |\n",
       "\n"
      ],
      "text/plain": [
       "     [,1] [,2] [,3]\n",
       "[1,]  9   13   17  \n",
       "[2,] 10   14   18  \n",
       "[3,] 11   15   19  \n",
       "[4,] 12   16   20  "
      ]
     },
     "metadata": {},
     "output_type": "display_data"
    }
   ],
   "source": [
    "c <- c(17,18,19,20)  # new vector\n",
    "matrixA  <- matrix(c(a,b,c),nrow=4,ncol=3)  # increse the size of col to 3 \n",
    "matrixA"
   ]
  },
  {
   "cell_type": "code",
   "execution_count": 26,
   "id": "51c3324a",
   "metadata": {},
   "outputs": [
    {
     "data": {
      "text/html": [
       "<table class=\"dataframe\">\n",
       "<caption>A matrix: 4 × 3 of type dbl</caption>\n",
       "<tbody>\n",
       "\t<tr><td> 9</td><td>13</td><td>17</td></tr>\n",
       "\t<tr><td>10</td><td>14</td><td>18</td></tr>\n",
       "\t<tr><td>11</td><td>15</td><td>19</td></tr>\n",
       "\t<tr><td>12</td><td>16</td><td>20</td></tr>\n",
       "</tbody>\n",
       "</table>\n"
      ],
      "text/latex": [
       "A matrix: 4 × 3 of type dbl\n",
       "\\begin{tabular}{lll}\n",
       "\t  9 & 13 & 17\\\\\n",
       "\t 10 & 14 & 18\\\\\n",
       "\t 11 & 15 & 19\\\\\n",
       "\t 12 & 16 & 20\\\\\n",
       "\\end{tabular}\n"
      ],
      "text/markdown": [
       "\n",
       "A matrix: 4 × 3 of type dbl\n",
       "\n",
       "|  9 | 13 | 17 |\n",
       "| 10 | 14 | 18 |\n",
       "| 11 | 15 | 19 |\n",
       "| 12 | 16 | 20 |\n",
       "\n"
      ],
      "text/plain": [
       "     [,1] [,2] [,3]\n",
       "[1,]  9   13   17  \n",
       "[2,] 10   14   18  \n",
       "[3,] 11   15   19  \n",
       "[4,] 12   16   20  "
      ]
     },
     "metadata": {},
     "output_type": "display_data"
    }
   ],
   "source": [
    "# Using cbind method\n",
    "matrixB <- matrix(c(a,b),nrow=4,ncol=2)\n",
    "\n",
    "matrixB <- cbind(matrixB,c(17,18,19,20))\n",
    "matrixB"
   ]
  },
  {
   "cell_type": "markdown",
   "id": "873d95d5",
   "metadata": {},
   "source": [
    " Assignment - 2 :\n",
    " Using built-in dataset iris, implement all the functions we have learnt in this tutorial"
   ]
  },
  {
   "cell_type": "code",
   "execution_count": null,
   "id": "c2d2e284",
   "metadata": {},
   "outputs": [],
   "source": []
  }
 ],
 "metadata": {
  "kernelspec": {
   "display_name": "R",
   "language": "R",
   "name": "ir"
  },
  "language_info": {
   "codemirror_mode": "r",
   "file_extension": ".r",
   "mimetype": "text/x-r-source",
   "name": "R",
   "pygments_lexer": "r",
   "version": "4.2.1"
  }
 },
 "nbformat": 4,
 "nbformat_minor": 5
}
