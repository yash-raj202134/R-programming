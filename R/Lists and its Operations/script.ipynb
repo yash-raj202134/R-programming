{
 "cells": [
  {
   "cell_type": "code",
   "execution_count": 3,
   "id": "29d6ca98",
   "metadata": {},
   "outputs": [
    {
     "data": {
      "text/html": [
       "<table class=\"dataframe\">\n",
       "<caption>A data.frame: 6 × 6</caption>\n",
       "<thead>\n",
       "\t<tr><th scope=col>names</th><th scope=col>Y</th><th scope=col>played</th><th scope=col>won</th><th scope=col>lost</th><th scope=col>victory</th></tr>\n",
       "\t<tr><th scope=col>&lt;chr&gt;</th><th scope=col>&lt;int&gt;</th><th scope=col>&lt;int&gt;</th><th scope=col>&lt;int&gt;</th><th scope=col>&lt;int&gt;</th><th scope=col>&lt;dbl&gt;</th></tr>\n",
       "</thead>\n",
       "<tbody>\n",
       "\t<tr><td>Mahi   </td><td>2012</td><td>45</td><td>22</td><td>12</td><td>0.4888889</td></tr>\n",
       "\t<tr><td>Sourav </td><td>2004</td><td>49</td><td>21</td><td>13</td><td>0.4285714</td></tr>\n",
       "\t<tr><td>Azhar  </td><td>2000</td><td>47</td><td>14</td><td>14</td><td>0.2978723</td></tr>\n",
       "\t<tr><td>Sunny  </td><td>1980</td><td>47</td><td> 9</td><td> 8</td><td>0.1914894</td></tr>\n",
       "\t<tr><td>Pataudi</td><td>1965</td><td>40</td><td> 9</td><td>19</td><td>0.2250000</td></tr>\n",
       "\t<tr><td>Dravid </td><td>2008</td><td>25</td><td> 8</td><td> 6</td><td>0.3200000</td></tr>\n",
       "</tbody>\n",
       "</table>\n"
      ],
      "text/latex": [
       "A data.frame: 6 × 6\n",
       "\\begin{tabular}{llllll}\n",
       " names & Y & played & won & lost & victory\\\\\n",
       " <chr> & <int> & <int> & <int> & <int> & <dbl>\\\\\n",
       "\\hline\n",
       "\t Mahi    & 2012 & 45 & 22 & 12 & 0.4888889\\\\\n",
       "\t Sourav  & 2004 & 49 & 21 & 13 & 0.4285714\\\\\n",
       "\t Azhar   & 2000 & 47 & 14 & 14 & 0.2978723\\\\\n",
       "\t Sunny   & 1980 & 47 &  9 &  8 & 0.1914894\\\\\n",
       "\t Pataudi & 1965 & 40 &  9 & 19 & 0.2250000\\\\\n",
       "\t Dravid  & 2008 & 25 &  8 &  6 & 0.3200000\\\\\n",
       "\\end{tabular}\n"
      ],
      "text/markdown": [
       "\n",
       "A data.frame: 6 × 6\n",
       "\n",
       "| names &lt;chr&gt; | Y &lt;int&gt; | played &lt;int&gt; | won &lt;int&gt; | lost &lt;int&gt; | victory &lt;dbl&gt; |\n",
       "|---|---|---|---|---|---|\n",
       "| Mahi    | 2012 | 45 | 22 | 12 | 0.4888889 |\n",
       "| Sourav  | 2004 | 49 | 21 | 13 | 0.4285714 |\n",
       "| Azhar   | 2000 | 47 | 14 | 14 | 0.2978723 |\n",
       "| Sunny   | 1980 | 47 |  9 |  8 | 0.1914894 |\n",
       "| Pataudi | 1965 | 40 |  9 | 19 | 0.2250000 |\n",
       "| Dravid  | 2008 | 25 |  8 |  6 | 0.3200000 |\n",
       "\n"
      ],
      "text/plain": [
       "  names   Y    played won lost victory  \n",
       "1 Mahi    2012 45     22  12   0.4888889\n",
       "2 Sourav  2004 49     21  13   0.4285714\n",
       "3 Azhar   2000 47     14  14   0.2978723\n",
       "4 Sunny   1980 47      9   8   0.1914894\n",
       "5 Pataudi 1965 40      9  19   0.2250000\n",
       "6 Dravid  2008 25      8   6   0.3200000"
      ]
     },
     "metadata": {},
     "output_type": "display_data"
    }
   ],
   "source": [
    "# Lists and its Operations\n",
    "\n",
    "cap <- read.csv(\"CaptaincyData.csv\")\n",
    "\n",
    "cap"
   ]
  },
  {
   "cell_type": "code",
   "execution_count": 8,
   "id": "bd0aff5c",
   "metadata": {},
   "outputs": [
    {
     "data": {
      "text/html": [
       "<table class=\"dataframe\">\n",
       "<caption>A data.frame: 3 × 3</caption>\n",
       "<thead>\n",
       "\t<tr><th></th><th scope=col>played</th><th scope=col>won</th><th scope=col>lost</th></tr>\n",
       "\t<tr><th></th><th scope=col>&lt;int&gt;</th><th scope=col>&lt;int&gt;</th><th scope=col>&lt;int&gt;</th></tr>\n",
       "</thead>\n",
       "<tbody>\n",
       "\t<tr><th scope=row>1</th><td>45</td><td>22</td><td>12</td></tr>\n",
       "\t<tr><th scope=row>2</th><td>49</td><td>21</td><td>13</td></tr>\n",
       "\t<tr><th scope=row>3</th><td>47</td><td>14</td><td>14</td></tr>\n",
       "</tbody>\n",
       "</table>\n"
      ],
      "text/latex": [
       "A data.frame: 3 × 3\n",
       "\\begin{tabular}{r|lll}\n",
       "  & played & won & lost\\\\\n",
       "  & <int> & <int> & <int>\\\\\n",
       "\\hline\n",
       "\t1 & 45 & 22 & 12\\\\\n",
       "\t2 & 49 & 21 & 13\\\\\n",
       "\t3 & 47 & 14 & 14\\\\\n",
       "\\end{tabular}\n"
      ],
      "text/markdown": [
       "\n",
       "A data.frame: 3 × 3\n",
       "\n",
       "| <!--/--> | played &lt;int&gt; | won &lt;int&gt; | lost &lt;int&gt; |\n",
       "|---|---|---|---|\n",
       "| 1 | 45 | 22 | 12 |\n",
       "| 2 | 49 | 21 | 13 |\n",
       "| 3 | 47 | 14 | 14 |\n",
       "\n"
      ],
      "text/plain": [
       "  played won lost\n",
       "1 45     22  12  \n",
       "2 49     21  13  \n",
       "3 47     14  14  "
      ]
     },
     "metadata": {},
     "output_type": "display_data"
    },
    {
     "data": {
      "text/html": [
       "<table class=\"dataframe\">\n",
       "<caption>A matrix: 3 × 3 of type int</caption>\n",
       "<thead>\n",
       "\t<tr><th></th><th scope=col>played</th><th scope=col>won</th><th scope=col>lost</th></tr>\n",
       "</thead>\n",
       "<tbody>\n",
       "\t<tr><th scope=row>1</th><td>45</td><td>22</td><td>12</td></tr>\n",
       "\t<tr><th scope=row>2</th><td>49</td><td>21</td><td>13</td></tr>\n",
       "\t<tr><th scope=row>3</th><td>47</td><td>14</td><td>14</td></tr>\n",
       "</tbody>\n",
       "</table>\n"
      ],
      "text/latex": [
       "A matrix: 3 × 3 of type int\n",
       "\\begin{tabular}{r|lll}\n",
       "  & played & won & lost\\\\\n",
       "\\hline\n",
       "\t1 & 45 & 22 & 12\\\\\n",
       "\t2 & 49 & 21 & 13\\\\\n",
       "\t3 & 47 & 14 & 14\\\\\n",
       "\\end{tabular}\n"
      ],
      "text/markdown": [
       "\n",
       "A matrix: 3 × 3 of type int\n",
       "\n",
       "| <!--/--> | played | won | lost |\n",
       "|---|---|---|---|\n",
       "| 1 | 45 | 22 | 12 |\n",
       "| 2 | 49 | 21 | 13 |\n",
       "| 3 | 47 | 14 | 14 |\n",
       "\n"
      ],
      "text/plain": [
       "  played won lost\n",
       "1 45     22  12  \n",
       "2 49     21  13  \n",
       "3 47     14  14  "
      ]
     },
     "metadata": {},
     "output_type": "display_data"
    },
    {
     "data": {
      "text/html": [
       "<style>\n",
       ".list-inline {list-style: none; margin:0; padding: 0}\n",
       ".list-inline>li {display: inline-block}\n",
       ".list-inline>li:not(:last-child)::after {content: \"\\00b7\"; padding: 0 .5ex}\n",
       "</style>\n",
       "<ol class=list-inline><li>1</li><li>2</li><li>3</li><li>4</li><li>5</li></ol>\n"
      ],
      "text/latex": [
       "\\begin{enumerate*}\n",
       "\\item 1\n",
       "\\item 2\n",
       "\\item 3\n",
       "\\item 4\n",
       "\\item 5\n",
       "\\end{enumerate*}\n"
      ],
      "text/markdown": [
       "1. 1\n",
       "2. 2\n",
       "3. 3\n",
       "4. 4\n",
       "5. 5\n",
       "\n",
       "\n"
      ],
      "text/plain": [
       "[1] 1 2 3 4 5"
      ]
     },
     "metadata": {},
     "output_type": "display_data"
    }
   ],
   "source": [
    "subData <- cap[1:3,c(\"played\",\"won\",\"lost\")]\n",
    "subData\n",
    "\n",
    "matrixA <- as.matrix(subData)\n",
    "matrixA\n",
    "myVector <- c(1:5)\n",
    "myVector"
   ]
  },
  {
   "cell_type": "code",
   "execution_count": 11,
   "id": "1981b36a",
   "metadata": {},
   "outputs": [
    {
     "data": {
      "text/html": [
       "<ol>\n",
       "\t<li><table class=\"dataframe\">\n",
       "<caption>A data.frame: 6 × 6</caption>\n",
       "<thead>\n",
       "\t<tr><th scope=col>names</th><th scope=col>Y</th><th scope=col>played</th><th scope=col>won</th><th scope=col>lost</th><th scope=col>victory</th></tr>\n",
       "\t<tr><th scope=col>&lt;chr&gt;</th><th scope=col>&lt;int&gt;</th><th scope=col>&lt;int&gt;</th><th scope=col>&lt;int&gt;</th><th scope=col>&lt;int&gt;</th><th scope=col>&lt;dbl&gt;</th></tr>\n",
       "</thead>\n",
       "<tbody>\n",
       "\t<tr><td>Mahi   </td><td>2012</td><td>45</td><td>22</td><td>12</td><td>0.4888889</td></tr>\n",
       "\t<tr><td>Sourav </td><td>2004</td><td>49</td><td>21</td><td>13</td><td>0.4285714</td></tr>\n",
       "\t<tr><td>Azhar  </td><td>2000</td><td>47</td><td>14</td><td>14</td><td>0.2978723</td></tr>\n",
       "\t<tr><td>Sunny  </td><td>1980</td><td>47</td><td> 9</td><td> 8</td><td>0.1914894</td></tr>\n",
       "\t<tr><td>Pataudi</td><td>1965</td><td>40</td><td> 9</td><td>19</td><td>0.2250000</td></tr>\n",
       "\t<tr><td>Dravid </td><td>2008</td><td>25</td><td> 8</td><td> 6</td><td>0.3200000</td></tr>\n",
       "</tbody>\n",
       "</table>\n",
       "</li>\n",
       "\t<li><table class=\"dataframe\">\n",
       "<caption>A matrix: 3 × 3 of type int</caption>\n",
       "<thead>\n",
       "\t<tr><th></th><th scope=col>played</th><th scope=col>won</th><th scope=col>lost</th></tr>\n",
       "</thead>\n",
       "<tbody>\n",
       "\t<tr><th scope=row>1</th><td>45</td><td>22</td><td>12</td></tr>\n",
       "\t<tr><th scope=row>2</th><td>49</td><td>21</td><td>13</td></tr>\n",
       "\t<tr><th scope=row>3</th><td>47</td><td>14</td><td>14</td></tr>\n",
       "</tbody>\n",
       "</table>\n",
       "</li>\n",
       "\t<li><style>\n",
       ".list-inline {list-style: none; margin:0; padding: 0}\n",
       ".list-inline>li {display: inline-block}\n",
       ".list-inline>li:not(:last-child)::after {content: \"\\00b7\"; padding: 0 .5ex}\n",
       "</style>\n",
       "<ol class=list-inline><li>1</li><li>2</li><li>3</li><li>4</li><li>5</li></ol>\n",
       "</li>\n",
       "</ol>\n"
      ],
      "text/latex": [
       "\\begin{enumerate}\n",
       "\\item A data.frame: 6 × 6\n",
       "\\begin{tabular}{llllll}\n",
       " names & Y & played & won & lost & victory\\\\\n",
       " <chr> & <int> & <int> & <int> & <int> & <dbl>\\\\\n",
       "\\hline\n",
       "\t Mahi    & 2012 & 45 & 22 & 12 & 0.4888889\\\\\n",
       "\t Sourav  & 2004 & 49 & 21 & 13 & 0.4285714\\\\\n",
       "\t Azhar   & 2000 & 47 & 14 & 14 & 0.2978723\\\\\n",
       "\t Sunny   & 1980 & 47 &  9 &  8 & 0.1914894\\\\\n",
       "\t Pataudi & 1965 & 40 &  9 & 19 & 0.2250000\\\\\n",
       "\t Dravid  & 2008 & 25 &  8 &  6 & 0.3200000\\\\\n",
       "\\end{tabular}\n",
       "\n",
       "\\item A matrix: 3 × 3 of type int\n",
       "\\begin{tabular}{r|lll}\n",
       "  & played & won & lost\\\\\n",
       "\\hline\n",
       "\t1 & 45 & 22 & 12\\\\\n",
       "\t2 & 49 & 21 & 13\\\\\n",
       "\t3 & 47 & 14 & 14\\\\\n",
       "\\end{tabular}\n",
       "\n",
       "\\item \\begin{enumerate*}\n",
       "\\item 1\n",
       "\\item 2\n",
       "\\item 3\n",
       "\\item 4\n",
       "\\item 5\n",
       "\\end{enumerate*}\n",
       "\n",
       "\\end{enumerate}\n"
      ],
      "text/markdown": [
       "1. \n",
       "A data.frame: 6 × 6\n",
       "\n",
       "| names &lt;chr&gt; | Y &lt;int&gt; | played &lt;int&gt; | won &lt;int&gt; | lost &lt;int&gt; | victory &lt;dbl&gt; |\n",
       "|---|---|---|---|---|---|\n",
       "| Mahi    | 2012 | 45 | 22 | 12 | 0.4888889 |\n",
       "| Sourav  | 2004 | 49 | 21 | 13 | 0.4285714 |\n",
       "| Azhar   | 2000 | 47 | 14 | 14 | 0.2978723 |\n",
       "| Sunny   | 1980 | 47 |  9 |  8 | 0.1914894 |\n",
       "| Pataudi | 1965 | 40 |  9 | 19 | 0.2250000 |\n",
       "| Dravid  | 2008 | 25 |  8 |  6 | 0.3200000 |\n",
       "\n",
       "\n",
       "2. \n",
       "A matrix: 3 × 3 of type int\n",
       "\n",
       "| <!--/--> | played | won | lost |\n",
       "|---|---|---|---|\n",
       "| 1 | 45 | 22 | 12 |\n",
       "| 2 | 49 | 21 | 13 |\n",
       "| 3 | 47 | 14 | 14 |\n",
       "\n",
       "\n",
       "3. 1. 1\n",
       "2. 2\n",
       "3. 3\n",
       "4. 4\n",
       "5. 5\n",
       "\n",
       "\n",
       "\n",
       "\n",
       "\n"
      ],
      "text/plain": [
       "[[1]]\n",
       "    names    Y played won lost   victory\n",
       "1    Mahi 2012     45  22   12 0.4888889\n",
       "2  Sourav 2004     49  21   13 0.4285714\n",
       "3   Azhar 2000     47  14   14 0.2978723\n",
       "4   Sunny 1980     47   9    8 0.1914894\n",
       "5 Pataudi 1965     40   9   19 0.2250000\n",
       "6  Dravid 2008     25   8    6 0.3200000\n",
       "\n",
       "[[2]]\n",
       "  played won lost\n",
       "1     45  22   12\n",
       "2     49  21   13\n",
       "3     47  14   14\n",
       "\n",
       "[[3]]\n",
       "[1] 1 2 3 4 5\n"
      ]
     },
     "metadata": {},
     "output_type": "display_data"
    }
   ],
   "source": [
    "# create a list using \n",
    "# cap , matrixA , myVector\n",
    "\n",
    "myList <- list(cap,matrixA,myVector)\n",
    "myList"
   ]
  },
  {
   "cell_type": "code",
   "execution_count": 12,
   "id": "dc3a3ff7",
   "metadata": {},
   "outputs": [
    {
     "data": {
      "text/html": [
       "<dl>\n",
       "\t<dt>$DataFrame</dt>\n",
       "\t\t<dd><table class=\"dataframe\">\n",
       "<caption>A data.frame: 6 × 6</caption>\n",
       "<thead>\n",
       "\t<tr><th scope=col>names</th><th scope=col>Y</th><th scope=col>played</th><th scope=col>won</th><th scope=col>lost</th><th scope=col>victory</th></tr>\n",
       "\t<tr><th scope=col>&lt;chr&gt;</th><th scope=col>&lt;int&gt;</th><th scope=col>&lt;int&gt;</th><th scope=col>&lt;int&gt;</th><th scope=col>&lt;int&gt;</th><th scope=col>&lt;dbl&gt;</th></tr>\n",
       "</thead>\n",
       "<tbody>\n",
       "\t<tr><td>Mahi   </td><td>2012</td><td>45</td><td>22</td><td>12</td><td>0.4888889</td></tr>\n",
       "\t<tr><td>Sourav </td><td>2004</td><td>49</td><td>21</td><td>13</td><td>0.4285714</td></tr>\n",
       "\t<tr><td>Azhar  </td><td>2000</td><td>47</td><td>14</td><td>14</td><td>0.2978723</td></tr>\n",
       "\t<tr><td>Sunny  </td><td>1980</td><td>47</td><td> 9</td><td> 8</td><td>0.1914894</td></tr>\n",
       "\t<tr><td>Pataudi</td><td>1965</td><td>40</td><td> 9</td><td>19</td><td>0.2250000</td></tr>\n",
       "\t<tr><td>Dravid </td><td>2008</td><td>25</td><td> 8</td><td> 6</td><td>0.3200000</td></tr>\n",
       "</tbody>\n",
       "</table>\n",
       "</dd>\n",
       "\t<dt>$Matrix</dt>\n",
       "\t\t<dd><table class=\"dataframe\">\n",
       "<caption>A matrix: 3 × 3 of type int</caption>\n",
       "<thead>\n",
       "\t<tr><th></th><th scope=col>played</th><th scope=col>won</th><th scope=col>lost</th></tr>\n",
       "</thead>\n",
       "<tbody>\n",
       "\t<tr><th scope=row>1</th><td>45</td><td>22</td><td>12</td></tr>\n",
       "\t<tr><th scope=row>2</th><td>49</td><td>21</td><td>13</td></tr>\n",
       "\t<tr><th scope=row>3</th><td>47</td><td>14</td><td>14</td></tr>\n",
       "</tbody>\n",
       "</table>\n",
       "</dd>\n",
       "\t<dt>$Vector</dt>\n",
       "\t\t<dd><style>\n",
       ".list-inline {list-style: none; margin:0; padding: 0}\n",
       ".list-inline>li {display: inline-block}\n",
       ".list-inline>li:not(:last-child)::after {content: \"\\00b7\"; padding: 0 .5ex}\n",
       "</style>\n",
       "<ol class=list-inline><li>1</li><li>2</li><li>3</li><li>4</li><li>5</li></ol>\n",
       "</dd>\n",
       "</dl>\n"
      ],
      "text/latex": [
       "\\begin{description}\n",
       "\\item[\\$DataFrame] A data.frame: 6 × 6\n",
       "\\begin{tabular}{llllll}\n",
       " names & Y & played & won & lost & victory\\\\\n",
       " <chr> & <int> & <int> & <int> & <int> & <dbl>\\\\\n",
       "\\hline\n",
       "\t Mahi    & 2012 & 45 & 22 & 12 & 0.4888889\\\\\n",
       "\t Sourav  & 2004 & 49 & 21 & 13 & 0.4285714\\\\\n",
       "\t Azhar   & 2000 & 47 & 14 & 14 & 0.2978723\\\\\n",
       "\t Sunny   & 1980 & 47 &  9 &  8 & 0.1914894\\\\\n",
       "\t Pataudi & 1965 & 40 &  9 & 19 & 0.2250000\\\\\n",
       "\t Dravid  & 2008 & 25 &  8 &  6 & 0.3200000\\\\\n",
       "\\end{tabular}\n",
       "\n",
       "\\item[\\$Matrix] A matrix: 3 × 3 of type int\n",
       "\\begin{tabular}{r|lll}\n",
       "  & played & won & lost\\\\\n",
       "\\hline\n",
       "\t1 & 45 & 22 & 12\\\\\n",
       "\t2 & 49 & 21 & 13\\\\\n",
       "\t3 & 47 & 14 & 14\\\\\n",
       "\\end{tabular}\n",
       "\n",
       "\\item[\\$Vector] \\begin{enumerate*}\n",
       "\\item 1\n",
       "\\item 2\n",
       "\\item 3\n",
       "\\item 4\n",
       "\\item 5\n",
       "\\end{enumerate*}\n",
       "\n",
       "\\end{description}\n"
      ],
      "text/markdown": [
       "$DataFrame\n",
       ":   \n",
       "A data.frame: 6 × 6\n",
       "\n",
       "| names &lt;chr&gt; | Y &lt;int&gt; | played &lt;int&gt; | won &lt;int&gt; | lost &lt;int&gt; | victory &lt;dbl&gt; |\n",
       "|---|---|---|---|---|---|\n",
       "| Mahi    | 2012 | 45 | 22 | 12 | 0.4888889 |\n",
       "| Sourav  | 2004 | 49 | 21 | 13 | 0.4285714 |\n",
       "| Azhar   | 2000 | 47 | 14 | 14 | 0.2978723 |\n",
       "| Sunny   | 1980 | 47 |  9 |  8 | 0.1914894 |\n",
       "| Pataudi | 1965 | 40 |  9 | 19 | 0.2250000 |\n",
       "| Dravid  | 2008 | 25 |  8 |  6 | 0.3200000 |\n",
       "\n",
       "\n",
       "$Matrix\n",
       ":   \n",
       "A matrix: 3 × 3 of type int\n",
       "\n",
       "| <!--/--> | played | won | lost |\n",
       "|---|---|---|---|\n",
       "| 1 | 45 | 22 | 12 |\n",
       "| 2 | 49 | 21 | 13 |\n",
       "| 3 | 47 | 14 | 14 |\n",
       "\n",
       "\n",
       "$Vector\n",
       ":   1. 1\n",
       "2. 2\n",
       "3. 3\n",
       "4. 4\n",
       "5. 5\n",
       "\n",
       "\n",
       "\n",
       "\n",
       "\n"
      ],
      "text/plain": [
       "$DataFrame\n",
       "    names    Y played won lost   victory\n",
       "1    Mahi 2012     45  22   12 0.4888889\n",
       "2  Sourav 2004     49  21   13 0.4285714\n",
       "3   Azhar 2000     47  14   14 0.2978723\n",
       "4   Sunny 1980     47   9    8 0.1914894\n",
       "5 Pataudi 1965     40   9   19 0.2250000\n",
       "6  Dravid 2008     25   8    6 0.3200000\n",
       "\n",
       "$Matrix\n",
       "  played won lost\n",
       "1     45  22   12\n",
       "2     49  21   13\n",
       "3     47  14   14\n",
       "\n",
       "$Vector\n",
       "[1] 1 2 3 4 5\n"
      ]
     },
     "metadata": {},
     "output_type": "display_data"
    }
   ],
   "source": [
    "# Giving some Names to the indexes of list \n",
    "\n",
    "names(myList) <- c(\"DataFrame\",\"Matrix\",\"Vector\")\n",
    "\n",
    "myList"
   ]
  },
  {
   "cell_type": "code",
   "execution_count": 15,
   "id": "c6cc38ab",
   "metadata": {},
   "outputs": [
    {
     "data": {
      "text/html": [
       "<strong>$Vector</strong> = <style>\n",
       ".list-inline {list-style: none; margin:0; padding: 0}\n",
       ".list-inline>li {display: inline-block}\n",
       ".list-inline>li:not(:last-child)::after {content: \"\\00b7\"; padding: 0 .5ex}\n",
       "</style>\n",
       "<ol class=list-inline><li>1</li><li>2</li><li>3</li><li>4</li><li>5</li></ol>\n"
      ],
      "text/latex": [
       "\\textbf{\\$Vector} = \\begin{enumerate*}\n",
       "\\item 1\n",
       "\\item 2\n",
       "\\item 3\n",
       "\\item 4\n",
       "\\item 5\n",
       "\\end{enumerate*}\n"
      ],
      "text/markdown": [
       "**$Vector** = 1. 1\n",
       "2. 2\n",
       "3. 3\n",
       "4. 4\n",
       "5. 5\n",
       "\n",
       "\n"
      ],
      "text/plain": [
       "$Vector\n",
       "[1] 1 2 3 4 5\n"
      ]
     },
     "metadata": {},
     "output_type": "display_data"
    },
    {
     "data": {
      "text/html": [
       "<strong>$Matrix</strong> = <table class=\"dataframe\">\n",
       "<caption>A matrix: 3 × 3 of type int</caption>\n",
       "<thead>\n",
       "\t<tr><th></th><th scope=col>played</th><th scope=col>won</th><th scope=col>lost</th></tr>\n",
       "</thead>\n",
       "<tbody>\n",
       "\t<tr><th scope=row>1</th><td>45</td><td>22</td><td>12</td></tr>\n",
       "\t<tr><th scope=row>2</th><td>49</td><td>21</td><td>13</td></tr>\n",
       "\t<tr><th scope=row>3</th><td>47</td><td>14</td><td>14</td></tr>\n",
       "</tbody>\n",
       "</table>\n"
      ],
      "text/latex": [
       "\\textbf{\\$Matrix} = A matrix: 3 × 3 of type int\n",
       "\\begin{tabular}{r|lll}\n",
       "  & played & won & lost\\\\\n",
       "\\hline\n",
       "\t1 & 45 & 22 & 12\\\\\n",
       "\t2 & 49 & 21 & 13\\\\\n",
       "\t3 & 47 & 14 & 14\\\\\n",
       "\\end{tabular}\n"
      ],
      "text/markdown": [
       "**$Matrix** = \n",
       "A matrix: 3 × 3 of type int\n",
       "\n",
       "| <!--/--> | played | won | lost |\n",
       "|---|---|---|---|\n",
       "| 1 | 45 | 22 | 12 |\n",
       "| 2 | 49 | 21 | 13 |\n",
       "| 3 | 47 | 14 | 14 |\n",
       "\n"
      ],
      "text/plain": [
       "$Matrix\n",
       "  played won lost\n",
       "1     45  22   12\n",
       "2     49  21   13\n",
       "3     47  14   14\n"
      ]
     },
     "metadata": {},
     "output_type": "display_data"
    }
   ],
   "source": [
    "myList[\"Vector\"]    # accessing the elements through in indexes\n",
    "\n",
    "myList[\"Matrix\"]"
   ]
  },
  {
   "cell_type": "code",
   "execution_count": 17,
   "id": "1db4665b",
   "metadata": {},
   "outputs": [
    {
     "data": {
      "text/html": [
       "<style>\n",
       ".list-inline {list-style: none; margin:0; padding: 0}\n",
       ".list-inline>li {display: inline-block}\n",
       ".list-inline>li:not(:last-child)::after {content: \"\\00b7\"; padding: 0 .5ex}\n",
       "</style>\n",
       "<ol class=list-inline><li>1</li><li>2</li><li>3</li><li>4</li><li>5</li></ol>\n"
      ],
      "text/latex": [
       "\\begin{enumerate*}\n",
       "\\item 1\n",
       "\\item 2\n",
       "\\item 3\n",
       "\\item 4\n",
       "\\item 5\n",
       "\\end{enumerate*}\n"
      ],
      "text/markdown": [
       "1. 1\n",
       "2. 2\n",
       "3. 3\n",
       "4. 4\n",
       "5. 5\n",
       "\n",
       "\n"
      ],
      "text/plain": [
       "[1] 1 2 3 4 5"
      ]
     },
     "metadata": {},
     "output_type": "display_data"
    },
    {
     "data": {
      "text/html": [
       "<table class=\"dataframe\">\n",
       "<caption>A matrix: 3 × 3 of type int</caption>\n",
       "<thead>\n",
       "\t<tr><th></th><th scope=col>played</th><th scope=col>won</th><th scope=col>lost</th></tr>\n",
       "</thead>\n",
       "<tbody>\n",
       "\t<tr><th scope=row>1</th><td>45</td><td>22</td><td>12</td></tr>\n",
       "\t<tr><th scope=row>2</th><td>49</td><td>21</td><td>13</td></tr>\n",
       "\t<tr><th scope=row>3</th><td>47</td><td>14</td><td>14</td></tr>\n",
       "</tbody>\n",
       "</table>\n"
      ],
      "text/latex": [
       "A matrix: 3 × 3 of type int\n",
       "\\begin{tabular}{r|lll}\n",
       "  & played & won & lost\\\\\n",
       "\\hline\n",
       "\t1 & 45 & 22 & 12\\\\\n",
       "\t2 & 49 & 21 & 13\\\\\n",
       "\t3 & 47 & 14 & 14\\\\\n",
       "\\end{tabular}\n"
      ],
      "text/markdown": [
       "\n",
       "A matrix: 3 × 3 of type int\n",
       "\n",
       "| <!--/--> | played | won | lost |\n",
       "|---|---|---|---|\n",
       "| 1 | 45 | 22 | 12 |\n",
       "| 2 | 49 | 21 | 13 |\n",
       "| 3 | 47 | 14 | 14 |\n",
       "\n"
      ],
      "text/plain": [
       "  played won lost\n",
       "1 45     22  12  \n",
       "2 49     21  13  \n",
       "3 47     14  14  "
      ]
     },
     "metadata": {},
     "output_type": "display_data"
    }
   ],
   "source": [
    "# alternatively we can use - \n",
    "myList$Vector\n",
    "\n",
    "myList$Matrix"
   ]
  },
  {
   "cell_type": "code",
   "execution_count": 21,
   "id": "6637a06e",
   "metadata": {},
   "outputs": [
    {
     "data": {
      "text/html": [
       "<strong>$Matrix</strong> = <table class=\"dataframe\">\n",
       "<caption>A matrix: 3 × 3 of type int</caption>\n",
       "<thead>\n",
       "\t<tr><th></th><th scope=col>played</th><th scope=col>won</th><th scope=col>lost</th></tr>\n",
       "</thead>\n",
       "<tbody>\n",
       "\t<tr><th scope=row>1</th><td>45</td><td>22</td><td>12</td></tr>\n",
       "\t<tr><th scope=row>2</th><td>49</td><td>21</td><td>13</td></tr>\n",
       "\t<tr><th scope=row>3</th><td>47</td><td>14</td><td>14</td></tr>\n",
       "</tbody>\n",
       "</table>\n"
      ],
      "text/latex": [
       "\\textbf{\\$Matrix} = A matrix: 3 × 3 of type int\n",
       "\\begin{tabular}{r|lll}\n",
       "  & played & won & lost\\\\\n",
       "\\hline\n",
       "\t1 & 45 & 22 & 12\\\\\n",
       "\t2 & 49 & 21 & 13\\\\\n",
       "\t3 & 47 & 14 & 14\\\\\n",
       "\\end{tabular}\n"
      ],
      "text/markdown": [
       "**$Matrix** = \n",
       "A matrix: 3 × 3 of type int\n",
       "\n",
       "| <!--/--> | played | won | lost |\n",
       "|---|---|---|---|\n",
       "| 1 | 45 | 22 | 12 |\n",
       "| 2 | 49 | 21 | 13 |\n",
       "| 3 | 47 | 14 | 14 |\n",
       "\n"
      ],
      "text/plain": [
       "$Matrix\n",
       "  played won lost\n",
       "1     45  22   12\n",
       "2     49  21   13\n",
       "3     47  14   14\n"
      ]
     },
     "metadata": {},
     "output_type": "display_data"
    }
   ],
   "source": [
    "myList[2]"
   ]
  },
  {
   "cell_type": "code",
   "execution_count": 26,
   "id": "9230e88a",
   "metadata": {},
   "outputs": [
    {
     "data": {
      "text/html": [
       "<style>\n",
       ".dl-inline {width: auto; margin:0; padding: 0}\n",
       ".dl-inline>dt, .dl-inline>dd {float: none; width: auto; display: inline-block}\n",
       ".dl-inline>dt::after {content: \":\\0020\"; padding-right: .5ex}\n",
       ".dl-inline>dt:not(:first-of-type) {padding-left: .5ex}\n",
       "</style><dl class=dl-inline><dt>1</dt><dd>45</dd><dt>2</dt><dd>49</dd><dt>3</dt><dd>47</dd></dl>\n"
      ],
      "text/latex": [
       "\\begin{description*}\n",
       "\\item[1] 45\n",
       "\\item[2] 49\n",
       "\\item[3] 47\n",
       "\\end{description*}\n"
      ],
      "text/markdown": [
       "1\n",
       ":   452\n",
       ":   493\n",
       ":   47\n",
       "\n"
      ],
      "text/plain": [
       " 1  2  3 \n",
       "45 49 47 "
      ]
     },
     "metadata": {},
     "output_type": "display_data"
    }
   ],
   "source": [
    "myList[[2]][,1]    # we can access the column of the matrix (1st col)  \n",
    "\n",
    "# syntax : myList[[2]][,i]  for all i in cols    "
   ]
  },
  {
   "cell_type": "code",
   "execution_count": 28,
   "id": "f30a1629",
   "metadata": {},
   "outputs": [
    {
     "data": {
      "text/html": [
       "<style>\n",
       ".dl-inline {width: auto; margin:0; padding: 0}\n",
       ".dl-inline>dt, .dl-inline>dd {float: none; width: auto; display: inline-block}\n",
       ".dl-inline>dt::after {content: \":\\0020\"; padding-right: .5ex}\n",
       ".dl-inline>dt:not(:first-of-type) {padding-left: .5ex}\n",
       "</style><dl class=dl-inline><dt>played</dt><dd>45</dd><dt>won</dt><dd>22</dd><dt>lost</dt><dd>12</dd></dl>\n"
      ],
      "text/latex": [
       "\\begin{description*}\n",
       "\\item[played] 45\n",
       "\\item[won] 22\n",
       "\\item[lost] 12\n",
       "\\end{description*}\n"
      ],
      "text/markdown": [
       "played\n",
       ":   45won\n",
       ":   22lost\n",
       ":   12\n",
       "\n"
      ],
      "text/plain": [
       "played    won   lost \n",
       "    45     22     12 "
      ]
     },
     "metadata": {},
     "output_type": "display_data"
    }
   ],
   "source": [
    "myList[[2]][1,]    # we can access the row of the matrix (1st row)\n",
    "\n",
    "# syntax : myList[[2]][j,]  for all j in rows    "
   ]
  },
  {
   "cell_type": "code",
   "execution_count": 33,
   "id": "61625b1a",
   "metadata": {},
   "outputs": [
    {
     "data": {
      "text/html": [
       "<dl>\n",
       "\t<dt>$DataFrame</dt>\n",
       "\t\t<dd><table class=\"dataframe\">\n",
       "<caption>A data.frame: 6 × 6</caption>\n",
       "<thead>\n",
       "\t<tr><th scope=col>names</th><th scope=col>Y</th><th scope=col>played</th><th scope=col>won</th><th scope=col>lost</th><th scope=col>victory</th></tr>\n",
       "\t<tr><th scope=col>&lt;chr&gt;</th><th scope=col>&lt;int&gt;</th><th scope=col>&lt;int&gt;</th><th scope=col>&lt;int&gt;</th><th scope=col>&lt;int&gt;</th><th scope=col>&lt;dbl&gt;</th></tr>\n",
       "</thead>\n",
       "<tbody>\n",
       "\t<tr><td>Mahi   </td><td>2012</td><td>45</td><td>22</td><td>12</td><td>0.4888889</td></tr>\n",
       "\t<tr><td>Sourav </td><td>2004</td><td>49</td><td>21</td><td>13</td><td>0.4285714</td></tr>\n",
       "\t<tr><td>Azhar  </td><td>2000</td><td>47</td><td>14</td><td>14</td><td>0.2978723</td></tr>\n",
       "\t<tr><td>Sunny  </td><td>1980</td><td>47</td><td> 9</td><td> 8</td><td>0.1914894</td></tr>\n",
       "\t<tr><td>Pataudi</td><td>1965</td><td>40</td><td> 9</td><td>19</td><td>0.2250000</td></tr>\n",
       "\t<tr><td>Dravid </td><td>2008</td><td>25</td><td> 8</td><td> 6</td><td>0.3200000</td></tr>\n",
       "</tbody>\n",
       "</table>\n",
       "</dd>\n",
       "\t<dt>$Matrix</dt>\n",
       "\t\t<dd><table class=\"dataframe\">\n",
       "<caption>A matrix: 3 × 3 of type int</caption>\n",
       "<thead>\n",
       "\t<tr><th></th><th scope=col>played</th><th scope=col>won</th><th scope=col>lost</th></tr>\n",
       "</thead>\n",
       "<tbody>\n",
       "\t<tr><th scope=row>1</th><td>45</td><td>22</td><td>12</td></tr>\n",
       "\t<tr><th scope=row>2</th><td>49</td><td>21</td><td>13</td></tr>\n",
       "\t<tr><th scope=row>3</th><td>47</td><td>14</td><td>14</td></tr>\n",
       "</tbody>\n",
       "</table>\n",
       "</dd>\n",
       "\t<dt>$Vector</dt>\n",
       "\t\t<dd><style>\n",
       ".list-inline {list-style: none; margin:0; padding: 0}\n",
       ".list-inline>li {display: inline-block}\n",
       ".list-inline>li:not(:last-child)::after {content: \"\\00b7\"; padding: 0 .5ex}\n",
       "</style>\n",
       "<ol class=list-inline><li>1</li><li>2</li><li>3</li><li>4</li><li>5</li></ol>\n",
       "</dd>\n",
       "\t<dt>$x</dt>\n",
       "\t\t<dd>'One'</dd>\n",
       "\t<dt>$y</dt>\n",
       "\t\t<dd>'Two'</dd>\n",
       "\t<dt>$z</dt>\n",
       "\t\t<dd>'Three'</dd>\n",
       "</dl>\n"
      ],
      "text/latex": [
       "\\begin{description}\n",
       "\\item[\\$DataFrame] A data.frame: 6 × 6\n",
       "\\begin{tabular}{llllll}\n",
       " names & Y & played & won & lost & victory\\\\\n",
       " <chr> & <int> & <int> & <int> & <int> & <dbl>\\\\\n",
       "\\hline\n",
       "\t Mahi    & 2012 & 45 & 22 & 12 & 0.4888889\\\\\n",
       "\t Sourav  & 2004 & 49 & 21 & 13 & 0.4285714\\\\\n",
       "\t Azhar   & 2000 & 47 & 14 & 14 & 0.2978723\\\\\n",
       "\t Sunny   & 1980 & 47 &  9 &  8 & 0.1914894\\\\\n",
       "\t Pataudi & 1965 & 40 &  9 & 19 & 0.2250000\\\\\n",
       "\t Dravid  & 2008 & 25 &  8 &  6 & 0.3200000\\\\\n",
       "\\end{tabular}\n",
       "\n",
       "\\item[\\$Matrix] A matrix: 3 × 3 of type int\n",
       "\\begin{tabular}{r|lll}\n",
       "  & played & won & lost\\\\\n",
       "\\hline\n",
       "\t1 & 45 & 22 & 12\\\\\n",
       "\t2 & 49 & 21 & 13\\\\\n",
       "\t3 & 47 & 14 & 14\\\\\n",
       "\\end{tabular}\n",
       "\n",
       "\\item[\\$Vector] \\begin{enumerate*}\n",
       "\\item 1\n",
       "\\item 2\n",
       "\\item 3\n",
       "\\item 4\n",
       "\\item 5\n",
       "\\end{enumerate*}\n",
       "\n",
       "\\item[\\$x] 'One'\n",
       "\\item[\\$y] 'Two'\n",
       "\\item[\\$z] 'Three'\n",
       "\\end{description}\n"
      ],
      "text/markdown": [
       "$DataFrame\n",
       ":   \n",
       "A data.frame: 6 × 6\n",
       "\n",
       "| names &lt;chr&gt; | Y &lt;int&gt; | played &lt;int&gt; | won &lt;int&gt; | lost &lt;int&gt; | victory &lt;dbl&gt; |\n",
       "|---|---|---|---|---|---|\n",
       "| Mahi    | 2012 | 45 | 22 | 12 | 0.4888889 |\n",
       "| Sourav  | 2004 | 49 | 21 | 13 | 0.4285714 |\n",
       "| Azhar   | 2000 | 47 | 14 | 14 | 0.2978723 |\n",
       "| Sunny   | 1980 | 47 |  9 |  8 | 0.1914894 |\n",
       "| Pataudi | 1965 | 40 |  9 | 19 | 0.2250000 |\n",
       "| Dravid  | 2008 | 25 |  8 |  6 | 0.3200000 |\n",
       "\n",
       "\n",
       "$Matrix\n",
       ":   \n",
       "A matrix: 3 × 3 of type int\n",
       "\n",
       "| <!--/--> | played | won | lost |\n",
       "|---|---|---|---|\n",
       "| 1 | 45 | 22 | 12 |\n",
       "| 2 | 49 | 21 | 13 |\n",
       "| 3 | 47 | 14 | 14 |\n",
       "\n",
       "\n",
       "$Vector\n",
       ":   1. 1\n",
       "2. 2\n",
       "3. 3\n",
       "4. 4\n",
       "5. 5\n",
       "\n",
       "\n",
       "\n",
       "$x\n",
       ":   'One'\n",
       "$y\n",
       ":   'Two'\n",
       "$z\n",
       ":   'Three'\n",
       "\n",
       "\n"
      ],
      "text/plain": [
       "$DataFrame\n",
       "    names    Y played won lost   victory\n",
       "1    Mahi 2012     45  22   12 0.4888889\n",
       "2  Sourav 2004     49  21   13 0.4285714\n",
       "3   Azhar 2000     47  14   14 0.2978723\n",
       "4   Sunny 1980     47   9    8 0.1914894\n",
       "5 Pataudi 1965     40   9   19 0.2250000\n",
       "6  Dravid 2008     25   8    6 0.3200000\n",
       "\n",
       "$Matrix\n",
       "  played won lost\n",
       "1     45  22   12\n",
       "2     49  21   13\n",
       "3     47  14   14\n",
       "\n",
       "$Vector\n",
       "[1] 1 2 3 4 5\n",
       "\n",
       "$x\n",
       "[1] \"One\"\n",
       "\n",
       "$y\n",
       "[1] \"Two\"\n",
       "\n",
       "$z\n",
       "[1] \"Three\"\n"
      ]
     },
     "metadata": {},
     "output_type": "display_data"
    }
   ],
   "source": [
    "listSimple <- c(\"One\",\"Two\",\"Three\")\n",
    "merged.list <- c(myList,listSimple)\n",
    "\n",
    "names(merged.list) <- c(\"DataFrame\",\"Matrix\",\"Vector\",\"x\",\"y\",\"z\")\n",
    "merged.list"
   ]
  }
 ],
 "metadata": {
  "kernelspec": {
   "display_name": "R",
   "language": "R",
   "name": "ir"
  },
  "language_info": {
   "codemirror_mode": "r",
   "file_extension": ".r",
   "mimetype": "text/x-r-source",
   "name": "R",
   "pygments_lexer": "r",
   "version": "4.2.1"
  }
 },
 "nbformat": 4,
 "nbformat_minor": 5
}
