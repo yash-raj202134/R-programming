{
 "cells": [
  {
   "cell_type": "code",
   "execution_count": 5,
   "id": "25267d5a",
   "metadata": {},
   "outputs": [
    {
     "name": "stdout",
     "output_type": "stream",
     "text": [
      "[1] \"Hello World !\"\n"
     ]
    },
    {
     "data": {
      "text/html": [
       "'Multi-line comments\\nare awesome '"
      ],
      "text/latex": [
       "'Multi-line comments\\textbackslash{}nare awesome '"
      ],
      "text/markdown": [
       "'Multi-line comments\\nare awesome '"
      ],
      "text/plain": [
       "[1] \"Multi-line comments\\nare awesome \""
      ]
     },
     "metadata": {},
     "output_type": "display_data"
    }
   ],
   "source": [
    "string <- \"Hello World !\"\n",
    "# string variable is created and assigned string \"Hello world\" using '<-'\n",
    "print(string)\n",
    "\"Multi-line comments\n",
    "are awesome \""
   ]
  },
  {
   "cell_type": "code",
   "execution_count": 15,
   "id": "8bbca013",
   "metadata": {},
   "outputs": [
    {
     "data": {
      "image/png": "[encoded data removed]",
      "text/plain": [
       "plot without title"
      ]
     },
     "metadata": {
      "image/png": {
       "height": 420,
       "width": 420
      }
     },
     "output_type": "display_data"
    }
   ],
   "source": [
    "plot(2:10)"
   ]
  },
  {
   "cell_type": "code",
   "execution_count": 14,
   "id": "acaad9ce",
   "metadata": {},
   "outputs": [
    {
     "data": {
      "image/png": "[encoded data removed]",
      "text/plain": [
       "plot without title"
      ]
     },
     "metadata": {
      "image/png": {
       "height": 420,
       "width": 420
      }
     },
     "output_type": "display_data"
    }
   ],
   "source": [
    "plot(2:1000)"
   ]
  },
  {
   "cell_type": "code",
   "execution_count": 77,
   "id": "9e374421",
   "metadata": {},
   "outputs": [
    {
     "data": {
      "image/png": "[encoded data removed]",
      "text/plain": [
       "Plot with title \"My Graph(sample)\""
      ]
     },
     "metadata": {
      "image/png": {
       "height": 420,
       "width": 420
      }
     },
     "output_type": "display_data"
    }
   ],
   "source": [
    "sample <- c(1,4,9,16,25,36,49,64,81,100)\n",
    "plot(sample,type='l',main=\"My Graph(sample)\",xlab=\"X-axis\",ylab=\"Y-axis\",col='red')"
   ]
  },
  {
   "cell_type": "markdown",
   "id": "31cd3443",
   "metadata": {},
   "source": [
    "# Data Frames in R"
   ]
  },
  {
   "cell_type": "code",
   "execution_count": 2,
   "id": "ab80a967",
   "metadata": {},
   "outputs": [
    {
     "data": {
      "text/html": [
       "<style>\n",
       ".list-inline {list-style: none; margin:0; padding: 0}\n",
       ".list-inline>li {display: inline-block}\n",
       ".list-inline>li:not(:last-child)::after {content: \"\\00b7\"; padding: 0 .5ex}\n",
       "</style>\n",
       "<ol class=list-inline><li>-2</li><li>3</li><li>5</li><li>4.5</li></ol>\n"
      ],
      "text/latex": [
       "\\begin{enumerate*}\n",
       "\\item -2\n",
       "\\item 3\n",
       "\\item 5\n",
       "\\item 4.5\n",
       "\\end{enumerate*}\n"
      ],
      "text/markdown": [
       "1. -2\n",
       "2. 3\n",
       "3. 5\n",
       "4. 4.5\n",
       "\n",
       "\n"
      ],
      "text/plain": [
       "[1] -2.0  3.0  5.0  4.5"
      ]
     },
     "metadata": {},
     "output_type": "display_data"
    }
   ],
   "source": [
    "sample <- c(-2,3,5,4.5)\n",
    "sample"
   ]
  },
  {
   "cell_type": "code",
   "execution_count": 3,
   "id": "fdd51d9d",
   "metadata": {},
   "outputs": [],
   "source": [
    "names = c(\"Virat\",\"Rohit\",\"Surya\",\"Hardik\",\"Jadeja\")"
   ]
  },
  {
   "cell_type": "code",
   "execution_count": 4,
   "id": "f53533ae",
   "metadata": {},
   "outputs": [],
   "source": [
    "matches = c(102,90,34,50,67)"
   ]
  },
  {
   "cell_type": "code",
   "execution_count": 6,
   "id": "08ff32c2",
   "metadata": {},
   "outputs": [],
   "source": [
    "runs = c(566,345,463,334,34)"
   ]
  },
  {
   "cell_type": "code",
   "execution_count": 8,
   "id": "bbaefa60",
   "metadata": {},
   "outputs": [],
   "source": [
    "sixes = c(23,56,23,12,23)"
   ]
  },
  {
   "cell_type": "code",
   "execution_count": 10,
   "id": "f7cfb570",
   "metadata": {},
   "outputs": [],
   "source": [
    "fours = c(45,34,35,33,25)"
   ]
  },
  {
   "cell_type": "code",
   "execution_count": 12,
   "id": "7c168b94",
   "metadata": {},
   "outputs": [
    {
     "data": {
      "text/html": [
       "<table class=\"dataframe\">\n",
       "<caption>A data.frame: 5 × 5</caption>\n",
       "<thead>\n",
       "\t<tr><th scope=col>names</th><th scope=col>matches</th><th scope=col>runs</th><th scope=col>sixes</th><th scope=col>fours</th></tr>\n",
       "\t<tr><th scope=col>&lt;chr&gt;</th><th scope=col>&lt;dbl&gt;</th><th scope=col>&lt;dbl&gt;</th><th scope=col>&lt;dbl&gt;</th><th scope=col>&lt;dbl&gt;</th></tr>\n",
       "</thead>\n",
       "<tbody>\n",
       "\t<tr><td>Virat </td><td>102</td><td>566</td><td>23</td><td>45</td></tr>\n",
       "\t<tr><td>Rohit </td><td> 90</td><td>345</td><td>56</td><td>34</td></tr>\n",
       "\t<tr><td>Surya </td><td> 34</td><td>463</td><td>23</td><td>35</td></tr>\n",
       "\t<tr><td>Hardik</td><td> 50</td><td>334</td><td>12</td><td>33</td></tr>\n",
       "\t<tr><td>Jadeja</td><td> 67</td><td> 34</td><td>23</td><td>25</td></tr>\n",
       "</tbody>\n",
       "</table>\n"
      ],
      "text/latex": [
       "A data.frame: 5 × 5\n",
       "\\begin{tabular}{lllll}\n",
       " names & matches & runs & sixes & fours\\\\\n",
       " <chr> & <dbl> & <dbl> & <dbl> & <dbl>\\\\\n",
       "\\hline\n",
       "\t Virat  & 102 & 566 & 23 & 45\\\\\n",
       "\t Rohit  &  90 & 345 & 56 & 34\\\\\n",
       "\t Surya  &  34 & 463 & 23 & 35\\\\\n",
       "\t Hardik &  50 & 334 & 12 & 33\\\\\n",
       "\t Jadeja &  67 &  34 & 23 & 25\\\\\n",
       "\\end{tabular}\n"
      ],
      "text/markdown": [
       "\n",
       "A data.frame: 5 × 5\n",
       "\n",
       "| names &lt;chr&gt; | matches &lt;dbl&gt; | runs &lt;dbl&gt; | sixes &lt;dbl&gt; | fours &lt;dbl&gt; |\n",
       "|---|---|---|---|---|\n",
       "| Virat  | 102 | 566 | 23 | 45 |\n",
       "| Rohit  |  90 | 345 | 56 | 34 |\n",
       "| Surya  |  34 | 463 | 23 | 35 |\n",
       "| Hardik |  50 | 334 | 12 | 33 |\n",
       "| Jadeja |  67 |  34 | 23 | 25 |\n",
       "\n"
      ],
      "text/plain": [
       "  names  matches runs sixes fours\n",
       "1 Virat  102     566  23    45   \n",
       "2 Rohit   90     345  56    34   \n",
       "3 Surya   34     463  23    35   \n",
       "4 Hardik  50     334  12    33   \n",
       "5 Jadeja  67      34  23    25   "
      ]
     },
     "metadata": {},
     "output_type": "display_data"
    }
   ],
   "source": [
    "stats = data.frame(names,matches,runs,sixes,fours)\n",
    "stats"
   ]
  },
  {
   "cell_type": "code",
   "execution_count": 25,
   "id": "e06a5748",
   "metadata": {},
   "outputs": [],
   "source": [
    "ratio <- stats$runs/stats$matches"
   ]
  },
  {
   "cell_type": "code",
   "execution_count": 36,
   "id": "3c8b3b3d",
   "metadata": {},
   "outputs": [],
   "source": [
    "stats = data.frame(sno,names,matches,runs,sixes,fours)"
   ]
  },
  {
   "cell_type": "code",
   "execution_count": 35,
   "id": "d78ee6d9",
   "metadata": {},
   "outputs": [],
   "source": [
    "sno <- c(1,2,3,4,5)"
   ]
  },
  {
   "cell_type": "code",
   "execution_count": 37,
   "id": "5f06dc18",
   "metadata": {},
   "outputs": [
    {
     "data": {
      "text/html": [
       "<table class=\"dataframe\">\n",
       "<caption>A data.frame: 5 × 6</caption>\n",
       "<thead>\n",
       "\t<tr><th scope=col>sno</th><th scope=col>names</th><th scope=col>matches</th><th scope=col>runs</th><th scope=col>sixes</th><th scope=col>fours</th></tr>\n",
       "\t<tr><th scope=col>&lt;dbl&gt;</th><th scope=col>&lt;chr&gt;</th><th scope=col>&lt;dbl&gt;</th><th scope=col>&lt;dbl&gt;</th><th scope=col>&lt;dbl&gt;</th><th scope=col>&lt;dbl&gt;</th></tr>\n",
       "</thead>\n",
       "<tbody>\n",
       "\t<tr><td>1</td><td>Virat </td><td>102</td><td>566</td><td>23</td><td>45</td></tr>\n",
       "\t<tr><td>2</td><td>Rohit </td><td> 90</td><td>345</td><td>56</td><td>34</td></tr>\n",
       "\t<tr><td>3</td><td>Surya </td><td> 34</td><td>463</td><td>23</td><td>35</td></tr>\n",
       "\t<tr><td>4</td><td>Hardik</td><td> 50</td><td>334</td><td>12</td><td>33</td></tr>\n",
       "\t<tr><td>5</td><td>Jadeja</td><td> 67</td><td> 34</td><td>23</td><td>25</td></tr>\n",
       "</tbody>\n",
       "</table>\n"
      ],
      "text/latex": [
       "A data.frame: 5 × 6\n",
       "\\begin{tabular}{llllll}\n",
       " sno & names & matches & runs & sixes & fours\\\\\n",
       " <dbl> & <chr> & <dbl> & <dbl> & <dbl> & <dbl>\\\\\n",
       "\\hline\n",
       "\t 1 & Virat  & 102 & 566 & 23 & 45\\\\\n",
       "\t 2 & Rohit  &  90 & 345 & 56 & 34\\\\\n",
       "\t 3 & Surya  &  34 & 463 & 23 & 35\\\\\n",
       "\t 4 & Hardik &  50 & 334 & 12 & 33\\\\\n",
       "\t 5 & Jadeja &  67 &  34 & 23 & 25\\\\\n",
       "\\end{tabular}\n"
      ],
      "text/markdown": [
       "\n",
       "A data.frame: 5 × 6\n",
       "\n",
       "| sno &lt;dbl&gt; | names &lt;chr&gt; | matches &lt;dbl&gt; | runs &lt;dbl&gt; | sixes &lt;dbl&gt; | fours &lt;dbl&gt; |\n",
       "|---|---|---|---|---|---|\n",
       "| 1 | Virat  | 102 | 566 | 23 | 45 |\n",
       "| 2 | Rohit  |  90 | 345 | 56 | 34 |\n",
       "| 3 | Surya  |  34 | 463 | 23 | 35 |\n",
       "| 4 | Hardik |  50 | 334 | 12 | 33 |\n",
       "| 5 | Jadeja |  67 |  34 | 23 | 25 |\n",
       "\n"
      ],
      "text/plain": [
       "  sno names  matches runs sixes fours\n",
       "1 1   Virat  102     566  23    45   \n",
       "2 2   Rohit   90     345  56    34   \n",
       "3 3   Surya   34     463  23    35   \n",
       "4 4   Hardik  50     334  12    33   \n",
       "5 5   Jadeja  67      34  23    25   "
      ]
     },
     "metadata": {},
     "output_type": "display_data"
    }
   ],
   "source": [
    "stats"
   ]
  },
  {
   "cell_type": "code",
   "execution_count": 46,
   "id": "518e0b22",
   "metadata": {},
   "outputs": [
    {
     "data": {
      "image/png": "[encoded data removed]",
      "text/plain": [
       "plot without title"
      ]
     },
     "metadata": {
      "image/png": {
       "height": 420,
       "width": 420
      }
     },
     "output_type": "display_data"
    }
   ],
   "source": [
    "barplot(runs,sno)"
   ]
  },
  {
   "cell_type": "code",
   "execution_count": 48,
   "id": "68fa4e1a",
   "metadata": {},
   "outputs": [
    {
     "name": "stderr",
     "output_type": "stream",
     "text": [
      "Installing package into 'C:/Users/Yash/AppData/Local/R/win-library/4.2'\n",
      "(as 'lib' is unspecified)\n",
      "\n"
     ]
    },
    {
     "name": "stdout",
     "output_type": "stream",
     "text": [
      "package 'plotrix' successfully unpacked and MD5 sums checked\n",
      "\n",
      "The downloaded binary packages are in\n",
      "\tC:\\Users\\Yash\\AppData\\Local\\Temp\\RtmpYlTRXa\\downloaded_packages\n"
     ]
    }
   ],
   "source": [
    "install.packages('plotrix')"
   ]
  },
  {
   "cell_type": "code",
   "execution_count": 53,
   "id": "e1d36e28",
   "metadata": {},
   "outputs": [
    {
     "data": {
      "text/html": [
       "<table class=\"dataframe\">\n",
       "<caption>A data.frame: 5 × 6</caption>\n",
       "<thead>\n",
       "\t<tr><th scope=col>sno</th><th scope=col>names</th><th scope=col>matches</th><th scope=col>runs</th><th scope=col>sixes</th><th scope=col>fours</th></tr>\n",
       "\t<tr><th scope=col>&lt;dbl&gt;</th><th scope=col>&lt;chr&gt;</th><th scope=col>&lt;dbl&gt;</th><th scope=col>&lt;dbl&gt;</th><th scope=col>&lt;dbl&gt;</th><th scope=col>&lt;dbl&gt;</th></tr>\n",
       "</thead>\n",
       "<tbody>\n",
       "\t<tr><td>1</td><td>Virat </td><td>102</td><td>566</td><td>23</td><td>45</td></tr>\n",
       "\t<tr><td>2</td><td>Rohit </td><td> 90</td><td>345</td><td>56</td><td>34</td></tr>\n",
       "\t<tr><td>3</td><td>Surya </td><td> 34</td><td>463</td><td>23</td><td>35</td></tr>\n",
       "\t<tr><td>4</td><td>Hardik</td><td> 50</td><td>334</td><td>12</td><td>33</td></tr>\n",
       "\t<tr><td>5</td><td>Jadeja</td><td> 67</td><td> 34</td><td>23</td><td>25</td></tr>\n",
       "</tbody>\n",
       "</table>\n"
      ],
      "text/latex": [
       "A data.frame: 5 × 6\n",
       "\\begin{tabular}{llllll}\n",
       " sno & names & matches & runs & sixes & fours\\\\\n",
       " <dbl> & <chr> & <dbl> & <dbl> & <dbl> & <dbl>\\\\\n",
       "\\hline\n",
       "\t 1 & Virat  & 102 & 566 & 23 & 45\\\\\n",
       "\t 2 & Rohit  &  90 & 345 & 56 & 34\\\\\n",
       "\t 3 & Surya  &  34 & 463 & 23 & 35\\\\\n",
       "\t 4 & Hardik &  50 & 334 & 12 & 33\\\\\n",
       "\t 5 & Jadeja &  67 &  34 & 23 & 25\\\\\n",
       "\\end{tabular}\n"
      ],
      "text/markdown": [
       "\n",
       "A data.frame: 5 × 6\n",
       "\n",
       "| sno &lt;dbl&gt; | names &lt;chr&gt; | matches &lt;dbl&gt; | runs &lt;dbl&gt; | sixes &lt;dbl&gt; | fours &lt;dbl&gt; |\n",
       "|---|---|---|---|---|---|\n",
       "| 1 | Virat  | 102 | 566 | 23 | 45 |\n",
       "| 2 | Rohit  |  90 | 345 | 56 | 34 |\n",
       "| 3 | Surya  |  34 | 463 | 23 | 35 |\n",
       "| 4 | Hardik |  50 | 334 | 12 | 33 |\n",
       "| 5 | Jadeja |  67 |  34 | 23 | 25 |\n",
       "\n"
      ],
      "text/plain": [
       "  sno names  matches runs sixes fours\n",
       "1 1   Virat  102     566  23    45   \n",
       "2 2   Rohit   90     345  56    34   \n",
       "3 3   Surya   34     463  23    35   \n",
       "4 4   Hardik  50     334  12    33   \n",
       "5 5   Jadeja  67      34  23    25   "
      ]
     },
     "metadata": {},
     "output_type": "display_data"
    }
   ],
   "source": [
    "stats"
   ]
  },
  {
   "cell_type": "code",
   "execution_count": 65,
   "id": "23e4f1d9",
   "metadata": {},
   "outputs": [
    {
     "data": {
      "image/png": "[encoded data removed]",
      "text/plain": [
       "Plot with title \"Runs of players\""
      ]
     },
     "metadata": {
      "image/png": {
       "height": 420,
       "width": 420
      }
     },
     "output_type": "display_data"
    }
   ],
   "source": [
    "library(plotrix)\n",
    "\n",
    "pie3D(matches, labels = names, col = \"green\",\n",
    "main = \"Runs of players\",\n",
    "labelcol = \"blue\", col.main = \"black\")"
   ]
  },
  {
   "cell_type": "code",
   "execution_count": 66,
   "id": "d947a713",
   "metadata": {},
   "outputs": [],
   "source": [
    "write.csv(stats,\"stats.csv\")"
   ]
  },
  {
   "cell_type": "code",
   "execution_count": 86,
   "id": "aaf39e36",
   "metadata": {},
   "outputs": [
    {
     "data": {
      "text/html": [
       "<table class=\"dataframe\">\n",
       "<caption>A data.frame: 6 × 6</caption>\n",
       "<thead>\n",
       "\t<tr><th scope=col>names</th><th scope=col>Y</th><th scope=col>played</th><th scope=col>won</th><th scope=col>lost</th><th scope=col>victory</th></tr>\n",
       "\t<tr><th scope=col>&lt;chr&gt;</th><th scope=col>&lt;int&gt;</th><th scope=col>&lt;int&gt;</th><th scope=col>&lt;int&gt;</th><th scope=col>&lt;int&gt;</th><th scope=col>&lt;dbl&gt;</th></tr>\n",
       "</thead>\n",
       "<tbody>\n",
       "\t<tr><td>Mahi   </td><td>2012</td><td>45</td><td>22</td><td>12</td><td>0.49</td></tr>\n",
       "\t<tr><td>Sourav </td><td>2004</td><td>49</td><td>21</td><td>13</td><td>0.43</td></tr>\n",
       "\t<tr><td>Azhar  </td><td>2000</td><td>47</td><td>14</td><td>14</td><td>0.30</td></tr>\n",
       "\t<tr><td>Sunny  </td><td>1980</td><td>47</td><td> 9</td><td> 8</td><td>0.19</td></tr>\n",
       "\t<tr><td>Pataudi</td><td>1965</td><td>40</td><td> 9</td><td>19</td><td>0.22</td></tr>\n",
       "\t<tr><td>Dravid </td><td>2008</td><td>25</td><td> 8</td><td> 6</td><td>0.32</td></tr>\n",
       "</tbody>\n",
       "</table>\n"
      ],
      "text/latex": [
       "A data.frame: 6 × 6\n",
       "\\begin{tabular}{llllll}\n",
       " names & Y & played & won & lost & victory\\\\\n",
       " <chr> & <int> & <int> & <int> & <int> & <dbl>\\\\\n",
       "\\hline\n",
       "\t Mahi    & 2012 & 45 & 22 & 12 & 0.49\\\\\n",
       "\t Sourav  & 2004 & 49 & 21 & 13 & 0.43\\\\\n",
       "\t Azhar   & 2000 & 47 & 14 & 14 & 0.30\\\\\n",
       "\t Sunny   & 1980 & 47 &  9 &  8 & 0.19\\\\\n",
       "\t Pataudi & 1965 & 40 &  9 & 19 & 0.22\\\\\n",
       "\t Dravid  & 2008 & 25 &  8 &  6 & 0.32\\\\\n",
       "\\end{tabular}\n"
      ],
      "text/markdown": [
       "\n",
       "A data.frame: 6 × 6\n",
       "\n",
       "| names &lt;chr&gt; | Y &lt;int&gt; | played &lt;int&gt; | won &lt;int&gt; | lost &lt;int&gt; | victory &lt;dbl&gt; |\n",
       "|---|---|---|---|---|---|\n",
       "| Mahi    | 2012 | 45 | 22 | 12 | 0.49 |\n",
       "| Sourav  | 2004 | 49 | 21 | 13 | 0.43 |\n",
       "| Azhar   | 2000 | 47 | 14 | 14 | 0.30 |\n",
       "| Sunny   | 1980 | 47 |  9 |  8 | 0.19 |\n",
       "| Pataudi | 1965 | 40 |  9 | 19 | 0.22 |\n",
       "| Dravid  | 2008 | 25 |  8 |  6 | 0.32 |\n",
       "\n"
      ],
      "text/plain": [
       "  names   Y    played won lost victory\n",
       "1 Mahi    2012 45     22  12   0.49   \n",
       "2 Sourav  2004 49     21  13   0.43   \n",
       "3 Azhar   2000 47     14  14   0.30   \n",
       "4 Sunny   1980 47      9   8   0.19   \n",
       "5 Pataudi 1965 40      9  19   0.22   \n",
       "6 Dravid  2008 25      8   6   0.32   "
      ]
     },
     "metadata": {},
     "output_type": "display_data"
    }
   ],
   "source": [
    "cap = read.csv(\"CaptaincyData.csv\")\n",
    "cap"
   ]
  },
  {
   "cell_type": "raw",
   "id": "313e0d5b",
   "metadata": {},
   "source": [
    "Slicing DataFrame "
   ]
  },
  {
   "cell_type": "code",
   "execution_count": 93,
   "id": "58b330f2",
   "metadata": {},
   "outputs": [
    {
     "data": {
      "text/html": [
       "<table class=\"dataframe\">\n",
       "<caption>A data.frame: 1 × 6</caption>\n",
       "<thead>\n",
       "\t<tr><th></th><th scope=col>names</th><th scope=col>Y</th><th scope=col>played</th><th scope=col>won</th><th scope=col>lost</th><th scope=col>victory</th></tr>\n",
       "\t<tr><th></th><th scope=col>&lt;chr&gt;</th><th scope=col>&lt;int&gt;</th><th scope=col>&lt;int&gt;</th><th scope=col>&lt;int&gt;</th><th scope=col>&lt;int&gt;</th><th scope=col>&lt;dbl&gt;</th></tr>\n",
       "</thead>\n",
       "<tbody>\n",
       "\t<tr><th scope=row>1</th><td>Mahi</td><td>2012</td><td>45</td><td>22</td><td>12</td><td>0.49</td></tr>\n",
       "</tbody>\n",
       "</table>\n"
      ],
      "text/latex": [
       "A data.frame: 1 × 6\n",
       "\\begin{tabular}{r|llllll}\n",
       "  & names & Y & played & won & lost & victory\\\\\n",
       "  & <chr> & <int> & <int> & <int> & <int> & <dbl>\\\\\n",
       "\\hline\n",
       "\t1 & Mahi & 2012 & 45 & 22 & 12 & 0.49\\\\\n",
       "\\end{tabular}\n"
      ],
      "text/markdown": [
       "\n",
       "A data.frame: 1 × 6\n",
       "\n",
       "| <!--/--> | names &lt;chr&gt; | Y &lt;int&gt; | played &lt;int&gt; | won &lt;int&gt; | lost &lt;int&gt; | victory &lt;dbl&gt; |\n",
       "|---|---|---|---|---|---|---|\n",
       "| 1 | Mahi | 2012 | 45 | 22 | 12 | 0.49 |\n",
       "\n"
      ],
      "text/plain": [
       "  names Y    played won lost victory\n",
       "1 Mahi  2012 45     22  12   0.49   "
      ]
     },
     "metadata": {},
     "output_type": "display_data"
    }
   ],
   "source": [
    "cap[1,] "
   ]
  },
  {
   "cell_type": "code",
   "execution_count": 104,
   "id": "9ece9254",
   "metadata": {},
   "outputs": [
    {
     "data": {
      "text/html": [
       "<table class=\"dataframe\">\n",
       "<caption>A data.frame: 6 × 1</caption>\n",
       "<thead>\n",
       "\t<tr><th scope=col>names</th></tr>\n",
       "\t<tr><th scope=col>&lt;chr&gt;</th></tr>\n",
       "</thead>\n",
       "<tbody>\n",
       "\t<tr><td>Mahi   </td></tr>\n",
       "\t<tr><td>Sourav </td></tr>\n",
       "\t<tr><td>Azhar  </td></tr>\n",
       "\t<tr><td>Sunny  </td></tr>\n",
       "\t<tr><td>Pataudi</td></tr>\n",
       "\t<tr><td>Dravid </td></tr>\n",
       "</tbody>\n",
       "</table>\n"
      ],
      "text/latex": [
       "A data.frame: 6 × 1\n",
       "\\begin{tabular}{l}\n",
       " names\\\\\n",
       " <chr>\\\\\n",
       "\\hline\n",
       "\t Mahi   \\\\\n",
       "\t Sourav \\\\\n",
       "\t Azhar  \\\\\n",
       "\t Sunny  \\\\\n",
       "\t Pataudi\\\\\n",
       "\t Dravid \\\\\n",
       "\\end{tabular}\n"
      ],
      "text/markdown": [
       "\n",
       "A data.frame: 6 × 1\n",
       "\n",
       "| names &lt;chr&gt; |\n",
       "|---|\n",
       "| Mahi    |\n",
       "| Sourav  |\n",
       "| Azhar   |\n",
       "| Sunny   |\n",
       "| Pataudi |\n",
       "| Dravid  |\n",
       "\n"
      ],
      "text/plain": [
       "  names  \n",
       "1 Mahi   \n",
       "2 Sourav \n",
       "3 Azhar  \n",
       "4 Sunny  \n",
       "5 Pataudi\n",
       "6 Dravid "
      ]
     },
     "metadata": {},
     "output_type": "display_data"
    }
   ],
   "source": [
    "cap[1]"
   ]
  },
  {
   "cell_type": "code",
   "execution_count": 107,
   "id": "6e3edaa8",
   "metadata": {},
   "outputs": [
    {
     "data": {
      "text/html": [
       "<table class=\"dataframe\">\n",
       "<caption>A data.frame: 2 × 6</caption>\n",
       "<thead>\n",
       "\t<tr><th></th><th scope=col>names</th><th scope=col>Y</th><th scope=col>played</th><th scope=col>won</th><th scope=col>lost</th><th scope=col>victory</th></tr>\n",
       "\t<tr><th></th><th scope=col>&lt;chr&gt;</th><th scope=col>&lt;int&gt;</th><th scope=col>&lt;int&gt;</th><th scope=col>&lt;int&gt;</th><th scope=col>&lt;int&gt;</th><th scope=col>&lt;dbl&gt;</th></tr>\n",
       "</thead>\n",
       "<tbody>\n",
       "\t<tr><th scope=row>2</th><td>Sourav</td><td>2004</td><td>49</td><td>21</td><td>13</td><td>0.43</td></tr>\n",
       "\t<tr><th scope=row>3</th><td>Azhar </td><td>2000</td><td>47</td><td>14</td><td>14</td><td>0.30</td></tr>\n",
       "</tbody>\n",
       "</table>\n"
      ],
      "text/latex": [
       "A data.frame: 2 × 6\n",
       "\\begin{tabular}{r|llllll}\n",
       "  & names & Y & played & won & lost & victory\\\\\n",
       "  & <chr> & <int> & <int> & <int> & <int> & <dbl>\\\\\n",
       "\\hline\n",
       "\t2 & Sourav & 2004 & 49 & 21 & 13 & 0.43\\\\\n",
       "\t3 & Azhar  & 2000 & 47 & 14 & 14 & 0.30\\\\\n",
       "\\end{tabular}\n"
      ],
      "text/markdown": [
       "\n",
       "A data.frame: 2 × 6\n",
       "\n",
       "| <!--/--> | names &lt;chr&gt; | Y &lt;int&gt; | played &lt;int&gt; | won &lt;int&gt; | lost &lt;int&gt; | victory &lt;dbl&gt; |\n",
       "|---|---|---|---|---|---|---|\n",
       "| 2 | Sourav | 2004 | 49 | 21 | 13 | 0.43 |\n",
       "| 3 | Azhar  | 2000 | 47 | 14 | 14 | 0.30 |\n",
       "\n"
      ],
      "text/plain": [
       "  names  Y    played won lost victory\n",
       "2 Sourav 2004 49     21  13   0.43   \n",
       "3 Azhar  2000 47     14  14   0.30   "
      ]
     },
     "metadata": {},
     "output_type": "display_data"
    }
   ],
   "source": [
    "cap[c(2,3),]"
   ]
  },
  {
   "cell_type": "code",
   "execution_count": 123,
   "id": "c24edf34",
   "metadata": {},
   "outputs": [
    {
     "data": {
      "text/html": [
       "<table class=\"dataframe\">\n",
       "<caption>A data.frame: 6 × 2</caption>\n",
       "<thead>\n",
       "\t<tr><th scope=col>Y</th><th scope=col>played</th></tr>\n",
       "\t<tr><th scope=col>&lt;int&gt;</th><th scope=col>&lt;int&gt;</th></tr>\n",
       "</thead>\n",
       "<tbody>\n",
       "\t<tr><td>2012</td><td>45</td></tr>\n",
       "\t<tr><td>2004</td><td>49</td></tr>\n",
       "\t<tr><td>2000</td><td>47</td></tr>\n",
       "\t<tr><td>1980</td><td>47</td></tr>\n",
       "\t<tr><td>1965</td><td>40</td></tr>\n",
       "\t<tr><td>2008</td><td>25</td></tr>\n",
       "</tbody>\n",
       "</table>\n"
      ],
      "text/latex": [
       "A data.frame: 6 × 2\n",
       "\\begin{tabular}{ll}\n",
       " Y & played\\\\\n",
       " <int> & <int>\\\\\n",
       "\\hline\n",
       "\t 2012 & 45\\\\\n",
       "\t 2004 & 49\\\\\n",
       "\t 2000 & 47\\\\\n",
       "\t 1980 & 47\\\\\n",
       "\t 1965 & 40\\\\\n",
       "\t 2008 & 25\\\\\n",
       "\\end{tabular}\n"
      ],
      "text/markdown": [
       "\n",
       "A data.frame: 6 × 2\n",
       "\n",
       "| Y &lt;int&gt; | played &lt;int&gt; |\n",
       "|---|---|\n",
       "| 2012 | 45 |\n",
       "| 2004 | 49 |\n",
       "| 2000 | 47 |\n",
       "| 1980 | 47 |\n",
       "| 1965 | 40 |\n",
       "| 2008 | 25 |\n",
       "\n"
      ],
      "text/plain": [
       "  Y    played\n",
       "1 2012 45    \n",
       "2 2004 49    \n",
       "3 2000 47    \n",
       "4 1980 47    \n",
       "5 1965 40    \n",
       "6 2008 25    "
      ]
     },
     "metadata": {},
     "output_type": "display_data"
    }
   ],
   "source": [
    "cap[c(2,3)]"
   ]
  },
  {
   "cell_type": "code",
   "execution_count": 125,
   "id": "11b8632c",
   "metadata": {},
   "outputs": [
    {
     "data": {
      "text/html": [
       "<table class=\"dataframe\">\n",
       "<caption>A data.frame: 6 × 3</caption>\n",
       "<thead>\n",
       "\t<tr><th scope=col>names</th><th scope=col>Y</th><th scope=col>played</th></tr>\n",
       "\t<tr><th scope=col>&lt;chr&gt;</th><th scope=col>&lt;int&gt;</th><th scope=col>&lt;int&gt;</th></tr>\n",
       "</thead>\n",
       "<tbody>\n",
       "\t<tr><td>Mahi   </td><td>2012</td><td>45</td></tr>\n",
       "\t<tr><td>Sourav </td><td>2004</td><td>49</td></tr>\n",
       "\t<tr><td>Azhar  </td><td>2000</td><td>47</td></tr>\n",
       "\t<tr><td>Sunny  </td><td>1980</td><td>47</td></tr>\n",
       "\t<tr><td>Pataudi</td><td>1965</td><td>40</td></tr>\n",
       "\t<tr><td>Dravid </td><td>2008</td><td>25</td></tr>\n",
       "</tbody>\n",
       "</table>\n"
      ],
      "text/latex": [
       "A data.frame: 6 × 3\n",
       "\\begin{tabular}{lll}\n",
       " names & Y & played\\\\\n",
       " <chr> & <int> & <int>\\\\\n",
       "\\hline\n",
       "\t Mahi    & 2012 & 45\\\\\n",
       "\t Sourav  & 2004 & 49\\\\\n",
       "\t Azhar   & 2000 & 47\\\\\n",
       "\t Sunny   & 1980 & 47\\\\\n",
       "\t Pataudi & 1965 & 40\\\\\n",
       "\t Dravid  & 2008 & 25\\\\\n",
       "\\end{tabular}\n"
      ],
      "text/markdown": [
       "\n",
       "A data.frame: 6 × 3\n",
       "\n",
       "| names &lt;chr&gt; | Y &lt;int&gt; | played &lt;int&gt; |\n",
       "|---|---|---|\n",
       "| Mahi    | 2012 | 45 |\n",
       "| Sourav  | 2004 | 49 |\n",
       "| Azhar   | 2000 | 47 |\n",
       "| Sunny   | 1980 | 47 |\n",
       "| Pataudi | 1965 | 40 |\n",
       "| Dravid  | 2008 | 25 |\n",
       "\n"
      ],
      "text/plain": [
       "  names   Y    played\n",
       "1 Mahi    2012 45    \n",
       "2 Sourav  2004 49    \n",
       "3 Azhar   2000 47    \n",
       "4 Sunny   1980 47    \n",
       "5 Pataudi 1965 40    \n",
       "6 Dravid  2008 25    "
      ]
     },
     "metadata": {},
     "output_type": "display_data"
    }
   ],
   "source": [
    "cap[c(1,2,3)]"
   ]
  },
  {
   "cell_type": "code",
   "execution_count": 132,
   "id": "0ecd5e43",
   "metadata": {},
   "outputs": [
    {
     "data": {
      "text/html": [
       "<table class=\"dataframe\">\n",
       "<caption>A data.frame: 4 × 6</caption>\n",
       "<thead>\n",
       "\t<tr><th></th><th scope=col>names</th><th scope=col>Y</th><th scope=col>played</th><th scope=col>won</th><th scope=col>lost</th><th scope=col>victory</th></tr>\n",
       "\t<tr><th></th><th scope=col>&lt;chr&gt;</th><th scope=col>&lt;int&gt;</th><th scope=col>&lt;int&gt;</th><th scope=col>&lt;int&gt;</th><th scope=col>&lt;int&gt;</th><th scope=col>&lt;dbl&gt;</th></tr>\n",
       "</thead>\n",
       "<tbody>\n",
       "\t<tr><th scope=row>1</th><td>Mahi  </td><td>2012</td><td>45</td><td>22</td><td>12</td><td>0.49</td></tr>\n",
       "\t<tr><th scope=row>2</th><td>Sourav</td><td>2004</td><td>49</td><td>21</td><td>13</td><td>0.43</td></tr>\n",
       "\t<tr><th scope=row>3</th><td>Azhar </td><td>2000</td><td>47</td><td>14</td><td>14</td><td>0.30</td></tr>\n",
       "\t<tr><th scope=row>4</th><td>Sunny </td><td>1980</td><td>47</td><td> 9</td><td> 8</td><td>0.19</td></tr>\n",
       "</tbody>\n",
       "</table>\n"
      ],
      "text/latex": [
       "A data.frame: 4 × 6\n",
       "\\begin{tabular}{r|llllll}\n",
       "  & names & Y & played & won & lost & victory\\\\\n",
       "  & <chr> & <int> & <int> & <int> & <int> & <dbl>\\\\\n",
       "\\hline\n",
       "\t1 & Mahi   & 2012 & 45 & 22 & 12 & 0.49\\\\\n",
       "\t2 & Sourav & 2004 & 49 & 21 & 13 & 0.43\\\\\n",
       "\t3 & Azhar  & 2000 & 47 & 14 & 14 & 0.30\\\\\n",
       "\t4 & Sunny  & 1980 & 47 &  9 &  8 & 0.19\\\\\n",
       "\\end{tabular}\n"
      ],
      "text/markdown": [
       "\n",
       "A data.frame: 4 × 6\n",
       "\n",
       "| <!--/--> | names &lt;chr&gt; | Y &lt;int&gt; | played &lt;int&gt; | won &lt;int&gt; | lost &lt;int&gt; | victory &lt;dbl&gt; |\n",
       "|---|---|---|---|---|---|---|\n",
       "| 1 | Mahi   | 2012 | 45 | 22 | 12 | 0.49 |\n",
       "| 2 | Sourav | 2004 | 49 | 21 | 13 | 0.43 |\n",
       "| 3 | Azhar  | 2000 | 47 | 14 | 14 | 0.30 |\n",
       "| 4 | Sunny  | 1980 | 47 |  9 |  8 | 0.19 |\n",
       "\n"
      ],
      "text/plain": [
       "  names  Y    played won lost victory\n",
       "1 Mahi   2012 45     22  12   0.49   \n",
       "2 Sourav 2004 49     21  13   0.43   \n",
       "3 Azhar  2000 47     14  14   0.30   \n",
       "4 Sunny  1980 47      9   8   0.19   "
      ]
     },
     "metadata": {},
     "output_type": "display_data"
    }
   ],
   "source": [
    "# Query: stats of all players who have played more than 45 matches\n",
    "cap[cap$played>=45,]"
   ]
  },
  {
   "cell_type": "code",
   "execution_count": 126,
   "id": "33e11481",
   "metadata": {},
   "outputs": [
    {
     "data": {
      "text/html": [
       "<table class=\"dataframe\">\n",
       "<caption>A data.frame: 4 × 2</caption>\n",
       "<thead>\n",
       "\t<tr><th></th><th scope=col>names</th><th scope=col>victory</th></tr>\n",
       "\t<tr><th></th><th scope=col>&lt;chr&gt;</th><th scope=col>&lt;dbl&gt;</th></tr>\n",
       "</thead>\n",
       "<tbody>\n",
       "\t<tr><th scope=row>1</th><td>Mahi  </td><td>0.49</td></tr>\n",
       "\t<tr><th scope=row>2</th><td>Sourav</td><td>0.43</td></tr>\n",
       "\t<tr><th scope=row>3</th><td>Azhar </td><td>0.30</td></tr>\n",
       "\t<tr><th scope=row>4</th><td>Sunny </td><td>0.19</td></tr>\n",
       "</tbody>\n",
       "</table>\n"
      ],
      "text/latex": [
       "A data.frame: 4 × 2\n",
       "\\begin{tabular}{r|ll}\n",
       "  & names & victory\\\\\n",
       "  & <chr> & <dbl>\\\\\n",
       "\\hline\n",
       "\t1 & Mahi   & 0.49\\\\\n",
       "\t2 & Sourav & 0.43\\\\\n",
       "\t3 & Azhar  & 0.30\\\\\n",
       "\t4 & Sunny  & 0.19\\\\\n",
       "\\end{tabular}\n"
      ],
      "text/markdown": [
       "\n",
       "A data.frame: 4 × 2\n",
       "\n",
       "| <!--/--> | names &lt;chr&gt; | victory &lt;dbl&gt; |\n",
       "|---|---|---|\n",
       "| 1 | Mahi   | 0.49 |\n",
       "| 2 | Sourav | 0.43 |\n",
       "| 3 | Azhar  | 0.30 |\n",
       "| 4 | Sunny  | 0.19 |\n",
       "\n"
      ],
      "text/plain": [
       "  names  victory\n",
       "1 Mahi   0.49   \n",
       "2 Sourav 0.43   \n",
       "3 Azhar  0.30   \n",
       "4 Sunny  0.19   "
      ]
     },
     "metadata": {},
     "output_type": "display_data"
    }
   ],
   "source": [
    "# Query: name and victory of all players who have played more than 45 matches\n",
    "cap[cap$played>=45,c(1,6)]"
   ]
  },
  {
   "cell_type": "code",
   "execution_count": 130,
   "id": "d5e9c19b",
   "metadata": {},
   "outputs": [
    {
     "data": {
      "text/html": [
       "<table class=\"dataframe\">\n",
       "<caption>A data.frame: 6 × 6</caption>\n",
       "<thead>\n",
       "\t<tr><th scope=col>names</th><th scope=col>Y</th><th scope=col>played</th><th scope=col>won</th><th scope=col>lost</th><th scope=col>victory</th></tr>\n",
       "\t<tr><th scope=col>&lt;chr&gt;</th><th scope=col>&lt;int&gt;</th><th scope=col>&lt;int&gt;</th><th scope=col>&lt;int&gt;</th><th scope=col>&lt;int&gt;</th><th scope=col>&lt;dbl&gt;</th></tr>\n",
       "</thead>\n",
       "<tbody>\n",
       "\t<tr><td>Mahi   </td><td>2012</td><td>45</td><td>22</td><td>12</td><td>0.49</td></tr>\n",
       "\t<tr><td>Sourav </td><td>2004</td><td>49</td><td>21</td><td>13</td><td>0.43</td></tr>\n",
       "\t<tr><td>Azhar  </td><td>2000</td><td>47</td><td>14</td><td>14</td><td>0.30</td></tr>\n",
       "\t<tr><td>Sunny  </td><td>1980</td><td>47</td><td> 9</td><td> 8</td><td>0.19</td></tr>\n",
       "\t<tr><td>Pataudi</td><td>1965</td><td>40</td><td> 9</td><td>19</td><td>0.22</td></tr>\n",
       "\t<tr><td>Dravid </td><td>2008</td><td>25</td><td> 8</td><td> 6</td><td>0.32</td></tr>\n",
       "</tbody>\n",
       "</table>\n"
      ],
      "text/latex": [
       "A data.frame: 6 × 6\n",
       "\\begin{tabular}{llllll}\n",
       " names & Y & played & won & lost & victory\\\\\n",
       " <chr> & <int> & <int> & <int> & <int> & <dbl>\\\\\n",
       "\\hline\n",
       "\t Mahi    & 2012 & 45 & 22 & 12 & 0.49\\\\\n",
       "\t Sourav  & 2004 & 49 & 21 & 13 & 0.43\\\\\n",
       "\t Azhar   & 2000 & 47 & 14 & 14 & 0.30\\\\\n",
       "\t Sunny   & 1980 & 47 &  9 &  8 & 0.19\\\\\n",
       "\t Pataudi & 1965 & 40 &  9 & 19 & 0.22\\\\\n",
       "\t Dravid  & 2008 & 25 &  8 &  6 & 0.32\\\\\n",
       "\\end{tabular}\n"
      ],
      "text/markdown": [
       "\n",
       "A data.frame: 6 × 6\n",
       "\n",
       "| names &lt;chr&gt; | Y &lt;int&gt; | played &lt;int&gt; | won &lt;int&gt; | lost &lt;int&gt; | victory &lt;dbl&gt; |\n",
       "|---|---|---|---|---|---|\n",
       "| Mahi    | 2012 | 45 | 22 | 12 | 0.49 |\n",
       "| Sourav  | 2004 | 49 | 21 | 13 | 0.43 |\n",
       "| Azhar   | 2000 | 47 | 14 | 14 | 0.30 |\n",
       "| Sunny   | 1980 | 47 |  9 |  8 | 0.19 |\n",
       "| Pataudi | 1965 | 40 |  9 | 19 | 0.22 |\n",
       "| Dravid  | 2008 | 25 |  8 |  6 | 0.32 |\n",
       "\n"
      ],
      "text/plain": [
       "  names   Y    played won lost victory\n",
       "1 Mahi    2012 45     22  12   0.49   \n",
       "2 Sourav  2004 49     21  13   0.43   \n",
       "3 Azhar   2000 47     14  14   0.30   \n",
       "4 Sunny   1980 47      9   8   0.19   \n",
       "5 Pataudi 1965 40      9  19   0.22   \n",
       "6 Dravid  2008 25      8   6   0.32   "
      ]
     },
     "metadata": {},
     "output_type": "display_data"
    }
   ],
   "source": [
    "cap"
   ]
  },
  {
   "cell_type": "code",
   "execution_count": 133,
   "id": "4f6730b7",
   "metadata": {},
   "outputs": [
    {
     "data": {
      "text/html": [
       "<table class=\"dataframe\">\n",
       "<caption>A data.frame: 1 × 6</caption>\n",
       "<thead>\n",
       "\t<tr><th></th><th scope=col>names</th><th scope=col>Y</th><th scope=col>played</th><th scope=col>won</th><th scope=col>lost</th><th scope=col>victory</th></tr>\n",
       "\t<tr><th></th><th scope=col>&lt;chr&gt;</th><th scope=col>&lt;int&gt;</th><th scope=col>&lt;int&gt;</th><th scope=col>&lt;int&gt;</th><th scope=col>&lt;int&gt;</th><th scope=col>&lt;dbl&gt;</th></tr>\n",
       "</thead>\n",
       "<tbody>\n",
       "\t<tr><th scope=row>1</th><td>Mahi</td><td>2012</td><td>45</td><td>22</td><td>12</td><td>0.49</td></tr>\n",
       "</tbody>\n",
       "</table>\n"
      ],
      "text/latex": [
       "A data.frame: 1 × 6\n",
       "\\begin{tabular}{r|llllll}\n",
       "  & names & Y & played & won & lost & victory\\\\\n",
       "  & <chr> & <int> & <int> & <int> & <int> & <dbl>\\\\\n",
       "\\hline\n",
       "\t1 & Mahi & 2012 & 45 & 22 & 12 & 0.49\\\\\n",
       "\\end{tabular}\n"
      ],
      "text/markdown": [
       "\n",
       "A data.frame: 1 × 6\n",
       "\n",
       "| <!--/--> | names &lt;chr&gt; | Y &lt;int&gt; | played &lt;int&gt; | won &lt;int&gt; | lost &lt;int&gt; | victory &lt;dbl&gt; |\n",
       "|---|---|---|---|---|---|---|\n",
       "| 1 | Mahi | 2012 | 45 | 22 | 12 | 0.49 |\n",
       "\n"
      ],
      "text/plain": [
       "  names Y    played won lost victory\n",
       "1 Mahi  2012 45     22  12   0.49   "
      ]
     },
     "metadata": {},
     "output_type": "display_data"
    }
   ],
   "source": [
    "# Query: stats of all players who have victory more than 0.45\n",
    "cap[cap$victory>=0.45,]"
   ]
  },
  {
   "cell_type": "code",
   "execution_count": 140,
   "id": "e50e60e6",
   "metadata": {},
   "outputs": [
    {
     "data": {
      "text/html": [
       "<table class=\"dataframe\">\n",
       "<caption>A data.frame: 6 × 2</caption>\n",
       "<thead>\n",
       "\t<tr><th scope=col>names</th><th scope=col>played</th></tr>\n",
       "\t<tr><th scope=col>&lt;chr&gt;</th><th scope=col>&lt;int&gt;</th></tr>\n",
       "</thead>\n",
       "<tbody>\n",
       "\t<tr><td>Mahi   </td><td>45</td></tr>\n",
       "\t<tr><td>Sourav </td><td>49</td></tr>\n",
       "\t<tr><td>Azhar  </td><td>47</td></tr>\n",
       "\t<tr><td>Sunny  </td><td>47</td></tr>\n",
       "\t<tr><td>Pataudi</td><td>40</td></tr>\n",
       "\t<tr><td>Dravid </td><td>25</td></tr>\n",
       "</tbody>\n",
       "</table>\n"
      ],
      "text/latex": [
       "A data.frame: 6 × 2\n",
       "\\begin{tabular}{ll}\n",
       " names & played\\\\\n",
       " <chr> & <int>\\\\\n",
       "\\hline\n",
       "\t Mahi    & 45\\\\\n",
       "\t Sourav  & 49\\\\\n",
       "\t Azhar   & 47\\\\\n",
       "\t Sunny   & 47\\\\\n",
       "\t Pataudi & 40\\\\\n",
       "\t Dravid  & 25\\\\\n",
       "\\end{tabular}\n"
      ],
      "text/markdown": [
       "\n",
       "A data.frame: 6 × 2\n",
       "\n",
       "| names &lt;chr&gt; | played &lt;int&gt; |\n",
       "|---|---|\n",
       "| Mahi    | 45 |\n",
       "| Sourav  | 49 |\n",
       "| Azhar   | 47 |\n",
       "| Sunny   | 47 |\n",
       "| Pataudi | 40 |\n",
       "| Dravid  | 25 |\n",
       "\n"
      ],
      "text/plain": [
       "  names   played\n",
       "1 Mahi    45    \n",
       "2 Sourav  49    \n",
       "3 Azhar   47    \n",
       "4 Sunny   47    \n",
       "5 Pataudi 40    \n",
       "6 Dravid  25    "
      ]
     },
     "metadata": {},
     "output_type": "display_data"
    }
   ],
   "source": [
    "cap[c('names','played')]"
   ]
  },
  {
   "cell_type": "code",
   "execution_count": 144,
   "id": "ec6adac7",
   "metadata": {},
   "outputs": [
    {
     "data": {
      "text/html": [
       "<style>\n",
       ".list-inline {list-style: none; margin:0; padding: 0}\n",
       ".list-inline>li {display: inline-block}\n",
       ".list-inline>li:not(:last-child)::after {content: \"\\00b7\"; padding: 0 .5ex}\n",
       "</style>\n",
       "<ol class=list-inline><li>22</li><li>21</li><li>14</li><li>9</li><li>9</li><li>8</li></ol>\n"
      ],
      "text/latex": [
       "\\begin{enumerate*}\n",
       "\\item 22\n",
       "\\item 21\n",
       "\\item 14\n",
       "\\item 9\n",
       "\\item 9\n",
       "\\item 8\n",
       "\\end{enumerate*}\n"
      ],
      "text/markdown": [
       "1. 22\n",
       "2. 21\n",
       "3. 14\n",
       "4. 9\n",
       "5. 9\n",
       "6. 8\n",
       "\n",
       "\n"
      ],
      "text/plain": [
       "[1] 22 21 14  9  9  8"
      ]
     },
     "metadata": {},
     "output_type": "display_data"
    }
   ],
   "source": [
    "cap[[4]]"
   ]
  },
  {
   "cell_type": "code",
   "execution_count": 145,
   "id": "bc937c2b",
   "metadata": {},
   "outputs": [
    {
     "data": {
      "text/html": [
       "14"
      ],
      "text/latex": [
       "14"
      ],
      "text/markdown": [
       "14"
      ],
      "text/plain": [
       "[1] 14"
      ]
     },
     "metadata": {},
     "output_type": "display_data"
    }
   ],
   "source": [
    "cap[[4]][3]"
   ]
  },
  {
   "cell_type": "code",
   "execution_count": 150,
   "id": "ac572476",
   "metadata": {},
   "outputs": [
    {
     "data": {
      "text/html": [
       "<table class=\"dataframe\">\n",
       "<caption>A data.frame: 6 × 6</caption>\n",
       "<thead>\n",
       "\t<tr><th scope=col>names</th><th scope=col>Y</th><th scope=col>played</th><th scope=col>won</th><th scope=col>lost</th><th scope=col>victory</th></tr>\n",
       "\t<tr><th scope=col>&lt;chr&gt;</th><th scope=col>&lt;int&gt;</th><th scope=col>&lt;int&gt;</th><th scope=col>&lt;int&gt;</th><th scope=col>&lt;int&gt;</th><th scope=col>&lt;dbl&gt;</th></tr>\n",
       "</thead>\n",
       "<tbody>\n",
       "\t<tr><td>Mahi   </td><td>2012</td><td>45</td><td>22</td><td>12</td><td>0.49</td></tr>\n",
       "\t<tr><td>Sourav </td><td>2004</td><td>49</td><td>21</td><td>13</td><td>0.43</td></tr>\n",
       "\t<tr><td>Azhar  </td><td>2000</td><td>47</td><td>14</td><td>14</td><td>0.30</td></tr>\n",
       "\t<tr><td>Sunny  </td><td>1980</td><td>47</td><td> 9</td><td> 8</td><td>0.19</td></tr>\n",
       "\t<tr><td>Pataudi</td><td>1965</td><td>40</td><td> 9</td><td>19</td><td>0.22</td></tr>\n",
       "\t<tr><td>Dravid </td><td>2008</td><td>25</td><td> 8</td><td> 6</td><td>0.32</td></tr>\n",
       "</tbody>\n",
       "</table>\n"
      ],
      "text/latex": [
       "A data.frame: 6 × 6\n",
       "\\begin{tabular}{llllll}\n",
       " names & Y & played & won & lost & victory\\\\\n",
       " <chr> & <int> & <int> & <int> & <int> & <dbl>\\\\\n",
       "\\hline\n",
       "\t Mahi    & 2012 & 45 & 22 & 12 & 0.49\\\\\n",
       "\t Sourav  & 2004 & 49 & 21 & 13 & 0.43\\\\\n",
       "\t Azhar   & 2000 & 47 & 14 & 14 & 0.30\\\\\n",
       "\t Sunny   & 1980 & 47 &  9 &  8 & 0.19\\\\\n",
       "\t Pataudi & 1965 & 40 &  9 & 19 & 0.22\\\\\n",
       "\t Dravid  & 2008 & 25 &  8 &  6 & 0.32\\\\\n",
       "\\end{tabular}\n"
      ],
      "text/markdown": [
       "\n",
       "A data.frame: 6 × 6\n",
       "\n",
       "| names &lt;chr&gt; | Y &lt;int&gt; | played &lt;int&gt; | won &lt;int&gt; | lost &lt;int&gt; | victory &lt;dbl&gt; |\n",
       "|---|---|---|---|---|---|\n",
       "| Mahi    | 2012 | 45 | 22 | 12 | 0.49 |\n",
       "| Sourav  | 2004 | 49 | 21 | 13 | 0.43 |\n",
       "| Azhar   | 2000 | 47 | 14 | 14 | 0.30 |\n",
       "| Sunny   | 1980 | 47 |  9 |  8 | 0.19 |\n",
       "| Pataudi | 1965 | 40 |  9 | 19 | 0.22 |\n",
       "| Dravid  | 2008 | 25 |  8 |  6 | 0.32 |\n",
       "\n"
      ],
      "text/plain": [
       "  names   Y    played won lost victory\n",
       "1 Mahi    2012 45     22  12   0.49   \n",
       "2 Sourav  2004 49     21  13   0.43   \n",
       "3 Azhar   2000 47     14  14   0.30   \n",
       "4 Sunny   1980 47      9   8   0.19   \n",
       "5 Pataudi 1965 40      9  19   0.22   \n",
       "6 Dravid  2008 25      8   6   0.32   "
      ]
     },
     "metadata": {},
     "output_type": "display_data"
    }
   ],
   "source": [
    "cap"
   ]
  },
  {
   "cell_type": "code",
   "execution_count": 156,
   "id": "05e02a89",
   "metadata": {},
   "outputs": [
    {
     "data": {
      "text/html": [
       "<table class=\"dataframe\">\n",
       "<caption>A data.frame: 4 × 6</caption>\n",
       "<thead>\n",
       "\t<tr><th></th><th scope=col>names</th><th scope=col>Y</th><th scope=col>played</th><th scope=col>won</th><th scope=col>lost</th><th scope=col>victory</th></tr>\n",
       "\t<tr><th></th><th scope=col>&lt;chr&gt;</th><th scope=col>&lt;int&gt;</th><th scope=col>&lt;int&gt;</th><th scope=col>&lt;int&gt;</th><th scope=col>&lt;int&gt;</th><th scope=col>&lt;dbl&gt;</th></tr>\n",
       "</thead>\n",
       "<tbody>\n",
       "\t<tr><th scope=row>1</th><td>Mahi  </td><td>2012</td><td>45</td><td>22</td><td>12</td><td>0.49</td></tr>\n",
       "\t<tr><th scope=row>2</th><td>Sourav</td><td>2004</td><td>49</td><td>21</td><td>13</td><td>0.43</td></tr>\n",
       "\t<tr><th scope=row>4</th><td>Sunny </td><td>1980</td><td>47</td><td> 9</td><td> 8</td><td>0.19</td></tr>\n",
       "\t<tr><th scope=row>6</th><td>Dravid</td><td>2008</td><td>25</td><td> 8</td><td> 6</td><td>0.32</td></tr>\n",
       "</tbody>\n",
       "</table>\n"
      ],
      "text/latex": [
       "A data.frame: 4 × 6\n",
       "\\begin{tabular}{r|llllll}\n",
       "  & names & Y & played & won & lost & victory\\\\\n",
       "  & <chr> & <int> & <int> & <int> & <int> & <dbl>\\\\\n",
       "\\hline\n",
       "\t1 & Mahi   & 2012 & 45 & 22 & 12 & 0.49\\\\\n",
       "\t2 & Sourav & 2004 & 49 & 21 & 13 & 0.43\\\\\n",
       "\t4 & Sunny  & 1980 & 47 &  9 &  8 & 0.19\\\\\n",
       "\t6 & Dravid & 2008 & 25 &  8 &  6 & 0.32\\\\\n",
       "\\end{tabular}\n"
      ],
      "text/markdown": [
       "\n",
       "A data.frame: 4 × 6\n",
       "\n",
       "| <!--/--> | names &lt;chr&gt; | Y &lt;int&gt; | played &lt;int&gt; | won &lt;int&gt; | lost &lt;int&gt; | victory &lt;dbl&gt; |\n",
       "|---|---|---|---|---|---|---|\n",
       "| 1 | Mahi   | 2012 | 45 | 22 | 12 | 0.49 |\n",
       "| 2 | Sourav | 2004 | 49 | 21 | 13 | 0.43 |\n",
       "| 4 | Sunny  | 1980 | 47 |  9 |  8 | 0.19 |\n",
       "| 6 | Dravid | 2008 | 25 |  8 |  6 | 0.32 |\n",
       "\n"
      ],
      "text/plain": [
       "  names  Y    played won lost victory\n",
       "1 Mahi   2012 45     22  12   0.49   \n",
       "2 Sourav 2004 49     21  13   0.43   \n",
       "4 Sunny  1980 47      9   8   0.19   \n",
       "6 Dravid 2008 25      8   6   0.32   "
      ]
     },
     "metadata": {},
     "output_type": "display_data"
    }
   ],
   "source": [
    "# Create a subset from capaitancy df with the caps who have played >20 matches and lost < 14 matches\n",
    "\n",
    "subData <- cap[cap$played>20 & cap$lost<14,]\n",
    "subData"
   ]
  },
  {
   "cell_type": "code",
   "execution_count": 164,
   "id": "9a8d2976",
   "metadata": {},
   "outputs": [
    {
     "data": {
      "text/html": [
       "<table class=\"dataframe\">\n",
       "<caption>A data.frame: 3 × 3</caption>\n",
       "<thead>\n",
       "\t<tr><th></th><th scope=col>names</th><th scope=col>played</th><th scope=col>won</th></tr>\n",
       "\t<tr><th></th><th scope=col>&lt;chr&gt;</th><th scope=col>&lt;int&gt;</th><th scope=col>&lt;int&gt;</th></tr>\n",
       "</thead>\n",
       "<tbody>\n",
       "\t<tr><th scope=row>1</th><td>Mahi  </td><td>45</td><td>22</td></tr>\n",
       "\t<tr><th scope=row>2</th><td>Sourav</td><td>49</td><td>21</td></tr>\n",
       "\t<tr><th scope=row>6</th><td>Dravid</td><td>25</td><td> 8</td></tr>\n",
       "</tbody>\n",
       "</table>\n"
      ],
      "text/latex": [
       "A data.frame: 3 × 3\n",
       "\\begin{tabular}{r|lll}\n",
       "  & names & played & won\\\\\n",
       "  & <chr> & <int> & <int>\\\\\n",
       "\\hline\n",
       "\t1 & Mahi   & 45 & 22\\\\\n",
       "\t2 & Sourav & 49 & 21\\\\\n",
       "\t6 & Dravid & 25 &  8\\\\\n",
       "\\end{tabular}\n"
      ],
      "text/markdown": [
       "\n",
       "A data.frame: 3 × 3\n",
       "\n",
       "| <!--/--> | names &lt;chr&gt; | played &lt;int&gt; | won &lt;int&gt; |\n",
       "|---|---|---|---|\n",
       "| 1 | Mahi   | 45 | 22 |\n",
       "| 2 | Sourav | 49 | 21 |\n",
       "| 6 | Dravid | 25 |  8 |\n",
       "\n"
      ],
      "text/plain": [
       "  names  played won\n",
       "1 Mahi   45     22 \n",
       "2 Sourav 49     21 \n",
       "6 Dravid 25      8 "
      ]
     },
     "metadata": {},
     "output_type": "display_data"
    }
   ],
   "source": [
    "subData <- subset(cap,victory>0.3, select = c(\"names\",\"played\",\"won\"))\n",
    "subData"
   ]
  },
  {
   "cell_type": "code",
   "execution_count": 169,
   "id": "57e21630",
   "metadata": {},
   "outputs": [
    {
     "data": {
      "text/html": [
       "<table class=\"dataframe\">\n",
       "<caption>A data.frame: 4 × 6</caption>\n",
       "<thead>\n",
       "\t<tr><th></th><th scope=col>names</th><th scope=col>Y</th><th scope=col>played</th><th scope=col>won</th><th scope=col>lost</th><th scope=col>victory</th></tr>\n",
       "\t<tr><th></th><th scope=col>&lt;chr&gt;</th><th scope=col>&lt;int&gt;</th><th scope=col>&lt;int&gt;</th><th scope=col>&lt;int&gt;</th><th scope=col>&lt;int&gt;</th><th scope=col>&lt;dbl&gt;</th></tr>\n",
       "</thead>\n",
       "<tbody>\n",
       "\t<tr><th scope=row>1</th><td>Mahi  </td><td>2012</td><td>45</td><td>22</td><td>12</td><td>0.49</td></tr>\n",
       "\t<tr><th scope=row>2</th><td>Sourav</td><td>2004</td><td>49</td><td>21</td><td>13</td><td>0.43</td></tr>\n",
       "\t<tr><th scope=row>4</th><td>Sunny </td><td>1980</td><td>47</td><td> 9</td><td> 8</td><td>0.19</td></tr>\n",
       "\t<tr><th scope=row>6</th><td>Dravid</td><td>2008</td><td>25</td><td> 8</td><td> 6</td><td>0.32</td></tr>\n",
       "</tbody>\n",
       "</table>\n"
      ],
      "text/latex": [
       "A data.frame: 4 × 6\n",
       "\\begin{tabular}{r|llllll}\n",
       "  & names & Y & played & won & lost & victory\\\\\n",
       "  & <chr> & <int> & <int> & <int> & <int> & <dbl>\\\\\n",
       "\\hline\n",
       "\t1 & Mahi   & 2012 & 45 & 22 & 12 & 0.49\\\\\n",
       "\t2 & Sourav & 2004 & 49 & 21 & 13 & 0.43\\\\\n",
       "\t4 & Sunny  & 1980 & 47 &  9 &  8 & 0.19\\\\\n",
       "\t6 & Dravid & 2008 & 25 &  8 &  6 & 0.32\\\\\n",
       "\\end{tabular}\n"
      ],
      "text/markdown": [
       "\n",
       "A data.frame: 4 × 6\n",
       "\n",
       "| <!--/--> | names &lt;chr&gt; | Y &lt;int&gt; | played &lt;int&gt; | won &lt;int&gt; | lost &lt;int&gt; | victory &lt;dbl&gt; |\n",
       "|---|---|---|---|---|---|---|\n",
       "| 1 | Mahi   | 2012 | 45 | 22 | 12 | 0.49 |\n",
       "| 2 | Sourav | 2004 | 49 | 21 | 13 | 0.43 |\n",
       "| 4 | Sunny  | 1980 | 47 |  9 |  8 | 0.19 |\n",
       "| 6 | Dravid | 2008 | 25 |  8 |  6 | 0.32 |\n",
       "\n"
      ],
      "text/plain": [
       "  names  Y    played won lost victory\n",
       "1 Mahi   2012 45     22  12   0.49   \n",
       "2 Sourav 2004 49     21  13   0.43   \n",
       "4 Sunny  1980 47      9   8   0.19   \n",
       "6 Dravid 2008 25      8   6   0.32   "
      ]
     },
     "metadata": {},
     "output_type": "display_data"
    }
   ],
   "source": [
    "subData <- subset(cap,played>20&lost<14)\n",
    "subData"
   ]
  },
  {
   "cell_type": "code",
   "execution_count": null,
   "id": "432acbda",
   "metadata": {},
   "outputs": [],
   "source": []
  }
 ],
 "metadata": {
  "kernelspec": {
   "display_name": "R",
   "language": "R",
   "name": "ir"
  },
  "language_info": {
   "codemirror_mode": "r",
   "file_extension": ".r",
   "mimetype": "text/x-r-source",
   "name": "R",
   "pygments_lexer": "r",
   "version": "4.2.1"
  }
 },
 "nbformat": 4,
 "nbformat_minor": 5
}
