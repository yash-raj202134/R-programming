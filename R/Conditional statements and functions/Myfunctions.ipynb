{
 "cells": [
  {
   "cell_type": "code",
   "execution_count": 2,
   "id": "4005d871",
   "metadata": {},
   "outputs": [],
   "source": [
    "# user defined function in R\n",
    "\n",
    "\n",
    "# syntax\n",
    "myFun <- function(arguments){\n",
    "#     body\n",
    "}"
   ]
  },
  {
   "cell_type": "code",
   "execution_count": 4,
   "id": "97a4fc62",
   "metadata": {},
   "outputs": [
    {
     "data": {
      "text/html": [
       "20"
      ],
      "text/latex": [
       "20"
      ],
      "text/markdown": [
       "20"
      ],
      "text/plain": [
       "[1] 20"
      ]
     },
     "metadata": {},
     "output_type": "display_data"
    }
   ],
   "source": [
    "# function to calculate permutation  nPr = n!/(n-r)!\n",
    "\n",
    "permutation <- function(n,r){\n",
    "    return (factorial(n)/factorial(n-r))\n",
    "}\n",
    "\n",
    "# function call\n",
    "permutation(5,2)"
   ]
  },
  {
   "cell_type": "code",
   "execution_count": 5,
   "id": "ff5e3b69",
   "metadata": {},
   "outputs": [
    {
     "data": {
      "text/html": [
       "10"
      ],
      "text/latex": [
       "10"
      ],
      "text/markdown": [
       "10"
      ],
      "text/plain": [
       "[1] 10"
      ]
     },
     "metadata": {},
     "output_type": "display_data"
    }
   ],
   "source": [
    "# function to calculate combination  nCr = n!/r!.(n-r)!\n",
    "\n",
    "combination <- function(n,r){\n",
    "    return (factorial(n)/(factorial(r)*factorial(n-r)))\n",
    "}\n",
    "\n",
    "# function call\n",
    "combination(5,2)"
   ]
  },
  {
   "cell_type": "code",
   "execution_count": 6,
   "id": "2ce85899",
   "metadata": {},
   "outputs": [],
   "source": [
    "# Voting eligibility\n",
    "\n",
    "votingEligibility <- function(){\n",
    "    age <- as.integer(readline(\"Enter your age (in numbers) : \"))\n",
    "    if (age > 18){\n",
    "        print(\"You can cast your vote !\")\n",
    "    }else{\n",
    "        print(\"Sorry you cannot cast your vote !\")\n",
    "    }\n",
    "}\n"
   ]
  },
  {
   "cell_type": "code",
   "execution_count": 7,
   "id": "c64c3d91",
   "metadata": {},
   "outputs": [
    {
     "name": "stdout",
     "output_type": "stream",
     "text": [
      "Enter your age (in numbers) : 12\n",
      "[1] \"Sorry you cannot cast your vote !\"\n"
     ]
    }
   ],
   "source": [
    "votingEligibility()"
   ]
  },
  {
   "cell_type": "code",
   "execution_count": 15,
   "id": "bdacf30f",
   "metadata": {},
   "outputs": [],
   "source": [
    "# sum between two\n",
    "\n",
    "sum_bet_two <- function(num1,num2){\n",
    "#     result <- 0\n",
    "#     for (i in num1:num2){\n",
    "#         result <- result + i\n",
    "#     }\n",
    "    return (sum(num1:num2))\n",
    "}\n",
    "\n"
   ]
  },
  {
   "cell_type": "code",
   "execution_count": 17,
   "id": "73f140a9",
   "metadata": {},
   "outputs": [
    {
     "data": {
      "text/html": [
       "55"
      ],
      "text/latex": [
       "55"
      ],
      "text/markdown": [
       "55"
      ],
      "text/plain": [
       "[1] 55"
      ]
     },
     "metadata": {},
     "output_type": "display_data"
    }
   ],
   "source": [
    "sum_bet_two(1,10)"
   ]
  },
  {
   "cell_type": "code",
   "execution_count": 36,
   "id": "51e31817",
   "metadata": {},
   "outputs": [],
   "source": [
    "# print fibonacci series \n",
    "\n",
    "fibonacci <- function(n){\n",
    "    f <- 0\n",
    "    s <- 1\n",
    "    if (n<=1){\n",
    "        print(f)   \n",
    "    }else{\n",
    "        print(s)\n",
    "        for (i in 2:n){\n",
    "            nxt <- f+s\n",
    "            print(nxt)\n",
    "            f <- s\n",
    "            s <- nxt\n",
    "        } \n",
    "    }\n",
    "}"
   ]
  },
  {
   "cell_type": "code",
   "execution_count": 44,
   "id": "03f40078",
   "metadata": {},
   "outputs": [
    {
     "name": "stdout",
     "output_type": "stream",
     "text": [
      "[1] 1\n",
      "[1] 1\n",
      "[1] 2\n",
      "[1] 3\n",
      "[1] 5\n",
      "[1] 8\n",
      "[1] 13\n",
      "[1] 21\n",
      "[1] 34\n",
      "[1] 55\n",
      "[1] 89\n",
      "[1] 144\n",
      "[1] 233\n",
      "[1] 377\n",
      "[1] 610\n",
      "[1] 987\n",
      "[1] 1597\n"
     ]
    }
   ],
   "source": [
    "fibonacci(17)"
   ]
  }
 ],
 "metadata": {
  "kernelspec": {
   "display_name": "R",
   "language": "R",
   "name": "ir"
  },
  "language_info": {
   "codemirror_mode": "r",
   "file_extension": ".r",
   "mimetype": "text/x-r-source",
   "name": "R",
   "pygments_lexer": "r",
   "version": "4.2.1"
  }
 },
 "nbformat": 4,
 "nbformat_minor": 5
}
