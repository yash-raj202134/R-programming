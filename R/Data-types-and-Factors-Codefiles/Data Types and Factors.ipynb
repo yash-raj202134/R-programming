{
 "cells": [
  {
   "cell_type": "code",
   "execution_count": 24,
   "id": "1a896b64",
   "metadata": {},
   "outputs": [
    {
     "data": {
      "text/html": [
       "TRUE"
      ],
      "text/latex": [
       "TRUE"
      ],
      "text/markdown": [
       "TRUE"
      ],
      "text/plain": [
       "[1] TRUE"
      ]
     },
     "metadata": {},
     "output_type": "display_data"
    },
    {
     "data": {
      "text/html": [
       "'logical'"
      ],
      "text/latex": [
       "'logical'"
      ],
      "text/markdown": [
       "'logical'"
      ],
      "text/plain": [
       "[1] \"logical\""
      ]
     },
     "metadata": {},
     "output_type": "display_data"
    }
   ],
   "source": [
    "dataFrame <- 0==0\n",
    "dataFrame \n",
    "# logical Data frame\n",
    "class(dataFrame) "
   ]
  },
  {
   "cell_type": "code",
   "execution_count": 25,
   "id": "d9d7c259",
   "metadata": {},
   "outputs": [
    {
     "data": {
      "text/html": [
       "'TRUE'"
      ],
      "text/latex": [
       "'TRUE'"
      ],
      "text/markdown": [
       "'TRUE'"
      ],
      "text/plain": [
       "[1] \"TRUE\""
      ]
     },
     "metadata": {},
     "output_type": "display_data"
    },
    {
     "data": {
      "text/html": [
       "'character'"
      ],
      "text/latex": [
       "'character'"
      ],
      "text/markdown": [
       "'character'"
      ],
      "text/plain": [
       "[1] \"character\""
      ]
     },
     "metadata": {},
     "output_type": "display_data"
    }
   ],
   "source": [
    "dataFrame <- \"TRUE\"\n",
    "dataFrame\n",
    "class(dataFrame)"
   ]
  },
  {
   "cell_type": "code",
   "execution_count": 28,
   "id": "a0a32b30",
   "metadata": {},
   "outputs": [
    {
     "data": {
      "text/html": [
       "'numeric'"
      ],
      "text/latex": [
       "'numeric'"
      ],
      "text/markdown": [
       "'numeric'"
      ],
      "text/plain": [
       "[1] \"numeric\""
      ]
     },
     "metadata": {},
     "output_type": "display_data"
    }
   ],
   "source": [
    "dataFrame <- 12.45\n",
    "class(dataFrame)"
   ]
  },
  {
   "cell_type": "code",
   "execution_count": 30,
   "id": "89e383ba",
   "metadata": {},
   "outputs": [
    {
     "data": {
      "text/html": [
       "'integer'"
      ],
      "text/latex": [
       "'integer'"
      ],
      "text/markdown": [
       "'integer'"
      ],
      "text/plain": [
       "[1] \"integer\""
      ]
     },
     "metadata": {},
     "output_type": "display_data"
    }
   ],
   "source": [
    "dataFrame <- as.integer(12)\n",
    "class(dataFrame)"
   ]
  },
  {
   "cell_type": "code",
   "execution_count": 31,
   "id": "c6a76ed4",
   "metadata": {},
   "outputs": [
    {
     "data": {
      "text/html": [
       "'integer'"
      ],
      "text/latex": [
       "'integer'"
      ],
      "text/markdown": [
       "'integer'"
      ],
      "text/plain": [
       "[1] \"integer\""
      ]
     },
     "metadata": {},
     "output_type": "display_data"
    }
   ],
   "source": [
    "dataFrame <- 12L  # also used to declare the integer as(int_valueL)\n",
    "class(dataFrame)"
   ]
  },
  {
   "cell_type": "code",
   "execution_count": null,
   "id": "8f0c1f25",
   "metadata": {},
   "outputs": [],
   "source": []
  },
  {
   "cell_type": "code",
   "execution_count": 32,
   "id": "3bca38e2",
   "metadata": {},
   "outputs": [],
   "source": [
    "# Declare a variable to read and store the data frame \n",
    "captaincy <- read.csv(\"CaptaincyData.csv\")"
   ]
  },
  {
   "cell_type": "code",
   "execution_count": 36,
   "id": "815fd4ec",
   "metadata": {},
   "outputs": [
    {
     "name": "stdout",
     "output_type": "stream",
     "text": [
      "'data.frame':\t6 obs. of  9 variables:\n",
      " $ names  : chr  \"Azhar\" \"Dravid\" \"Mahi\" \"Pataudi\" ...\n",
      " $ Y      : int  2000 2008 2012 1965 2004 1980\n",
      " $ played : int  47 25 45 40 49 47\n",
      " $ won    : int  14 8 22 9 21 9\n",
      " $ lost   : int  14 6 12 19 13 8\n",
      " $ victory: num  0.298 0.32 0.489 0.225 0.429 ...\n",
      " $ drawn  : int  19 11 11 12 15 30\n",
      " $ defeat : num  0.298 0.24 0.267 0.475 0.265 ...\n",
      " $ formats: int  2 2 3 1 2 2\n"
     ]
    }
   ],
   "source": [
    "str(captaincy)\n",
    "# captaincy"
   ]
  },
  {
   "cell_type": "markdown",
   "id": "83b29101",
   "metadata": {},
   "source": [
    "# Factors in R"
   ]
  },
  {
   "cell_type": "raw",
   "id": "cf6c969a",
   "metadata": {},
   "source": [
    "Factors are such variables in R -\n",
    "# take on a limited no. of diff. values\n",
    "# are often reffered to as categorical variables"
   ]
  },
  {
   "cell_type": "code",
   "execution_count": 37,
   "id": "7f66dfb9",
   "metadata": {},
   "outputs": [
    {
     "data": {
      "text/html": [
       "<style>\n",
       ".list-inline {list-style: none; margin:0; padding: 0}\n",
       ".list-inline>li {display: inline-block}\n",
       ".list-inline>li:not(:last-child)::after {content: \"\\00b7\"; padding: 0 .5ex}\n",
       "</style>\n",
       "<ol class=list-inline><li>'Azhar'</li><li>'Dravid'</li><li>'Mahi'</li><li>'Pataudi'</li><li>'Sourav'</li><li>'Sunny'</li></ol>\n"
      ],
      "text/latex": [
       "\\begin{enumerate*}\n",
       "\\item 'Azhar'\n",
       "\\item 'Dravid'\n",
       "\\item 'Mahi'\n",
       "\\item 'Pataudi'\n",
       "\\item 'Sourav'\n",
       "\\item 'Sunny'\n",
       "\\end{enumerate*}\n"
      ],
      "text/markdown": [
       "1. 'Azhar'\n",
       "2. 'Dravid'\n",
       "3. 'Mahi'\n",
       "4. 'Pataudi'\n",
       "5. 'Sourav'\n",
       "6. 'Sunny'\n",
       "\n",
       "\n"
      ],
      "text/plain": [
       "[1] \"Azhar\"   \"Dravid\"  \"Mahi\"    \"Pataudi\" \"Sourav\"  \"Sunny\"  "
      ]
     },
     "metadata": {},
     "output_type": "display_data"
    }
   ],
   "source": [
    "captaincy$names"
   ]
  },
  {
   "cell_type": "code",
   "execution_count": 39,
   "id": "e74590dd",
   "metadata": {},
   "outputs": [
    {
     "data": {
      "text/html": [
       "<style>\n",
       ".list-inline {list-style: none; margin:0; padding: 0}\n",
       ".list-inline>li {display: inline-block}\n",
       ".list-inline>li:not(:last-child)::after {content: \"\\00b7\"; padding: 0 .5ex}\n",
       "</style>\n",
       "<ol class=list-inline><li>'Azhar'</li><li>'Dravid'</li><li>'Mahi'</li><li>'Pataudi'</li><li>'Sourav'</li><li>'Sunny'</li></ol>\n"
      ],
      "text/latex": [
       "\\begin{enumerate*}\n",
       "\\item 'Azhar'\n",
       "\\item 'Dravid'\n",
       "\\item 'Mahi'\n",
       "\\item 'Pataudi'\n",
       "\\item 'Sourav'\n",
       "\\item 'Sunny'\n",
       "\\end{enumerate*}\n"
      ],
      "text/markdown": [
       "1. 'Azhar'\n",
       "2. 'Dravid'\n",
       "3. 'Mahi'\n",
       "4. 'Pataudi'\n",
       "5. 'Sourav'\n",
       "6. 'Sunny'\n",
       "\n",
       "\n"
      ],
      "text/plain": [
       "[1] \"Azhar\"   \"Dravid\"  \"Mahi\"    \"Pataudi\" \"Sourav\"  \"Sunny\"  "
      ]
     },
     "metadata": {},
     "output_type": "display_data"
    },
    {
     "name": "stdout",
     "output_type": "stream",
     "text": [
      "'data.frame':\t6 obs. of  9 variables:\n",
      " $ names  : chr  \"Azhar\" \"Dravid\" \"Mahi\" \"Pataudi\" ...\n",
      " $ Y      : int  2000 2008 2012 1965 2004 1980\n",
      " $ played : int  47 25 45 40 49 47\n",
      " $ won    : int  14 8 22 9 21 9\n",
      " $ lost   : int  14 6 12 19 13 8\n",
      " $ victory: num  0.298 0.32 0.489 0.225 0.429 ...\n",
      " $ drawn  : int  19 11 11 12 15 30\n",
      " $ defeat : num  0.298 0.24 0.267 0.475 0.265 ...\n",
      " $ formats: int  2 2 3 1 2 2\n"
     ]
    }
   ],
   "source": [
    "names  <- as.character(captaincy$names)\n",
    "names\n",
    "str(captaincy)"
   ]
  },
  {
   "cell_type": "code",
   "execution_count": 40,
   "id": "0d7aa008",
   "metadata": {},
   "outputs": [
    {
     "name": "stdout",
     "output_type": "stream",
     "text": [
      "'data.frame':\t6 obs. of  9 variables:\n",
      " $ names  : chr  \"Azhar\" \"Dravid\" \"Mahi\" \"Pataudi\" ...\n",
      " $ Y      : int  2000 2008 2012 1965 2004 1980\n",
      " $ played : int  47 25 45 40 49 47\n",
      " $ won    : int  14 8 22 9 21 9\n",
      " $ lost   : int  14 6 12 19 13 8\n",
      " $ victory: num  0.298 0.32 0.489 0.225 0.429 ...\n",
      " $ drawn  : int  19 11 11 12 15 30\n",
      " $ defeat : num  0.298 0.24 0.267 0.475 0.265 ...\n",
      " $ formats: Factor w/ 3 levels \"1\",\"2\",\"3\": 2 2 3 1 2 2\n"
     ]
    }
   ],
   "source": [
    "captaincy$formats <- factor(captaincy$formats)\n",
    "str(captaincy)"
   ]
  },
  {
   "cell_type": "code",
   "execution_count": 41,
   "id": "de53bb59",
   "metadata": {},
   "outputs": [
    {
     "data": {
      "text/html": [
       "<style>\n",
       ".list-inline {list-style: none; margin:0; padding: 0}\n",
       ".list-inline>li {display: inline-block}\n",
       ".list-inline>li:not(:last-child)::after {content: \"\\00b7\"; padding: 0 .5ex}\n",
       "</style>\n",
       "<ol class=list-inline><li>'1'</li><li>'2'</li><li>'3'</li></ol>\n"
      ],
      "text/latex": [
       "\\begin{enumerate*}\n",
       "\\item '1'\n",
       "\\item '2'\n",
       "\\item '3'\n",
       "\\end{enumerate*}\n"
      ],
      "text/markdown": [
       "1. '1'\n",
       "2. '2'\n",
       "3. '3'\n",
       "\n",
       "\n"
      ],
      "text/plain": [
       "[1] \"1\" \"2\" \"3\""
      ]
     },
     "metadata": {},
     "output_type": "display_data"
    }
   ],
   "source": [
    "levels(captaincy$formats)"
   ]
  },
  {
   "cell_type": "code",
   "execution_count": 42,
   "id": "18823afb",
   "metadata": {},
   "outputs": [],
   "source": [
    "levels(captaincy$formats) <- c(\"one\",\"two\",\"three\")"
   ]
  },
  {
   "cell_type": "code",
   "execution_count": 44,
   "id": "c03c9f25",
   "metadata": {},
   "outputs": [
    {
     "name": "stdout",
     "output_type": "stream",
     "text": [
      "[1] two   two   three one   two   two  \n",
      "Levels: one two three\n"
     ]
    }
   ],
   "source": [
    "print(captaincy$format)"
   ]
  }
 ],
 "metadata": {
  "kernelspec": {
   "display_name": "R",
   "language": "R",
   "name": "ir"
  },
  "language_info": {
   "codemirror_mode": "r",
   "file_extension": ".r",
   "mimetype": "text/x-r-source",
   "name": "R",
   "pygments_lexer": "r",
   "version": "4.2.1"
  }
 },
 "nbformat": 4,
 "nbformat_minor": 5
}
