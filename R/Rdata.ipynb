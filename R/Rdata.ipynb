{
 "cells": [
  {
   "cell_type": "markdown",
   "id": "c47f0e5e",
   "metadata": {},
   "source": [
    "# Merging and importing Data"
   ]
  },
  {
   "cell_type": "markdown",
   "id": "dcff67ba",
   "metadata": {},
   "source": [
    "Implementing the buitl in functions"
   ]
  },
  {
   "cell_type": "code",
   "execution_count": 39,
   "id": "a45e15eb",
   "metadata": {},
   "outputs": [
    {
     "data": {
      "text/html": [
       "<table class=\"dataframe\">\n",
       "<caption>A data.frame: 6 × 6</caption>\n",
       "<thead>\n",
       "\t<tr><th scope=col>names</th><th scope=col>Y</th><th scope=col>played</th><th scope=col>won</th><th scope=col>lost</th><th scope=col>victory</th></tr>\n",
       "\t<tr><th scope=col>&lt;chr&gt;</th><th scope=col>&lt;int&gt;</th><th scope=col>&lt;int&gt;</th><th scope=col>&lt;int&gt;</th><th scope=col>&lt;int&gt;</th><th scope=col>&lt;dbl&gt;</th></tr>\n",
       "</thead>\n",
       "<tbody>\n",
       "\t<tr><td>Mahi   </td><td>2012</td><td>45</td><td>22</td><td>12</td><td>0.4888889</td></tr>\n",
       "\t<tr><td>Sourav </td><td>2004</td><td>49</td><td>21</td><td>13</td><td>0.4285714</td></tr>\n",
       "\t<tr><td>Azhar  </td><td>2000</td><td>47</td><td>14</td><td>14</td><td>0.2978723</td></tr>\n",
       "\t<tr><td>Sunny  </td><td>1980</td><td>47</td><td> 9</td><td> 8</td><td>0.1914894</td></tr>\n",
       "\t<tr><td>Pataudi</td><td>1965</td><td>40</td><td> 9</td><td>19</td><td>0.2250000</td></tr>\n",
       "\t<tr><td>Dravid </td><td>2008</td><td>25</td><td> 8</td><td> 6</td><td>0.3200000</td></tr>\n",
       "</tbody>\n",
       "</table>\n"
      ],
      "text/latex": [
       "A data.frame: 6 × 6\n",
       "\\begin{tabular}{llllll}\n",
       " names & Y & played & won & lost & victory\\\\\n",
       " <chr> & <int> & <int> & <int> & <int> & <dbl>\\\\\n",
       "\\hline\n",
       "\t Mahi    & 2012 & 45 & 22 & 12 & 0.4888889\\\\\n",
       "\t Sourav  & 2004 & 49 & 21 & 13 & 0.4285714\\\\\n",
       "\t Azhar   & 2000 & 47 & 14 & 14 & 0.2978723\\\\\n",
       "\t Sunny   & 1980 & 47 &  9 &  8 & 0.1914894\\\\\n",
       "\t Pataudi & 1965 & 40 &  9 & 19 & 0.2250000\\\\\n",
       "\t Dravid  & 2008 & 25 &  8 &  6 & 0.3200000\\\\\n",
       "\\end{tabular}\n"
      ],
      "text/markdown": [
       "\n",
       "A data.frame: 6 × 6\n",
       "\n",
       "| names &lt;chr&gt; | Y &lt;int&gt; | played &lt;int&gt; | won &lt;int&gt; | lost &lt;int&gt; | victory &lt;dbl&gt; |\n",
       "|---|---|---|---|---|---|\n",
       "| Mahi    | 2012 | 45 | 22 | 12 | 0.4888889 |\n",
       "| Sourav  | 2004 | 49 | 21 | 13 | 0.4285714 |\n",
       "| Azhar   | 2000 | 47 | 14 | 14 | 0.2978723 |\n",
       "| Sunny   | 1980 | 47 |  9 |  8 | 0.1914894 |\n",
       "| Pataudi | 1965 | 40 |  9 | 19 | 0.2250000 |\n",
       "| Dravid  | 2008 | 25 |  8 |  6 | 0.3200000 |\n",
       "\n"
      ],
      "text/plain": [
       "  names   Y    played won lost victory  \n",
       "1 Mahi    2012 45     22  12   0.4888889\n",
       "2 Sourav  2004 49     21  13   0.4285714\n",
       "3 Azhar   2000 47     14  14   0.2978723\n",
       "4 Sunny   1980 47      9   8   0.1914894\n",
       "5 Pataudi 1965 40      9  19   0.2250000\n",
       "6 Dravid  2008 25      8   6   0.3200000"
      ]
     },
     "metadata": {},
     "output_type": "display_data"
    }
   ],
   "source": [
    "cap = read.csv(\"CaptaincyData.csv\")\n",
    "cap"
   ]
  },
  {
   "cell_type": "code",
   "execution_count": 3,
   "id": "9a15a1f3",
   "metadata": {},
   "outputs": [
    {
     "data": {
      "text/plain": [
       "    names                 Y            played           won       \n",
       " Length:6           Min.   :1965   Min.   :25.00   Min.   : 8.00  \n",
       " Class :character   1st Qu.:1985   1st Qu.:41.25   1st Qu.: 9.00  \n",
       " Mode  :character   Median :2002   Median :46.00   Median :11.50  \n",
       "                    Mean   :1995   Mean   :42.17   Mean   :13.83  \n",
       "                    3rd Qu.:2007   3rd Qu.:47.00   3rd Qu.:19.25  \n",
       "                    Max.   :2012   Max.   :49.00   Max.   :22.00  \n",
       "      lost          victory      \n",
       " Min.   : 6.00   Min.   :0.1915  \n",
       " 1st Qu.: 9.00   1st Qu.:0.2432  \n",
       " Median :12.50   Median :0.3089  \n",
       " Mean   :12.00   Mean   :0.3253  \n",
       " 3rd Qu.:13.75   3rd Qu.:0.4014  \n",
       " Max.   :19.00   Max.   :0.4889  "
      ]
     },
     "metadata": {},
     "output_type": "display_data"
    }
   ],
   "source": [
    "summary(cap)"
   ]
  },
  {
   "cell_type": "code",
   "execution_count": 4,
   "id": "61146ef6",
   "metadata": {},
   "outputs": [
    {
     "data": {
      "text/html": [
       "'data.frame'"
      ],
      "text/latex": [
       "'data.frame'"
      ],
      "text/markdown": [
       "'data.frame'"
      ],
      "text/plain": [
       "[1] \"data.frame\""
      ]
     },
     "metadata": {},
     "output_type": "display_data"
    }
   ],
   "source": [
    "class(cap)"
   ]
  },
  {
   "cell_type": "code",
   "execution_count": 5,
   "id": "60f12f9b",
   "metadata": {},
   "outputs": [
    {
     "data": {
      "text/html": [
       "'list'"
      ],
      "text/latex": [
       "'list'"
      ],
      "text/markdown": [
       "'list'"
      ],
      "text/plain": [
       "[1] \"list\""
      ]
     },
     "metadata": {},
     "output_type": "display_data"
    }
   ],
   "source": [
    "typeof(cap)"
   ]
  },
  {
   "cell_type": "code",
   "execution_count": 13,
   "id": "89d51547",
   "metadata": {},
   "outputs": [
    {
     "data": {
      "text/html": [
       "<table class=\"dataframe\">\n",
       "<caption>A data.frame: 3 × 6</caption>\n",
       "<thead>\n",
       "\t<tr><th></th><th scope=col>names</th><th scope=col>Y</th><th scope=col>played</th><th scope=col>won</th><th scope=col>lost</th><th scope=col>victory</th></tr>\n",
       "\t<tr><th></th><th scope=col>&lt;chr&gt;</th><th scope=col>&lt;int&gt;</th><th scope=col>&lt;int&gt;</th><th scope=col>&lt;int&gt;</th><th scope=col>&lt;int&gt;</th><th scope=col>&lt;dbl&gt;</th></tr>\n",
       "</thead>\n",
       "<tbody>\n",
       "\t<tr><th scope=row>1</th><td>Mahi  </td><td>2012</td><td>45</td><td>22</td><td>12</td><td>0.4888889</td></tr>\n",
       "\t<tr><th scope=row>2</th><td>Sourav</td><td>2004</td><td>49</td><td>21</td><td>13</td><td>0.4285714</td></tr>\n",
       "\t<tr><th scope=row>3</th><td>Azhar </td><td>2000</td><td>47</td><td>14</td><td>14</td><td>0.2978723</td></tr>\n",
       "</tbody>\n",
       "</table>\n"
      ],
      "text/latex": [
       "A data.frame: 3 × 6\n",
       "\\begin{tabular}{r|llllll}\n",
       "  & names & Y & played & won & lost & victory\\\\\n",
       "  & <chr> & <int> & <int> & <int> & <int> & <dbl>\\\\\n",
       "\\hline\n",
       "\t1 & Mahi   & 2012 & 45 & 22 & 12 & 0.4888889\\\\\n",
       "\t2 & Sourav & 2004 & 49 & 21 & 13 & 0.4285714\\\\\n",
       "\t3 & Azhar  & 2000 & 47 & 14 & 14 & 0.2978723\\\\\n",
       "\\end{tabular}\n"
      ],
      "text/markdown": [
       "\n",
       "A data.frame: 3 × 6\n",
       "\n",
       "| <!--/--> | names &lt;chr&gt; | Y &lt;int&gt; | played &lt;int&gt; | won &lt;int&gt; | lost &lt;int&gt; | victory &lt;dbl&gt; |\n",
       "|---|---|---|---|---|---|---|\n",
       "| 1 | Mahi   | 2012 | 45 | 22 | 12 | 0.4888889 |\n",
       "| 2 | Sourav | 2004 | 49 | 21 | 13 | 0.4285714 |\n",
       "| 3 | Azhar  | 2000 | 47 | 14 | 14 | 0.2978723 |\n",
       "\n"
      ],
      "text/plain": [
       "  names  Y    played won lost victory  \n",
       "1 Mahi   2012 45     22  12   0.4888889\n",
       "2 Sourav 2004 49     21  13   0.4285714\n",
       "3 Azhar  2000 47     14  14   0.2978723"
      ]
     },
     "metadata": {},
     "output_type": "display_data"
    }
   ],
   "source": [
    "head(cap,3)"
   ]
  },
  {
   "cell_type": "code",
   "execution_count": 15,
   "id": "a176bb24",
   "metadata": {},
   "outputs": [
    {
     "data": {
      "text/html": [
       "<table class=\"dataframe\">\n",
       "<caption>A data.frame: 2 × 6</caption>\n",
       "<thead>\n",
       "\t<tr><th></th><th scope=col>names</th><th scope=col>Y</th><th scope=col>played</th><th scope=col>won</th><th scope=col>lost</th><th scope=col>victory</th></tr>\n",
       "\t<tr><th></th><th scope=col>&lt;chr&gt;</th><th scope=col>&lt;int&gt;</th><th scope=col>&lt;int&gt;</th><th scope=col>&lt;int&gt;</th><th scope=col>&lt;int&gt;</th><th scope=col>&lt;dbl&gt;</th></tr>\n",
       "</thead>\n",
       "<tbody>\n",
       "\t<tr><th scope=row>5</th><td>Pataudi</td><td>1965</td><td>40</td><td>9</td><td>19</td><td>0.225</td></tr>\n",
       "\t<tr><th scope=row>6</th><td>Dravid </td><td>2008</td><td>25</td><td>8</td><td> 6</td><td>0.320</td></tr>\n",
       "</tbody>\n",
       "</table>\n"
      ],
      "text/latex": [
       "A data.frame: 2 × 6\n",
       "\\begin{tabular}{r|llllll}\n",
       "  & names & Y & played & won & lost & victory\\\\\n",
       "  & <chr> & <int> & <int> & <int> & <int> & <dbl>\\\\\n",
       "\\hline\n",
       "\t5 & Pataudi & 1965 & 40 & 9 & 19 & 0.225\\\\\n",
       "\t6 & Dravid  & 2008 & 25 & 8 &  6 & 0.320\\\\\n",
       "\\end{tabular}\n"
      ],
      "text/markdown": [
       "\n",
       "A data.frame: 2 × 6\n",
       "\n",
       "| <!--/--> | names &lt;chr&gt; | Y &lt;int&gt; | played &lt;int&gt; | won &lt;int&gt; | lost &lt;int&gt; | victory &lt;dbl&gt; |\n",
       "|---|---|---|---|---|---|---|\n",
       "| 5 | Pataudi | 1965 | 40 | 9 | 19 | 0.225 |\n",
       "| 6 | Dravid  | 2008 | 25 | 8 |  6 | 0.320 |\n",
       "\n"
      ],
      "text/plain": [
       "  names   Y    played won lost victory\n",
       "5 Pataudi 1965 40     9   19   0.225  \n",
       "6 Dravid  2008 25     8    6   0.320  "
      ]
     },
     "metadata": {},
     "output_type": "display_data"
    }
   ],
   "source": [
    "tail(cap,2)"
   ]
  },
  {
   "cell_type": "code",
   "execution_count": 16,
   "id": "3f0ea55d",
   "metadata": {},
   "outputs": [
    {
     "name": "stdout",
     "output_type": "stream",
     "text": [
      "'data.frame':\t6 obs. of  6 variables:\n",
      " $ names  : chr  \"Mahi\" \"Sourav\" \"Azhar\" \"Sunny\" ...\n",
      " $ Y      : int  2012 2004 2000 1980 1965 2008\n",
      " $ played : int  45 49 47 47 40 25\n",
      " $ won    : int  22 21 14 9 9 8\n",
      " $ lost   : int  12 13 14 8 19 6\n",
      " $ victory: num  0.489 0.429 0.298 0.191 0.225 ...\n"
     ]
    }
   ],
   "source": [
    "str(cap)"
   ]
  },
  {
   "cell_type": "markdown",
   "id": "c065104e",
   "metadata": {},
   "source": [
    "#Merging Dataframe"
   ]
  },
  {
   "cell_type": "code",
   "execution_count": 29,
   "id": "2bb994e6",
   "metadata": {},
   "outputs": [
    {
     "data": {
      "text/html": [
       "<table class=\"dataframe\">\n",
       "<caption>A data.frame: 6 × 4</caption>\n",
       "<thead>\n",
       "\t<tr><th scope=col>names</th><th scope=col>drawn</th><th scope=col>defeat</th><th scope=col>formats</th></tr>\n",
       "\t<tr><th scope=col>&lt;chr&gt;</th><th scope=col>&lt;int&gt;</th><th scope=col>&lt;dbl&gt;</th><th scope=col>&lt;int&gt;</th></tr>\n",
       "</thead>\n",
       "<tbody>\n",
       "\t<tr><td>Mahi   </td><td>11</td><td>0.2666667</td><td>3</td></tr>\n",
       "\t<tr><td>Sourav </td><td>15</td><td>0.2653061</td><td>2</td></tr>\n",
       "\t<tr><td>Azhar  </td><td>19</td><td>0.2978723</td><td>2</td></tr>\n",
       "\t<tr><td>Sunny  </td><td>30</td><td>0.1702128</td><td>2</td></tr>\n",
       "\t<tr><td>Pataudi</td><td>12</td><td>0.4750000</td><td>1</td></tr>\n",
       "\t<tr><td>Dravid </td><td>11</td><td>0.2400000</td><td>2</td></tr>\n",
       "</tbody>\n",
       "</table>\n"
      ],
      "text/latex": [
       "A data.frame: 6 × 4\n",
       "\\begin{tabular}{llll}\n",
       " names & drawn & defeat & formats\\\\\n",
       " <chr> & <int> & <dbl> & <int>\\\\\n",
       "\\hline\n",
       "\t Mahi    & 11 & 0.2666667 & 3\\\\\n",
       "\t Sourav  & 15 & 0.2653061 & 2\\\\\n",
       "\t Azhar   & 19 & 0.2978723 & 2\\\\\n",
       "\t Sunny   & 30 & 0.1702128 & 2\\\\\n",
       "\t Pataudi & 12 & 0.4750000 & 1\\\\\n",
       "\t Dravid  & 11 & 0.2400000 & 2\\\\\n",
       "\\end{tabular}\n"
      ],
      "text/markdown": [
       "\n",
       "A data.frame: 6 × 4\n",
       "\n",
       "| names &lt;chr&gt; | drawn &lt;int&gt; | defeat &lt;dbl&gt; | formats &lt;int&gt; |\n",
       "|---|---|---|---|\n",
       "| Mahi    | 11 | 0.2666667 | 3 |\n",
       "| Sourav  | 15 | 0.2653061 | 2 |\n",
       "| Azhar   | 19 | 0.2978723 | 2 |\n",
       "| Sunny   | 30 | 0.1702128 | 2 |\n",
       "| Pataudi | 12 | 0.4750000 | 1 |\n",
       "| Dravid  | 11 | 0.2400000 | 2 |\n",
       "\n"
      ],
      "text/plain": [
       "  names   drawn defeat    formats\n",
       "1 Mahi    11    0.2666667 3      \n",
       "2 Sourav  15    0.2653061 2      \n",
       "3 Azhar   19    0.2978723 2      \n",
       "4 Sunny   30    0.1702128 2      \n",
       "5 Pataudi 12    0.4750000 1      \n",
       "6 Dravid  11    0.2400000 2      "
      ]
     },
     "metadata": {},
     "output_type": "display_data"
    }
   ],
   "source": [
    "cap2 <- read.csv(\"CaptaincyData2.csv\")\n",
    "cap2"
   ]
  },
  {
   "cell_type": "code",
   "execution_count": 40,
   "id": "6529b896",
   "metadata": {},
   "outputs": [
    {
     "data": {
      "text/html": [
       "<table class=\"dataframe\">\n",
       "<caption>A data.frame: 6 × 9</caption>\n",
       "<thead>\n",
       "\t<tr><th scope=col>names</th><th scope=col>Y</th><th scope=col>played</th><th scope=col>won</th><th scope=col>lost</th><th scope=col>victory</th><th scope=col>drawn</th><th scope=col>defeat</th><th scope=col>formats</th></tr>\n",
       "\t<tr><th scope=col>&lt;chr&gt;</th><th scope=col>&lt;int&gt;</th><th scope=col>&lt;int&gt;</th><th scope=col>&lt;int&gt;</th><th scope=col>&lt;int&gt;</th><th scope=col>&lt;dbl&gt;</th><th scope=col>&lt;int&gt;</th><th scope=col>&lt;dbl&gt;</th><th scope=col>&lt;int&gt;</th></tr>\n",
       "</thead>\n",
       "<tbody>\n",
       "\t<tr><td>Azhar  </td><td>2000</td><td>47</td><td>14</td><td>14</td><td>0.2978723</td><td>19</td><td>0.2978723</td><td>2</td></tr>\n",
       "\t<tr><td>Dravid </td><td>2008</td><td>25</td><td> 8</td><td> 6</td><td>0.3200000</td><td>11</td><td>0.2400000</td><td>2</td></tr>\n",
       "\t<tr><td>Mahi   </td><td>2012</td><td>45</td><td>22</td><td>12</td><td>0.4888889</td><td>11</td><td>0.2666667</td><td>3</td></tr>\n",
       "\t<tr><td>Pataudi</td><td>1965</td><td>40</td><td> 9</td><td>19</td><td>0.2250000</td><td>12</td><td>0.4750000</td><td>1</td></tr>\n",
       "\t<tr><td>Sourav </td><td>2004</td><td>49</td><td>21</td><td>13</td><td>0.4285714</td><td>15</td><td>0.2653061</td><td>2</td></tr>\n",
       "\t<tr><td>Sunny  </td><td>1980</td><td>47</td><td> 9</td><td> 8</td><td>0.1914894</td><td>30</td><td>0.1702128</td><td>2</td></tr>\n",
       "</tbody>\n",
       "</table>\n"
      ],
      "text/latex": [
       "A data.frame: 6 × 9\n",
       "\\begin{tabular}{lllllllll}\n",
       " names & Y & played & won & lost & victory & drawn & defeat & formats\\\\\n",
       " <chr> & <int> & <int> & <int> & <int> & <dbl> & <int> & <dbl> & <int>\\\\\n",
       "\\hline\n",
       "\t Azhar   & 2000 & 47 & 14 & 14 & 0.2978723 & 19 & 0.2978723 & 2\\\\\n",
       "\t Dravid  & 2008 & 25 &  8 &  6 & 0.3200000 & 11 & 0.2400000 & 2\\\\\n",
       "\t Mahi    & 2012 & 45 & 22 & 12 & 0.4888889 & 11 & 0.2666667 & 3\\\\\n",
       "\t Pataudi & 1965 & 40 &  9 & 19 & 0.2250000 & 12 & 0.4750000 & 1\\\\\n",
       "\t Sourav  & 2004 & 49 & 21 & 13 & 0.4285714 & 15 & 0.2653061 & 2\\\\\n",
       "\t Sunny   & 1980 & 47 &  9 &  8 & 0.1914894 & 30 & 0.1702128 & 2\\\\\n",
       "\\end{tabular}\n"
      ],
      "text/markdown": [
       "\n",
       "A data.frame: 6 × 9\n",
       "\n",
       "| names &lt;chr&gt; | Y &lt;int&gt; | played &lt;int&gt; | won &lt;int&gt; | lost &lt;int&gt; | victory &lt;dbl&gt; | drawn &lt;int&gt; | defeat &lt;dbl&gt; | formats &lt;int&gt; |\n",
       "|---|---|---|---|---|---|---|---|---|\n",
       "| Azhar   | 2000 | 47 | 14 | 14 | 0.2978723 | 19 | 0.2978723 | 2 |\n",
       "| Dravid  | 2008 | 25 |  8 |  6 | 0.3200000 | 11 | 0.2400000 | 2 |\n",
       "| Mahi    | 2012 | 45 | 22 | 12 | 0.4888889 | 11 | 0.2666667 | 3 |\n",
       "| Pataudi | 1965 | 40 |  9 | 19 | 0.2250000 | 12 | 0.4750000 | 1 |\n",
       "| Sourav  | 2004 | 49 | 21 | 13 | 0.4285714 | 15 | 0.2653061 | 2 |\n",
       "| Sunny   | 1980 | 47 |  9 |  8 | 0.1914894 | 30 | 0.1702128 | 2 |\n",
       "\n"
      ],
      "text/plain": [
       "  names   Y    played won lost victory   drawn defeat    formats\n",
       "1 Azhar   2000 47     14  14   0.2978723 19    0.2978723 2      \n",
       "2 Dravid  2008 25      8   6   0.3200000 11    0.2400000 2      \n",
       "3 Mahi    2012 45     22  12   0.4888889 11    0.2666667 3      \n",
       "4 Pataudi 1965 40      9  19   0.2250000 12    0.4750000 1      \n",
       "5 Sourav  2004 49     21  13   0.4285714 15    0.2653061 2      \n",
       "6 Sunny   1980 47      9   8   0.1914894 30    0.1702128 2      "
      ]
     },
     "metadata": {},
     "output_type": "display_data"
    }
   ],
   "source": [
    "cap <- merge(cap,cap2)\n",
    "cap"
   ]
  },
  {
   "cell_type": "markdown",
   "id": "495a1903",
   "metadata": {},
   "source": [
    "Importing data in different format"
   ]
  },
  {
   "cell_type": "code",
   "execution_count": 41,
   "id": "b0488d15",
   "metadata": {},
   "outputs": [
    {
     "name": "stderr",
     "output_type": "stream",
     "text": [
      "Installing package into 'C:/Users/Yash/AppData/Local/R/win-library/4.2'\n",
      "(as 'lib' is unspecified)\n",
      "\n"
     ]
    },
    {
     "name": "stdout",
     "output_type": "stream",
     "text": [
      "package 'XML' successfully unpacked and MD5 sums checked\n",
      "\n",
      "The downloaded binary packages are in\n",
      "\tC:\\Users\\Yash\\AppData\\Local\\Temp\\Rtmp88zaKq\\downloaded_packages\n"
     ]
    }
   ],
   "source": [
    "install.packages(\"XML\")"
   ]
  },
  {
   "cell_type": "code",
   "execution_count": 44,
   "id": "8e3e75fd",
   "metadata": {},
   "outputs": [],
   "source": [
    "library(XML)"
   ]
  },
  {
   "cell_type": "code",
   "execution_count": 49,
   "id": "35c3e7cf",
   "metadata": {},
   "outputs": [
    {
     "data": {
      "text/html": [
       "<table class=\"dataframe\">\n",
       "<caption>A data.frame: 6 × 6</caption>\n",
       "<thead>\n",
       "\t<tr><th scope=col>names</th><th scope=col>Y</th><th scope=col>played</th><th scope=col>won</th><th scope=col>lost</th><th scope=col>victory</th></tr>\n",
       "\t<tr><th scope=col>&lt;chr&gt;</th><th scope=col>&lt;chr&gt;</th><th scope=col>&lt;chr&gt;</th><th scope=col>&lt;chr&gt;</th><th scope=col>&lt;chr&gt;</th><th scope=col>&lt;chr&gt;</th></tr>\n",
       "</thead>\n",
       "<tbody>\n",
       "\t<tr><td>Mahi   </td><td>2012</td><td>45</td><td>22</td><td>12</td><td>0.488888888888889</td></tr>\n",
       "\t<tr><td>Sourav </td><td>2004</td><td>49</td><td>21</td><td>13</td><td>0.428571428571429</td></tr>\n",
       "\t<tr><td>Azhar  </td><td>2000</td><td>47</td><td>14</td><td>14</td><td>0.297872340425532</td></tr>\n",
       "\t<tr><td>Sunny  </td><td>1980</td><td>47</td><td>9 </td><td>8 </td><td>0.191489361702128</td></tr>\n",
       "\t<tr><td>Pataudi</td><td>1965</td><td>40</td><td>9 </td><td>19</td><td>0.225            </td></tr>\n",
       "\t<tr><td>Dravid </td><td>2008</td><td>25</td><td>8 </td><td>6 </td><td>0.32             </td></tr>\n",
       "</tbody>\n",
       "</table>\n"
      ],
      "text/latex": [
       "A data.frame: 6 × 6\n",
       "\\begin{tabular}{llllll}\n",
       " names & Y & played & won & lost & victory\\\\\n",
       " <chr> & <chr> & <chr> & <chr> & <chr> & <chr>\\\\\n",
       "\\hline\n",
       "\t Mahi    & 2012 & 45 & 22 & 12 & 0.488888888888889\\\\\n",
       "\t Sourav  & 2004 & 49 & 21 & 13 & 0.428571428571429\\\\\n",
       "\t Azhar   & 2000 & 47 & 14 & 14 & 0.297872340425532\\\\\n",
       "\t Sunny   & 1980 & 47 & 9  & 8  & 0.191489361702128\\\\\n",
       "\t Pataudi & 1965 & 40 & 9  & 19 & 0.225            \\\\\n",
       "\t Dravid  & 2008 & 25 & 8  & 6  & 0.32             \\\\\n",
       "\\end{tabular}\n"
      ],
      "text/markdown": [
       "\n",
       "A data.frame: 6 × 6\n",
       "\n",
       "| names &lt;chr&gt; | Y &lt;chr&gt; | played &lt;chr&gt; | won &lt;chr&gt; | lost &lt;chr&gt; | victory &lt;chr&gt; |\n",
       "|---|---|---|---|---|---|\n",
       "| Mahi    | 2012 | 45 | 22 | 12 | 0.488888888888889 |\n",
       "| Sourav  | 2004 | 49 | 21 | 13 | 0.428571428571429 |\n",
       "| Azhar   | 2000 | 47 | 14 | 14 | 0.297872340425532 |\n",
       "| Sunny   | 1980 | 47 | 9  | 8  | 0.191489361702128 |\n",
       "| Pataudi | 1965 | 40 | 9  | 19 | 0.225             |\n",
       "| Dravid  | 2008 | 25 | 8  | 6  | 0.32              |\n",
       "\n"
      ],
      "text/plain": [
       "  names   Y    played won lost victory          \n",
       "1 Mahi    2012 45     22  12   0.488888888888889\n",
       "2 Sourav  2004 49     21  13   0.428571428571429\n",
       "3 Azhar   2000 47     14  14   0.297872340425532\n",
       "4 Sunny   1980 47     9   8    0.191489361702128\n",
       "5 Pataudi 1965 40     9   19   0.225            \n",
       "6 Dravid  2008 25     8   6    0.32             "
      ]
     },
     "metadata": {},
     "output_type": "display_data"
    }
   ],
   "source": [
    "xmldata <- xmlToDataFrame(\"CaptaincyData.xml\")\n",
    "xmldata"
   ]
  },
  {
   "cell_type": "code",
   "execution_count": 50,
   "id": "5742d797",
   "metadata": {},
   "outputs": [
    {
     "data": {
      "text/html": [
       "<table class=\"dataframe\">\n",
       "<caption>A data.frame: 6 × 6</caption>\n",
       "<thead>\n",
       "\t<tr><th></th><th scope=col>names</th><th scope=col>Y</th><th scope=col>played</th><th scope=col>won</th><th scope=col>lost</th><th scope=col>victory</th></tr>\n",
       "\t<tr><th></th><th scope=col>&lt;chr&gt;</th><th scope=col>&lt;int&gt;</th><th scope=col>&lt;int&gt;</th><th scope=col>&lt;int&gt;</th><th scope=col>&lt;int&gt;</th><th scope=col>&lt;dbl&gt;</th></tr>\n",
       "</thead>\n",
       "<tbody>\n",
       "\t<tr><th scope=row>1</th><td>Mahi   </td><td>2012</td><td>45</td><td>22</td><td>12</td><td>0.4888889</td></tr>\n",
       "\t<tr><th scope=row>2</th><td>Sourav </td><td>2004</td><td>49</td><td>21</td><td>13</td><td>0.4285714</td></tr>\n",
       "\t<tr><th scope=row>3</th><td>Azhar  </td><td>2000</td><td>47</td><td>14</td><td>14</td><td>0.2978723</td></tr>\n",
       "\t<tr><th scope=row>4</th><td>Sunny  </td><td>1980</td><td>47</td><td> 9</td><td> 8</td><td>0.1914894</td></tr>\n",
       "\t<tr><th scope=row>5</th><td>Pataudi</td><td>1965</td><td>40</td><td> 9</td><td>19</td><td>0.2250000</td></tr>\n",
       "\t<tr><th scope=row>6</th><td>Dravid </td><td>2008</td><td>25</td><td> 8</td><td> 6</td><td>0.3200000</td></tr>\n",
       "</tbody>\n",
       "</table>\n"
      ],
      "text/latex": [
       "A data.frame: 6 × 6\n",
       "\\begin{tabular}{r|llllll}\n",
       "  & names & Y & played & won & lost & victory\\\\\n",
       "  & <chr> & <int> & <int> & <int> & <int> & <dbl>\\\\\n",
       "\\hline\n",
       "\t1 & Mahi    & 2012 & 45 & 22 & 12 & 0.4888889\\\\\n",
       "\t2 & Sourav  & 2004 & 49 & 21 & 13 & 0.4285714\\\\\n",
       "\t3 & Azhar   & 2000 & 47 & 14 & 14 & 0.2978723\\\\\n",
       "\t4 & Sunny   & 1980 & 47 &  9 &  8 & 0.1914894\\\\\n",
       "\t5 & Pataudi & 1965 & 40 &  9 & 19 & 0.2250000\\\\\n",
       "\t6 & Dravid  & 2008 & 25 &  8 &  6 & 0.3200000\\\\\n",
       "\\end{tabular}\n"
      ],
      "text/markdown": [
       "\n",
       "A data.frame: 6 × 6\n",
       "\n",
       "| <!--/--> | names &lt;chr&gt; | Y &lt;int&gt; | played &lt;int&gt; | won &lt;int&gt; | lost &lt;int&gt; | victory &lt;dbl&gt; |\n",
       "|---|---|---|---|---|---|---|\n",
       "| 1 | Mahi    | 2012 | 45 | 22 | 12 | 0.4888889 |\n",
       "| 2 | Sourav  | 2004 | 49 | 21 | 13 | 0.4285714 |\n",
       "| 3 | Azhar   | 2000 | 47 | 14 | 14 | 0.2978723 |\n",
       "| 4 | Sunny   | 1980 | 47 |  9 |  8 | 0.1914894 |\n",
       "| 5 | Pataudi | 1965 | 40 |  9 | 19 | 0.2250000 |\n",
       "| 6 | Dravid  | 2008 | 25 |  8 |  6 | 0.3200000 |\n",
       "\n"
      ],
      "text/plain": [
       "  names   Y    played won lost victory  \n",
       "1 Mahi    2012 45     22  12   0.4888889\n",
       "2 Sourav  2004 49     21  13   0.4285714\n",
       "3 Azhar   2000 47     14  14   0.2978723\n",
       "4 Sunny   1980 47      9   8   0.1914894\n",
       "5 Pataudi 1965 40      9  19   0.2250000\n",
       "6 Dravid  2008 25      8   6   0.3200000"
      ]
     },
     "metadata": {},
     "output_type": "display_data"
    }
   ],
   "source": [
    "textdata <- read.table(\"CaptaincyData.txt\")\n",
    "textdata"
   ]
  },
  {
   "cell_type": "code",
   "execution_count": null,
   "id": "d3a1363c",
   "metadata": {},
   "outputs": [],
   "source": []
  }
 ],
 "metadata": {
  "kernelspec": {
   "display_name": "R",
   "language": "R",
   "name": "ir"
  },
  "language_info": {
   "codemirror_mode": "r",
   "file_extension": ".r",
   "mimetype": "text/x-r-source",
   "name": "R",
   "pygments_lexer": "r",
   "version": "4.2.1"
  }
 },
 "nbformat": 4,
 "nbformat_minor": 5
}
